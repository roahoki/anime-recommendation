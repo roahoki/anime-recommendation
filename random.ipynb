{
 "cells": [
  {
   "cell_type": "code",
   "execution_count": 4,
   "metadata": {},
   "outputs": [],
   "source": [
    "import pandas as pd\n",
    "import numpy as np\n",
    "import scipy.sparse as sparse\n",
    "import random"
   ]
  },
  {
   "cell_type": "code",
   "execution_count": null,
   "metadata": {},
   "outputs": [],
   "source": [
    "# TODO: Get dataset from external url"
   ]
  },
  {
   "cell_type": "code",
   "execution_count": 8,
   "metadata": {},
   "outputs": [
    {
     "data": {
      "text/html": [
       "<div>\n",
       "<style scoped>\n",
       "    .dataframe tbody tr th:only-of-type {\n",
       "        vertical-align: middle;\n",
       "    }\n",
       "\n",
       "    .dataframe tbody tr th {\n",
       "        vertical-align: top;\n",
       "    }\n",
       "\n",
       "    .dataframe thead th {\n",
       "        text-align: right;\n",
       "    }\n",
       "</style>\n",
       "<table border=\"1\" class=\"dataframe\">\n",
       "  <thead>\n",
       "    <tr style=\"text-align: right;\">\n",
       "      <th></th>\n",
       "      <th>user_id</th>\n",
       "      <th>item_id</th>\n",
       "      <th>rating</th>\n",
       "    </tr>\n",
       "  </thead>\n",
       "  <tbody>\n",
       "    <tr>\n",
       "      <th>0</th>\n",
       "      <td>20881</td>\n",
       "      <td>1536</td>\n",
       "      <td>9</td>\n",
       "    </tr>\n",
       "    <tr>\n",
       "      <th>1</th>\n",
       "      <td>25996</td>\n",
       "      <td>1241</td>\n",
       "      <td>8</td>\n",
       "    </tr>\n",
       "    <tr>\n",
       "      <th>2</th>\n",
       "      <td>25409</td>\n",
       "      <td>8668</td>\n",
       "      <td>7</td>\n",
       "    </tr>\n",
       "    <tr>\n",
       "      <th>3</th>\n",
       "      <td>29728</td>\n",
       "      <td>6325</td>\n",
       "      <td>5</td>\n",
       "    </tr>\n",
       "    <tr>\n",
       "      <th>4</th>\n",
       "      <td>71886</td>\n",
       "      <td>1887</td>\n",
       "      <td>9</td>\n",
       "    </tr>\n",
       "  </tbody>\n",
       "</table>\n",
       "</div>"
      ],
      "text/plain": [
       "   user_id  item_id  rating\n",
       "0    20881     1536       9\n",
       "1    25996     1241       8\n",
       "2    25409     8668       7\n",
       "3    29728     6325       5\n",
       "4    71886     1887       9"
      ]
     },
     "execution_count": 8,
     "metadata": {},
     "output_type": "execute_result"
    }
   ],
   "source": [
    "df_train = pd.read_csv('dataset/train.csv',\n",
    "                         sep=',',\n",
    "                         names = ['user_id','item_id','rating'],\n",
    "                         header=None)\n",
    "\n",
    "df_items = pd.read_csv('dataset/anime.csv',\n",
    "                        sep=',',\n",
    "                        names = ['anime_id','name','genre','type','episodes','rating','members'],\n",
    "                        header=None,\n",
    "                        encoding='latin-1')\n",
    "\n",
    "df_train.head()"
   ]
  },
  {
   "cell_type": "code",
   "execution_count": 5,
   "metadata": {},
   "outputs": [],
   "source": [
    "unique_user_ids = df_train['user_id'].unique()\n",
    "unique_item_ids = df_train['item_id'].unique()\n",
    "\n",
    "user_id_map = {uid: idx for idx, uid in enumerate(unique_user_ids)}\n",
    "item_id_map = {iid: idx for idx, iid in enumerate(unique_item_ids)}\n",
    "reverse_item_id_map = {idx: iid for iid, idx in item_id_map.items()} \n",
    "\n",
    "rows = []\n",
    "cols = []\n",
    "data = []\n",
    "\n",
    "for row in df_train.itertuples(index=False):\n",
    "    user_idx = user_id_map[row.user_id]\n",
    "    item_idx = item_id_map[row.item_id]\n",
    "\n",
    "    rows.append(user_idx)\n",
    "    cols.append(item_idx)\n",
    "    data.append(1)\n",
    "\n",
    "user_item_matrix = sparse.csr_matrix((data, (rows, cols)), shape=(len(user_id_map), len(item_id_map)))"
   ]
  },
  {
   "cell_type": "code",
   "execution_count": 6,
   "metadata": {},
   "outputs": [],
   "source": [
    "def recommend_random(user_idx, user_items, N=10):\n",
    "    seen_items = set(user_items.indices)\n",
    "    all_items = set(range(user_item_matrix.shape[1]))\n",
    "    unseen_items = list(all_items - seen_items)\n",
    "\n",
    "    if len(unseen_items) < N:\n",
    "        N = len(unseen_items)\n",
    "\n",
    "    recommended_items = random.sample(unseen_items, N)\n",
    "    return recommended_items\n",
    "\n",
    "def show_recommendations_random(user_id, n):\n",
    "    user_idx = user_id_map[user_id]\n",
    "    user_items = user_item_matrix[user_idx]\n",
    "    rec = recommend_random(user_idx, user_items, N=n)\n",
    "    return df_items[df_items['anime_id'].isin([reverse_item_id_map[i] for i in rec])]['name']"
   ]
  },
  {
   "cell_type": "code",
   "execution_count": 9,
   "metadata": {},
   "outputs": [
    {
     "name": "stdout",
     "output_type": "stream",
     "text": [
      "26                    Tengen Toppa Gurren Lagann\n",
      "128                                    Toradora!\n",
      "369                        Initial D Fifth Stage\n",
      "527                        Little Witch Academia\n",
      "1575    Sakasama no Patema: Beginning of the Day\n",
      "2440                           Fushigi Yuugi OVA\n",
      "2926             Shinmai Maou no Testament Burst\n",
      "3010                           Asura Cryin&#039;\n",
      "3829                      Ladies versus Butlers!\n",
      "6963                        PES: Peace Eco Smile\n",
      "Name: name, dtype: object\n"
     ]
    }
   ],
   "source": [
    "print(show_recommendations_random(user_id=20881, n=10))\n"
   ]
  }
 ],
 "metadata": {
  "kernelspec": {
   "display_name": "venv",
   "language": "python",
   "name": "python3"
  },
  "language_info": {
   "codemirror_mode": {
    "name": "ipython",
    "version": 3
   },
   "file_extension": ".py",
   "mimetype": "text/x-python",
   "name": "python",
   "nbconvert_exporter": "python",
   "pygments_lexer": "ipython3",
   "version": "3.10.0"
  }
 },
 "nbformat": 4,
 "nbformat_minor": 2
}
