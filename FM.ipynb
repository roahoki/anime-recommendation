{
 "cells": [
  {
   "cell_type": "markdown",
   "id": "220f33f0",
   "metadata": {},
   "source": [
    "# FM"
   ]
  },
  {
   "cell_type": "code",
   "execution_count": 2,
   "id": "ed872e20",
   "metadata": {},
   "outputs": [
    {
     "name": "stdout",
     "output_type": "stream",
     "text": [
      "Collecting lightfm\n",
      "  Using cached lightfm-1.17.tar.gz (316 kB)\n",
      "Requirement already satisfied: numpy in ./t1recsys/lib/python3.8/site-packages (from lightfm) (1.24.4)\n",
      "Requirement already satisfied: requests in ./t1recsys/lib/python3.8/site-packages (from lightfm) (2.32.3)\n",
      "Requirement already satisfied: scikit-learn in ./t1recsys/lib/python3.8/site-packages (from lightfm) (1.3.2)\n",
      "Requirement already satisfied: scipy>=0.17.0 in ./t1recsys/lib/python3.8/site-packages (from lightfm) (1.10.1)\n",
      "Requirement already satisfied: certifi>=2017.4.17 in ./t1recsys/lib/python3.8/site-packages (from requests->lightfm) (2025.1.31)\n",
      "Requirement already satisfied: urllib3<3,>=1.21.1 in ./t1recsys/lib/python3.8/site-packages (from requests->lightfm) (2.2.3)\n",
      "Requirement already satisfied: idna<4,>=2.5 in ./t1recsys/lib/python3.8/site-packages (from requests->lightfm) (3.10)\n",
      "Requirement already satisfied: charset-normalizer<4,>=2 in ./t1recsys/lib/python3.8/site-packages (from requests->lightfm) (3.4.1)\n",
      "Requirement already satisfied: joblib>=1.1.1 in ./t1recsys/lib/python3.8/site-packages (from scikit-learn->lightfm) (1.4.2)\n",
      "Requirement already satisfied: threadpoolctl>=2.0.0 in ./t1recsys/lib/python3.8/site-packages (from scikit-learn->lightfm) (3.5.0)\n",
      "Building wheels for collected packages: lightfm\n",
      "  Building wheel for lightfm (setup.py) ... \u001b[?25lerror\n",
      "\u001b[31m  ERROR: Command errored out with exit status 1:\n",
      "   command: /home/roa/universidad/recsys/anime-recommendation/t1recsys/bin/python -u -c 'import sys, setuptools, tokenize; sys.argv[0] = '\"'\"'/tmp/pip-install-8fachine/lightfm/setup.py'\"'\"'; __file__='\"'\"'/tmp/pip-install-8fachine/lightfm/setup.py'\"'\"';f=getattr(tokenize, '\"'\"'open'\"'\"', open)(__file__);code=f.read().replace('\"'\"'\\r\\n'\"'\"', '\"'\"'\\n'\"'\"');f.close();exec(compile(code, __file__, '\"'\"'exec'\"'\"'))' bdist_wheel -d /tmp/pip-wheel-d17v524_\n",
      "       cwd: /tmp/pip-install-8fachine/lightfm/\n",
      "  Complete output (6 lines):\n",
      "  usage: setup.py [global_opts] cmd1 [cmd1_opts] [cmd2 [cmd2_opts] ...]\n",
      "     or: setup.py --help [cmd1 cmd2 ...]\n",
      "     or: setup.py --help-commands\n",
      "     or: setup.py cmd --help\n",
      "  \n",
      "  error: invalid command 'bdist_wheel'\n",
      "  ----------------------------------------\u001b[0m\n",
      "\u001b[31m  ERROR: Failed building wheel for lightfm\u001b[0m\n",
      "\u001b[?25h  Running setup.py clean for lightfm\n",
      "Failed to build lightfm\n",
      "Installing collected packages: lightfm\n",
      "    Running setup.py install for lightfm ... \u001b[?25ldone\n",
      "\u001b[?25hSuccessfully installed lightfm-1.17\n",
      "Note: you may need to restart the kernel to use updated packages.\n"
     ]
    }
   ],
   "source": [
    "%pip install lightfm"
   ]
  },
  {
   "cell_type": "code",
   "execution_count": 2,
   "id": "73059e31",
   "metadata": {},
   "outputs": [
    {
     "name": "stdout",
     "output_type": "stream",
     "text": [
      "Collecting Cython\n",
      "  Using cached Cython-3.0.12-cp38-cp38-manylinux_2_17_x86_64.manylinux2014_x86_64.whl (3.6 MB)\n",
      "Requirement already satisfied: numpy<2.0.0 in ./t1recsys/lib/python3.8/site-packages (1.24.4)\n",
      "Requirement already satisfied: scipy<=1.13.1 in ./t1recsys/lib/python3.8/site-packages (1.10.1)\n",
      "Requirement already satisfied: tqdm in ./t1recsys/lib/python3.8/site-packages (4.67.1)\n",
      "Collecting powerlaw\n",
      "  Downloading powerlaw-1.5-py3-none-any.whl (24 kB)\n",
      "Requirement already satisfied: matplotlib in ./t1recsys/lib/python3.8/site-packages (from powerlaw) (3.7.5)\n",
      "Collecting mpmath\n",
      "  Downloading mpmath-1.3.0-py3-none-any.whl (536 kB)\n",
      "\u001b[K     |████████████████████████████████| 536 kB 22.1 MB/s eta 0:00:01\n",
      "\u001b[?25hRequirement already satisfied: pyparsing>=2.3.1 in ./t1recsys/lib/python3.8/site-packages (from matplotlib->powerlaw) (3.1.4)\n",
      "Requirement already satisfied: packaging>=20.0 in ./t1recsys/lib/python3.8/site-packages (from matplotlib->powerlaw) (24.2)\n",
      "Requirement already satisfied: python-dateutil>=2.7 in ./t1recsys/lib/python3.8/site-packages (from matplotlib->powerlaw) (2.9.0.post0)\n",
      "Requirement already satisfied: contourpy>=1.0.1 in ./t1recsys/lib/python3.8/site-packages (from matplotlib->powerlaw) (1.1.1)\n",
      "Requirement already satisfied: fonttools>=4.22.0 in ./t1recsys/lib/python3.8/site-packages (from matplotlib->powerlaw) (4.57.0)\n",
      "Requirement already satisfied: kiwisolver>=1.0.1 in ./t1recsys/lib/python3.8/site-packages (from matplotlib->powerlaw) (1.4.7)\n",
      "Requirement already satisfied: importlib-resources>=3.2.0; python_version < \"3.10\" in ./t1recsys/lib/python3.8/site-packages (from matplotlib->powerlaw) (6.4.5)\n",
      "Requirement already satisfied: pillow>=6.2.0 in ./t1recsys/lib/python3.8/site-packages (from matplotlib->powerlaw) (10.4.0)\n",
      "Requirement already satisfied: cycler>=0.10 in ./t1recsys/lib/python3.8/site-packages (from matplotlib->powerlaw) (0.12.1)\n",
      "Requirement already satisfied: six>=1.5 in ./t1recsys/lib/python3.8/site-packages (from python-dateutil>=2.7->matplotlib->powerlaw) (1.17.0)\n",
      "Requirement already satisfied: zipp>=3.1.0; python_version < \"3.10\" in ./t1recsys/lib/python3.8/site-packages (from importlib-resources>=3.2.0; python_version < \"3.10\"->matplotlib->powerlaw) (3.20.2)\n",
      "Installing collected packages: Cython, mpmath, powerlaw\n",
      "Successfully installed Cython-3.0.12 mpmath-1.3.0 powerlaw-1.5\n",
      "Note: you may need to restart the kernel to use updated packages.\n"
     ]
    }
   ],
   "source": [
    "%pip install Cython \"numpy<2.0.0\" \"scipy<=1.13.1\" tqdm powerlaw"
   ]
  },
  {
   "cell_type": "code",
   "execution_count": 1,
   "id": "a99266f7",
   "metadata": {},
   "outputs": [
    {
     "name": "stdout",
     "output_type": "stream",
     "text": [
      "Collecting recommenders\n",
      "  Using cached recommenders-1.2.1-py3-none-any.whl (355 kB)\n",
      "Collecting retrying<2,>=1.3.4\n",
      "  Using cached retrying-1.3.4-py3-none-any.whl (11 kB)\n",
      "Collecting memory-profiler<1,>=0.61.0\n",
      "  Using cached memory_profiler-0.61.0-py3-none-any.whl (31 kB)\n",
      "Requirement already satisfied: seaborn<1,>=0.13.0 in ./t1recsys/lib/python3.8/site-packages (from recommenders) (0.13.2)\n",
      "Collecting hyperopt<1,>=0.2.7\n",
      "  Downloading hyperopt-0.2.7-py2.py3-none-any.whl (1.6 MB)\n",
      "\u001b[K     |████████████████████████████████| 1.6 MB 8.6 MB/s eta 0:00:01\n",
      "\u001b[?25hCollecting lightgbm<5,>=4.0.0\n",
      "  Using cached lightgbm-4.6.0.tar.gz (1.7 MB)\n",
      "  Installing build dependencies ... \u001b[?25ldone\n",
      "\u001b[?25h  Getting requirements to build wheel ... \u001b[?25ldone\n",
      "\u001b[?25h  Installing backend dependencies ... \u001b[?25ldone\n",
      "\u001b[?25h    Preparing wheel metadata ... \u001b[?25ldone\n",
      "\u001b[?25hCollecting pandera[strategies]<0.18,>=0.6.5; python_version <= \"3.8\"\n",
      "  Using cached pandera-0.17.2-py3-none-any.whl (203 kB)\n",
      "Requirement already satisfied: scikit-learn<2,>=1.2.0 in ./t1recsys/lib/python3.8/site-packages (from recommenders) (1.3.2)\n",
      "Collecting category-encoders<3,>=2.6.0\n",
      "  Using cached category_encoders-2.6.4-py2.py3-none-any.whl (82 kB)\n",
      "Collecting locust<3,>=2.12.2\n",
      "  Using cached locust-2.25.0-py3-none-any.whl (1.4 MB)\n",
      "Requirement already satisfied: scikit-surprise>=1.1.3 in ./t1recsys/lib/python3.8/site-packages (from recommenders) (1.1.4)\n",
      "Requirement already satisfied: notebook<8,>=6.5.5 in ./t1recsys/lib/python3.8/site-packages (from recommenders) (7.3.3)\n",
      "Collecting statsmodels<=0.14.1; python_version <= \"3.8\"\n",
      "  Using cached statsmodels-0.14.1-cp38-cp38-manylinux_2_17_x86_64.manylinux2014_x86_64.whl (10.9 MB)\n",
      "Collecting nltk<4,>=3.8.1\n",
      "  Using cached nltk-3.9.1-py3-none-any.whl (1.5 MB)\n",
      "Collecting cornac<3,>=1.15.2\n",
      "  Using cached cornac-2.3.0.tar.gz (5.9 MB)\n",
      "Collecting transformers<5,>=4.27.0\n",
      "  Using cached transformers-4.46.3-py3-none-any.whl (10.0 MB)\n",
      "Collecting numba<1,>=0.57.0\n",
      "  Using cached numba-0.58.1-cp38-cp38-manylinux2014_x86_64.manylinux_2_17_x86_64.whl (3.7 MB)\n",
      "Requirement already satisfied: pandas<3.0.0,>2.0.0 in ./t1recsys/lib/python3.8/site-packages (from recommenders) (2.0.3)\n",
      "Requirement already satisfied: six>=1.7.0 in ./t1recsys/lib/python3.8/site-packages (from retrying<2,>=1.3.4->recommenders) (1.17.0)\n",
      "Requirement already satisfied: psutil in ./t1recsys/lib/python3.8/site-packages (from memory-profiler<1,>=0.61.0->recommenders) (7.0.0)\n",
      "Requirement already satisfied: numpy!=1.24.0,>=1.20 in ./t1recsys/lib/python3.8/site-packages (from seaborn<1,>=0.13.0->recommenders) (1.24.4)\n",
      "Requirement already satisfied: matplotlib!=3.6.1,>=3.4 in ./t1recsys/lib/python3.8/site-packages (from seaborn<1,>=0.13.0->recommenders) (3.7.5)\n",
      "Requirement already satisfied: scipy in ./t1recsys/lib/python3.8/site-packages (from hyperopt<1,>=0.2.7->recommenders) (1.10.1)\n",
      "Collecting cloudpickle\n",
      "  Downloading cloudpickle-3.1.1-py3-none-any.whl (20 kB)\n",
      "Collecting networkx>=2.2\n",
      "  Using cached networkx-3.1-py3-none-any.whl (2.1 MB)\n",
      "Collecting py4j\n",
      "  Downloading py4j-0.10.9.9-py2.py3-none-any.whl (203 kB)\n",
      "\u001b[K     |████████████████████████████████| 203 kB 24.1 MB/s eta 0:00:01\n",
      "\u001b[?25hRequirement already satisfied: tqdm in ./t1recsys/lib/python3.8/site-packages (from hyperopt<1,>=0.2.7->recommenders) (4.67.1)\n",
      "Collecting future\n",
      "  Using cached future-1.0.0-py3-none-any.whl (491 kB)\n",
      "Requirement already satisfied: packaging>=20.0 in ./t1recsys/lib/python3.8/site-packages (from pandera[strategies]<0.18,>=0.6.5; python_version <= \"3.8\"->recommenders) (24.2)\n",
      "Collecting pydantic\n",
      "  Downloading pydantic-2.10.6-py3-none-any.whl (431 kB)\n",
      "\u001b[K     |████████████████████████████████| 431 kB 51.5 MB/s eta 0:00:01\n",
      "\u001b[?25hCollecting typing-inspect>=0.6.0\n",
      "  Downloading typing_inspect-0.9.0-py3-none-any.whl (8.8 kB)\n",
      "Collecting multimethod\n",
      "  Downloading multimethod-1.10-py3-none-any.whl (9.9 kB)\n",
      "Collecting typeguard>=3.0.2\n",
      "  Downloading typeguard-4.4.0-py3-none-any.whl (35 kB)\n",
      "Collecting wrapt\n",
      "  Downloading wrapt-1.17.2-cp38-cp38-manylinux_2_5_x86_64.manylinux1_x86_64.manylinux_2_17_x86_64.manylinux2014_x86_64.whl (85 kB)\n",
      "\u001b[K     |████████████████████████████████| 85 kB 6.4 MB/s  eta 0:00:01\n",
      "\u001b[?25hCollecting hypothesis>=5.41.1; extra == \"strategies\"\n",
      "  Downloading hypothesis-6.113.0-py3-none-any.whl (469 kB)\n",
      "\u001b[K     |████████████████████████████████| 469 kB 58.0 MB/s eta 0:00:01\n",
      "\u001b[?25hRequirement already satisfied: threadpoolctl>=2.0.0 in ./t1recsys/lib/python3.8/site-packages (from scikit-learn<2,>=1.2.0->recommenders) (3.5.0)\n",
      "Requirement already satisfied: joblib>=1.1.1 in ./t1recsys/lib/python3.8/site-packages (from scikit-learn<2,>=1.2.0->recommenders) (1.4.2)\n",
      "Collecting patsy>=0.5.1\n",
      "  Downloading patsy-1.0.1-py2.py3-none-any.whl (232 kB)\n",
      "\u001b[K     |████████████████████████████████| 232 kB 42.7 MB/s eta 0:00:01\n",
      "\u001b[?25hRequirement already satisfied: importlib-resources; python_version < \"3.9\" in ./t1recsys/lib/python3.8/site-packages (from category-encoders<3,>=2.6.0->recommenders) (6.4.5)\n",
      "Requirement already satisfied: pyzmq>=25.0.0 in ./t1recsys/lib/python3.8/site-packages (from locust<3,>=2.12.2->recommenders) (26.4.0)\n",
      "Collecting roundrobin>=0.0.2\n",
      "  Downloading roundrobin-0.0.4.tar.gz (3.4 kB)\n",
      "Collecting ConfigArgParse>=1.5.5\n",
      "  Downloading ConfigArgParse-1.7-py3-none-any.whl (25 kB)\n",
      "Collecting Flask-Login>=0.6.3\n",
      "  Downloading Flask_Login-0.6.3-py3-none-any.whl (17 kB)\n",
      "Collecting msgpack>=1.0.0\n",
      "  Downloading msgpack-1.1.0-cp38-cp38-manylinux_2_17_x86_64.manylinux2014_x86_64.whl (381 kB)\n",
      "\u001b[K     |████████████████████████████████| 381 kB 26.6 MB/s eta 0:00:01\n",
      "\u001b[?25hCollecting Flask-Cors>=3.0.10\n",
      "  Downloading Flask_Cors-5.0.0-py2.py3-none-any.whl (14 kB)\n",
      "Collecting Werkzeug>=2.0.0\n",
      "  Downloading werkzeug-3.0.6-py3-none-any.whl (227 kB)\n",
      "\u001b[K     |████████████████████████████████| 227 kB 38.9 MB/s eta 0:00:01\n",
      "\u001b[?25hCollecting gevent>=22.10.2\n",
      "  Downloading gevent-24.2.1-cp38-cp38-manylinux_2_17_x86_64.manylinux2014_x86_64.whl (6.7 MB)\n",
      "\u001b[K     |████████████████████████████████| 6.7 MB 64.8 MB/s eta 0:00:01\n",
      "\u001b[?25hCollecting geventhttpclient>=2.0.11\n",
      "  Downloading geventhttpclient-2.0.12-cp38-cp38-manylinux_2_5_x86_64.manylinux1_x86_64.manylinux_2_17_x86_64.manylinux2014_x86_64.whl (104 kB)\n",
      "\u001b[K     |████████████████████████████████| 104 kB 34.6 MB/s eta 0:00:01\n",
      "\u001b[?25hRequirement already satisfied: tomli>=1.1.0; python_version < \"3.11\" in ./t1recsys/lib/python3.8/site-packages (from locust<3,>=2.12.2->recommenders) (2.2.1)\n",
      "Requirement already satisfied: requests>=2.26.0 in ./t1recsys/lib/python3.8/site-packages (from locust<3,>=2.12.2->recommenders) (2.32.3)\n",
      "Collecting flask>=2.0.0\n",
      "  Using cached flask-3.0.3-py3-none-any.whl (101 kB)\n",
      "Requirement already satisfied: jupyterlab-server<3,>=2.27.1 in ./t1recsys/lib/python3.8/site-packages (from notebook<8,>=6.5.5->recommenders) (2.27.3)\n",
      "Requirement already satisfied: jupyterlab<4.4,>=4.3.6 in ./t1recsys/lib/python3.8/site-packages (from notebook<8,>=6.5.5->recommenders) (4.3.6)\n",
      "Requirement already satisfied: tornado>=6.2.0 in ./t1recsys/lib/python3.8/site-packages (from notebook<8,>=6.5.5->recommenders) (6.4.2)\n",
      "Requirement already satisfied: jupyter-server<3,>=2.4.0 in ./t1recsys/lib/python3.8/site-packages (from notebook<8,>=6.5.5->recommenders) (2.14.2)\n",
      "Requirement already satisfied: notebook-shim<0.3,>=0.2 in ./t1recsys/lib/python3.8/site-packages (from notebook<8,>=6.5.5->recommenders) (0.2.4)\n",
      "Collecting click\n",
      "  Downloading click-8.1.8-py3-none-any.whl (98 kB)\n",
      "\u001b[K     |████████████████████████████████| 98 kB 10.0 MB/s eta 0:00:01\n",
      "\u001b[?25hCollecting regex>=2021.8.3\n",
      "  Downloading regex-2024.11.6-cp38-cp38-manylinux_2_17_x86_64.manylinux2014_x86_64.whl (785 kB)\n",
      "\u001b[K     |████████████████████████████████| 785 kB 68.0 MB/s eta 0:00:01\n",
      "\u001b[?25hRequirement already satisfied: powerlaw in ./t1recsys/lib/python3.8/site-packages (from cornac<3,>=1.15.2->recommenders) (1.5)\n",
      "Requirement already satisfied: pyyaml>=5.1 in ./t1recsys/lib/python3.8/site-packages (from transformers<5,>=4.27.0->recommenders) (6.0.2)\n",
      "Collecting filelock\n",
      "  Downloading filelock-3.16.1-py3-none-any.whl (16 kB)\n",
      "Collecting huggingface-hub<1.0,>=0.23.2\n",
      "  Downloading huggingface_hub-0.30.2-py3-none-any.whl (481 kB)\n",
      "\u001b[K     |████████████████████████████████| 481 kB 49.4 MB/s eta 0:00:01\n",
      "\u001b[?25hCollecting safetensors>=0.4.1\n",
      "  Downloading safetensors-0.5.3-cp38-abi3-manylinux_2_17_x86_64.manylinux2014_x86_64.whl (471 kB)\n",
      "\u001b[K     |████████████████████████████████| 471 kB 61.5 MB/s eta 0:00:01\n",
      "\u001b[?25hCollecting tokenizers<0.21,>=0.20\n",
      "  Downloading tokenizers-0.20.3-cp38-cp38-manylinux_2_17_x86_64.manylinux2014_x86_64.whl (3.0 MB)\n",
      "\u001b[K     |████████████████████████████████| 3.0 MB 16.4 MB/s eta 0:00:01\n",
      "\u001b[?25hRequirement already satisfied: importlib-metadata; python_version < \"3.9\" in ./t1recsys/lib/python3.8/site-packages (from numba<1,>=0.57.0->recommenders) (8.5.0)\n",
      "Collecting llvmlite<0.42,>=0.41.0dev0\n",
      "  Downloading llvmlite-0.41.1-cp38-cp38-manylinux_2_17_x86_64.manylinux2014_x86_64.whl (43.6 MB)\n",
      "\u001b[K     |████████████████████████████████| 43.6 MB 55 kB/s eta 0:00:016\n",
      "\u001b[?25hRequirement already satisfied: pytz>=2020.1 in ./t1recsys/lib/python3.8/site-packages (from pandas<3.0.0,>2.0.0->recommenders) (2025.2)\n",
      "Requirement already satisfied: python-dateutil>=2.8.2 in ./t1recsys/lib/python3.8/site-packages (from pandas<3.0.0,>2.0.0->recommenders) (2.9.0.post0)\n",
      "Requirement already satisfied: tzdata>=2022.1 in ./t1recsys/lib/python3.8/site-packages (from pandas<3.0.0,>2.0.0->recommenders) (2025.2)\n",
      "Requirement already satisfied: kiwisolver>=1.0.1 in ./t1recsys/lib/python3.8/site-packages (from matplotlib!=3.6.1,>=3.4->seaborn<1,>=0.13.0->recommenders) (1.4.7)\n",
      "Requirement already satisfied: pillow>=6.2.0 in ./t1recsys/lib/python3.8/site-packages (from matplotlib!=3.6.1,>=3.4->seaborn<1,>=0.13.0->recommenders) (10.4.0)\n",
      "Requirement already satisfied: contourpy>=1.0.1 in ./t1recsys/lib/python3.8/site-packages (from matplotlib!=3.6.1,>=3.4->seaborn<1,>=0.13.0->recommenders) (1.1.1)\n",
      "Requirement already satisfied: fonttools>=4.22.0 in ./t1recsys/lib/python3.8/site-packages (from matplotlib!=3.6.1,>=3.4->seaborn<1,>=0.13.0->recommenders) (4.57.0)\n",
      "Requirement already satisfied: cycler>=0.10 in ./t1recsys/lib/python3.8/site-packages (from matplotlib!=3.6.1,>=3.4->seaborn<1,>=0.13.0->recommenders) (0.12.1)\n",
      "Requirement already satisfied: pyparsing>=2.3.1 in ./t1recsys/lib/python3.8/site-packages (from matplotlib!=3.6.1,>=3.4->seaborn<1,>=0.13.0->recommenders) (3.1.4)\n",
      "Requirement already satisfied: typing-extensions>=4.12.2 in ./t1recsys/lib/python3.8/site-packages (from pydantic->pandera[strategies]<0.18,>=0.6.5; python_version <= \"3.8\"->recommenders) (4.13.1)\n",
      "Collecting annotated-types>=0.6.0\n",
      "  Using cached annotated_types-0.7.0-py3-none-any.whl (13 kB)\n",
      "Collecting pydantic-core==2.27.2\n",
      "  Downloading pydantic_core-2.27.2-cp38-cp38-manylinux_2_17_x86_64.manylinux2014_x86_64.whl (2.0 MB)\n",
      "\u001b[K     |████████████████████████████████| 2.0 MB 42.4 MB/s eta 0:00:01\n",
      "\u001b[?25hCollecting mypy-extensions>=0.3.0\n",
      "  Downloading mypy_extensions-1.0.0-py3-none-any.whl (4.7 kB)\n",
      "Collecting sortedcontainers<3.0.0,>=2.1.0\n",
      "  Using cached sortedcontainers-2.4.0-py2.py3-none-any.whl (29 kB)\n",
      "Requirement already satisfied: exceptiongroup>=1.0.0; python_version < \"3.11\" in ./t1recsys/lib/python3.8/site-packages (from hypothesis>=5.41.1; extra == \"strategies\"->pandera[strategies]<0.18,>=0.6.5; python_version <= \"3.8\"->recommenders) (1.2.2)\n",
      "Requirement already satisfied: attrs>=22.2.0 in ./t1recsys/lib/python3.8/site-packages (from hypothesis>=5.41.1; extra == \"strategies\"->pandera[strategies]<0.18,>=0.6.5; python_version <= \"3.8\"->recommenders) (25.3.0)\n",
      "Requirement already satisfied: zipp>=3.1.0; python_version < \"3.10\" in ./t1recsys/lib/python3.8/site-packages (from importlib-resources; python_version < \"3.9\"->category-encoders<3,>=2.6.0->recommenders) (3.20.2)\n",
      "Requirement already satisfied: MarkupSafe>=2.1.1 in ./t1recsys/lib/python3.8/site-packages (from Werkzeug>=2.0.0->locust<3,>=2.12.2->recommenders) (2.1.5)\n",
      "Collecting greenlet>=2.0.0; platform_python_implementation == \"CPython\" and python_version < \"3.11\"\n",
      "  Downloading greenlet-3.1.1-cp38-cp38-manylinux_2_17_x86_64.manylinux2014_x86_64.whl (650 kB)\n",
      "\u001b[K     |████████████████████████████████| 650 kB 38.9 MB/s eta 0:00:01\n",
      "\u001b[?25hCollecting zope.event\n",
      "  Downloading zope.event-5.0-py3-none-any.whl (6.8 kB)\n",
      "Collecting zope.interface\n",
      "  Downloading zope.interface-7.2-cp38-cp38-manylinux_2_5_x86_64.manylinux1_x86_64.manylinux_2_17_x86_64.manylinux2014_x86_64.whl (257 kB)\n",
      "\u001b[K     |████████████████████████████████| 257 kB 41.0 MB/s eta 0:00:01\n",
      "\u001b[?25hRequirement already satisfied: certifi in ./t1recsys/lib/python3.8/site-packages (from geventhttpclient>=2.0.11->locust<3,>=2.12.2->recommenders) (2025.1.31)\n",
      "Collecting brotli\n",
      "  Downloading Brotli-1.1.0-cp38-cp38-manylinux_2_5_x86_64.manylinux1_x86_64.whl (2.8 MB)\n",
      "\u001b[K     |████████████████████████████████| 2.8 MB 43.3 MB/s eta 0:00:01\n",
      "\u001b[?25hRequirement already satisfied: urllib3<3,>=1.21.1 in ./t1recsys/lib/python3.8/site-packages (from requests>=2.26.0->locust<3,>=2.12.2->recommenders) (2.2.3)\n",
      "Requirement already satisfied: idna<4,>=2.5 in ./t1recsys/lib/python3.8/site-packages (from requests>=2.26.0->locust<3,>=2.12.2->recommenders) (3.10)\n",
      "Requirement already satisfied: charset-normalizer<4,>=2 in ./t1recsys/lib/python3.8/site-packages (from requests>=2.26.0->locust<3,>=2.12.2->recommenders) (3.4.1)\n",
      "Collecting blinker>=1.6.2\n",
      "  Using cached blinker-1.8.2-py3-none-any.whl (9.5 kB)\n",
      "Collecting itsdangerous>=2.1.2\n",
      "  Using cached itsdangerous-2.2.0-py3-none-any.whl (16 kB)\n",
      "Requirement already satisfied: Jinja2>=3.1.2 in ./t1recsys/lib/python3.8/site-packages (from flask>=2.0.0->locust<3,>=2.12.2->recommenders) (3.1.6)\n",
      "Requirement already satisfied: babel>=2.10 in ./t1recsys/lib/python3.8/site-packages (from jupyterlab-server<3,>=2.27.1->notebook<8,>=6.5.5->recommenders) (2.17.0)\n",
      "Requirement already satisfied: json5>=0.9.0 in ./t1recsys/lib/python3.8/site-packages (from jupyterlab-server<3,>=2.27.1->notebook<8,>=6.5.5->recommenders) (0.12.0)\n",
      "Requirement already satisfied: jsonschema>=4.18.0 in ./t1recsys/lib/python3.8/site-packages (from jupyterlab-server<3,>=2.27.1->notebook<8,>=6.5.5->recommenders) (4.23.0)\n",
      "Requirement already satisfied: traitlets in ./t1recsys/lib/python3.8/site-packages (from jupyterlab<4.4,>=4.3.6->notebook<8,>=6.5.5->recommenders) (5.14.3)\n",
      "Requirement already satisfied: async-lru>=1.0.0 in ./t1recsys/lib/python3.8/site-packages (from jupyterlab<4.4,>=4.3.6->notebook<8,>=6.5.5->recommenders) (2.0.4)\n",
      "Requirement already satisfied: ipykernel>=6.5.0 in ./t1recsys/lib/python3.8/site-packages (from jupyterlab<4.4,>=4.3.6->notebook<8,>=6.5.5->recommenders) (6.29.5)\n",
      "Requirement already satisfied: setuptools>=40.8.0 in ./t1recsys/lib/python3.8/site-packages (from jupyterlab<4.4,>=4.3.6->notebook<8,>=6.5.5->recommenders) (44.0.0)\n",
      "Requirement already satisfied: jupyter-core in ./t1recsys/lib/python3.8/site-packages (from jupyterlab<4.4,>=4.3.6->notebook<8,>=6.5.5->recommenders) (5.7.2)\n",
      "Requirement already satisfied: httpx>=0.25.0 in ./t1recsys/lib/python3.8/site-packages (from jupyterlab<4.4,>=4.3.6->notebook<8,>=6.5.5->recommenders) (0.28.1)\n",
      "Requirement already satisfied: jupyter-lsp>=2.0.0 in ./t1recsys/lib/python3.8/site-packages (from jupyterlab<4.4,>=4.3.6->notebook<8,>=6.5.5->recommenders) (2.2.5)\n",
      "Requirement already satisfied: terminado>=0.8.3 in ./t1recsys/lib/python3.8/site-packages (from jupyter-server<3,>=2.4.0->notebook<8,>=6.5.5->recommenders) (0.18.1)\n",
      "Requirement already satisfied: send2trash>=1.8.2 in ./t1recsys/lib/python3.8/site-packages (from jupyter-server<3,>=2.4.0->notebook<8,>=6.5.5->recommenders) (1.8.3)\n",
      "Requirement already satisfied: argon2-cffi>=21.1 in ./t1recsys/lib/python3.8/site-packages (from jupyter-server<3,>=2.4.0->notebook<8,>=6.5.5->recommenders) (23.1.0)\n",
      "Requirement already satisfied: anyio>=3.1.0 in ./t1recsys/lib/python3.8/site-packages (from jupyter-server<3,>=2.4.0->notebook<8,>=6.5.5->recommenders) (4.5.2)\n",
      "Requirement already satisfied: nbconvert>=6.4.4 in ./t1recsys/lib/python3.8/site-packages (from jupyter-server<3,>=2.4.0->notebook<8,>=6.5.5->recommenders) (7.16.6)\n",
      "Requirement already satisfied: jupyter-events>=0.9.0 in ./t1recsys/lib/python3.8/site-packages (from jupyter-server<3,>=2.4.0->notebook<8,>=6.5.5->recommenders) (0.10.0)\n",
      "Requirement already satisfied: jupyter-client>=7.4.4 in ./t1recsys/lib/python3.8/site-packages (from jupyter-server<3,>=2.4.0->notebook<8,>=6.5.5->recommenders) (8.6.3)\n",
      "Requirement already satisfied: jupyter-server-terminals>=0.4.4 in ./t1recsys/lib/python3.8/site-packages (from jupyter-server<3,>=2.4.0->notebook<8,>=6.5.5->recommenders) (0.5.3)\n",
      "Requirement already satisfied: websocket-client>=1.7 in ./t1recsys/lib/python3.8/site-packages (from jupyter-server<3,>=2.4.0->notebook<8,>=6.5.5->recommenders) (1.8.0)\n",
      "Requirement already satisfied: overrides>=5.0 in ./t1recsys/lib/python3.8/site-packages (from jupyter-server<3,>=2.4.0->notebook<8,>=6.5.5->recommenders) (7.7.0)\n",
      "Requirement already satisfied: prometheus-client>=0.9 in ./t1recsys/lib/python3.8/site-packages (from jupyter-server<3,>=2.4.0->notebook<8,>=6.5.5->recommenders) (0.21.1)\n",
      "Requirement already satisfied: nbformat>=5.3.0 in ./t1recsys/lib/python3.8/site-packages (from jupyter-server<3,>=2.4.0->notebook<8,>=6.5.5->recommenders) (5.10.4)\n",
      "Requirement already satisfied: mpmath in ./t1recsys/lib/python3.8/site-packages (from powerlaw->cornac<3,>=1.15.2->recommenders) (1.3.0)\n",
      "Collecting fsspec>=2023.5.0\n",
      "  Downloading fsspec-2025.3.0-py3-none-any.whl (193 kB)\n",
      "\u001b[K     |████████████████████████████████| 193 kB 4.9 MB/s eta 0:00:01\n",
      "\u001b[?25hRequirement already satisfied: pkgutil-resolve-name>=1.3.10; python_version < \"3.9\" in ./t1recsys/lib/python3.8/site-packages (from jsonschema>=4.18.0->jupyterlab-server<3,>=2.27.1->notebook<8,>=6.5.5->recommenders) (1.3.10)\n",
      "Requirement already satisfied: referencing>=0.28.4 in ./t1recsys/lib/python3.8/site-packages (from jsonschema>=4.18.0->jupyterlab-server<3,>=2.27.1->notebook<8,>=6.5.5->recommenders) (0.35.1)\n",
      "Requirement already satisfied: jsonschema-specifications>=2023.03.6 in ./t1recsys/lib/python3.8/site-packages (from jsonschema>=4.18.0->jupyterlab-server<3,>=2.27.1->notebook<8,>=6.5.5->recommenders) (2023.12.1)\n",
      "Requirement already satisfied: rpds-py>=0.7.1 in ./t1recsys/lib/python3.8/site-packages (from jsonschema>=4.18.0->jupyterlab-server<3,>=2.27.1->notebook<8,>=6.5.5->recommenders) (0.20.1)\n",
      "Requirement already satisfied: matplotlib-inline>=0.1 in ./t1recsys/lib/python3.8/site-packages (from ipykernel>=6.5.0->jupyterlab<4.4,>=4.3.6->notebook<8,>=6.5.5->recommenders) (0.1.7)\n",
      "Requirement already satisfied: ipython>=7.23.1 in ./t1recsys/lib/python3.8/site-packages (from ipykernel>=6.5.0->jupyterlab<4.4,>=4.3.6->notebook<8,>=6.5.5->recommenders) (8.12.3)\n",
      "Requirement already satisfied: debugpy>=1.6.5 in ./t1recsys/lib/python3.8/site-packages (from ipykernel>=6.5.0->jupyterlab<4.4,>=4.3.6->notebook<8,>=6.5.5->recommenders) (1.8.13)\n",
      "Requirement already satisfied: comm>=0.1.1 in ./t1recsys/lib/python3.8/site-packages (from ipykernel>=6.5.0->jupyterlab<4.4,>=4.3.6->notebook<8,>=6.5.5->recommenders) (0.2.2)\n",
      "Requirement already satisfied: nest-asyncio in ./t1recsys/lib/python3.8/site-packages (from ipykernel>=6.5.0->jupyterlab<4.4,>=4.3.6->notebook<8,>=6.5.5->recommenders) (1.6.0)\n",
      "Requirement already satisfied: platformdirs>=2.5 in ./t1recsys/lib/python3.8/site-packages (from jupyter-core->jupyterlab<4.4,>=4.3.6->notebook<8,>=6.5.5->recommenders) (4.3.6)\n",
      "Requirement already satisfied: httpcore==1.* in ./t1recsys/lib/python3.8/site-packages (from httpx>=0.25.0->jupyterlab<4.4,>=4.3.6->notebook<8,>=6.5.5->recommenders) (1.0.7)\n",
      "Requirement already satisfied: ptyprocess; os_name != \"nt\" in ./t1recsys/lib/python3.8/site-packages (from terminado>=0.8.3->jupyter-server<3,>=2.4.0->notebook<8,>=6.5.5->recommenders) (0.7.0)\n",
      "Requirement already satisfied: argon2-cffi-bindings in ./t1recsys/lib/python3.8/site-packages (from argon2-cffi>=21.1->jupyter-server<3,>=2.4.0->notebook<8,>=6.5.5->recommenders) (21.2.0)\n",
      "Requirement already satisfied: sniffio>=1.1 in ./t1recsys/lib/python3.8/site-packages (from anyio>=3.1.0->jupyter-server<3,>=2.4.0->notebook<8,>=6.5.5->recommenders) (1.3.1)\n",
      "Requirement already satisfied: pygments>=2.4.1 in ./t1recsys/lib/python3.8/site-packages (from nbconvert>=6.4.4->jupyter-server<3,>=2.4.0->notebook<8,>=6.5.5->recommenders) (2.19.1)\n",
      "Requirement already satisfied: nbclient>=0.5.0 in ./t1recsys/lib/python3.8/site-packages (from nbconvert>=6.4.4->jupyter-server<3,>=2.4.0->notebook<8,>=6.5.5->recommenders) (0.10.1)\n",
      "Requirement already satisfied: bleach[css]!=5.0.0 in ./t1recsys/lib/python3.8/site-packages (from nbconvert>=6.4.4->jupyter-server<3,>=2.4.0->notebook<8,>=6.5.5->recommenders) (6.1.0)\n",
      "Requirement already satisfied: beautifulsoup4 in ./t1recsys/lib/python3.8/site-packages (from nbconvert>=6.4.4->jupyter-server<3,>=2.4.0->notebook<8,>=6.5.5->recommenders) (4.13.3)\n",
      "Requirement already satisfied: jupyterlab-pygments in ./t1recsys/lib/python3.8/site-packages (from nbconvert>=6.4.4->jupyter-server<3,>=2.4.0->notebook<8,>=6.5.5->recommenders) (0.3.0)\n",
      "Requirement already satisfied: pandocfilters>=1.4.1 in ./t1recsys/lib/python3.8/site-packages (from nbconvert>=6.4.4->jupyter-server<3,>=2.4.0->notebook<8,>=6.5.5->recommenders) (1.5.1)\n",
      "Requirement already satisfied: mistune<4,>=2.0.3 in ./t1recsys/lib/python3.8/site-packages (from nbconvert>=6.4.4->jupyter-server<3,>=2.4.0->notebook<8,>=6.5.5->recommenders) (3.1.3)\n",
      "Requirement already satisfied: defusedxml in ./t1recsys/lib/python3.8/site-packages (from nbconvert>=6.4.4->jupyter-server<3,>=2.4.0->notebook<8,>=6.5.5->recommenders) (0.7.1)\n",
      "Requirement already satisfied: python-json-logger>=2.0.4 in ./t1recsys/lib/python3.8/site-packages (from jupyter-events>=0.9.0->jupyter-server<3,>=2.4.0->notebook<8,>=6.5.5->recommenders) (3.3.0)\n",
      "Requirement already satisfied: rfc3339-validator in ./t1recsys/lib/python3.8/site-packages (from jupyter-events>=0.9.0->jupyter-server<3,>=2.4.0->notebook<8,>=6.5.5->recommenders) (0.1.4)\n",
      "Requirement already satisfied: rfc3986-validator>=0.1.1 in ./t1recsys/lib/python3.8/site-packages (from jupyter-events>=0.9.0->jupyter-server<3,>=2.4.0->notebook<8,>=6.5.5->recommenders) (0.1.1)\n",
      "Requirement already satisfied: fastjsonschema>=2.15 in ./t1recsys/lib/python3.8/site-packages (from nbformat>=5.3.0->jupyter-server<3,>=2.4.0->notebook<8,>=6.5.5->recommenders) (2.21.1)\n",
      "Requirement already satisfied: stack-data in ./t1recsys/lib/python3.8/site-packages (from ipython>=7.23.1->ipykernel>=6.5.0->jupyterlab<4.4,>=4.3.6->notebook<8,>=6.5.5->recommenders) (0.6.3)\n",
      "Requirement already satisfied: pexpect>4.3; sys_platform != \"win32\" in ./t1recsys/lib/python3.8/site-packages (from ipython>=7.23.1->ipykernel>=6.5.0->jupyterlab<4.4,>=4.3.6->notebook<8,>=6.5.5->recommenders) (4.9.0)\n",
      "Requirement already satisfied: decorator in ./t1recsys/lib/python3.8/site-packages (from ipython>=7.23.1->ipykernel>=6.5.0->jupyterlab<4.4,>=4.3.6->notebook<8,>=6.5.5->recommenders) (5.2.1)\n",
      "Requirement already satisfied: jedi>=0.16 in ./t1recsys/lib/python3.8/site-packages (from ipython>=7.23.1->ipykernel>=6.5.0->jupyterlab<4.4,>=4.3.6->notebook<8,>=6.5.5->recommenders) (0.19.2)\n",
      "Requirement already satisfied: prompt-toolkit!=3.0.37,<3.1.0,>=3.0.30 in ./t1recsys/lib/python3.8/site-packages (from ipython>=7.23.1->ipykernel>=6.5.0->jupyterlab<4.4,>=4.3.6->notebook<8,>=6.5.5->recommenders) (3.0.50)\n",
      "Requirement already satisfied: backcall in ./t1recsys/lib/python3.8/site-packages (from ipython>=7.23.1->ipykernel>=6.5.0->jupyterlab<4.4,>=4.3.6->notebook<8,>=6.5.5->recommenders) (0.2.0)\n",
      "Requirement already satisfied: pickleshare in ./t1recsys/lib/python3.8/site-packages (from ipython>=7.23.1->ipykernel>=6.5.0->jupyterlab<4.4,>=4.3.6->notebook<8,>=6.5.5->recommenders) (0.7.5)\n",
      "Requirement already satisfied: h11<0.15,>=0.13 in ./t1recsys/lib/python3.8/site-packages (from httpcore==1.*->httpx>=0.25.0->jupyterlab<4.4,>=4.3.6->notebook<8,>=6.5.5->recommenders) (0.14.0)\n",
      "Requirement already satisfied: cffi>=1.0.1 in ./t1recsys/lib/python3.8/site-packages (from argon2-cffi-bindings->argon2-cffi>=21.1->jupyter-server<3,>=2.4.0->notebook<8,>=6.5.5->recommenders) (1.17.1)\n",
      "Requirement already satisfied: webencodings in ./t1recsys/lib/python3.8/site-packages (from bleach[css]!=5.0.0->nbconvert>=6.4.4->jupyter-server<3,>=2.4.0->notebook<8,>=6.5.5->recommenders) (0.5.1)\n",
      "Requirement already satisfied: tinycss2<1.3,>=1.1.0; extra == \"css\" in ./t1recsys/lib/python3.8/site-packages (from bleach[css]!=5.0.0->nbconvert>=6.4.4->jupyter-server<3,>=2.4.0->notebook<8,>=6.5.5->recommenders) (1.2.1)\n",
      "Requirement already satisfied: soupsieve>1.2 in ./t1recsys/lib/python3.8/site-packages (from beautifulsoup4->nbconvert>=6.4.4->jupyter-server<3,>=2.4.0->notebook<8,>=6.5.5->recommenders) (2.6)\n",
      "Requirement already satisfied: asttokens>=2.1.0 in ./t1recsys/lib/python3.8/site-packages (from stack-data->ipython>=7.23.1->ipykernel>=6.5.0->jupyterlab<4.4,>=4.3.6->notebook<8,>=6.5.5->recommenders) (3.0.0)\n",
      "Requirement already satisfied: executing>=1.2.0 in ./t1recsys/lib/python3.8/site-packages (from stack-data->ipython>=7.23.1->ipykernel>=6.5.0->jupyterlab<4.4,>=4.3.6->notebook<8,>=6.5.5->recommenders) (2.2.0)\n",
      "Requirement already satisfied: pure-eval in ./t1recsys/lib/python3.8/site-packages (from stack-data->ipython>=7.23.1->ipykernel>=6.5.0->jupyterlab<4.4,>=4.3.6->notebook<8,>=6.5.5->recommenders) (0.2.3)\n",
      "Requirement already satisfied: parso<0.9.0,>=0.8.4 in ./t1recsys/lib/python3.8/site-packages (from jedi>=0.16->ipython>=7.23.1->ipykernel>=6.5.0->jupyterlab<4.4,>=4.3.6->notebook<8,>=6.5.5->recommenders) (0.8.4)\n",
      "Requirement already satisfied: wcwidth in ./t1recsys/lib/python3.8/site-packages (from prompt-toolkit!=3.0.37,<3.1.0,>=3.0.30->ipython>=7.23.1->ipykernel>=6.5.0->jupyterlab<4.4,>=4.3.6->notebook<8,>=6.5.5->recommenders) (0.2.13)\n",
      "Requirement already satisfied: pycparser in ./t1recsys/lib/python3.8/site-packages (from cffi>=1.0.1->argon2-cffi-bindings->argon2-cffi>=21.1->jupyter-server<3,>=2.4.0->notebook<8,>=6.5.5->recommenders) (2.22)\n",
      "Building wheels for collected packages: lightgbm, cornac, roundrobin\n",
      "  Building wheel for lightgbm (PEP 517) ... \u001b[?25ldone\n",
      "\u001b[?25h  Created wheel for lightgbm: filename=lightgbm-4.6.0-py3-none-linux_x86_64.whl size=3183868 sha256=6c2d070d2238cd6506d1c3a2a36b5cf278f43d847580be13d1b320b81205b43d\n",
      "  Stored in directory: /home/roa/.cache/pip/wheels/d4/3c/31/2928576362d765810777fb122626b8466a5a52abb3ead08bed\n",
      "  Building wheel for cornac (setup.py) ... \u001b[?25lerror\n",
      "\u001b[31m  ERROR: Command errored out with exit status 1:\n",
      "   command: /home/roa/universidad/recsys/anime-recommendation/t1recsys/bin/python -u -c 'import sys, setuptools, tokenize; sys.argv[0] = '\"'\"'/tmp/pip-install-q2ht1smr/cornac/setup.py'\"'\"'; __file__='\"'\"'/tmp/pip-install-q2ht1smr/cornac/setup.py'\"'\"';f=getattr(tokenize, '\"'\"'open'\"'\"', open)(__file__);code=f.read().replace('\"'\"'\\r\\n'\"'\"', '\"'\"'\\n'\"'\"');f.close();exec(compile(code, __file__, '\"'\"'exec'\"'\"'))' bdist_wheel -d /tmp/pip-wheel-4w9ox85q\n",
      "       cwd: /tmp/pip-install-q2ht1smr/cornac/\n",
      "  Complete output (6 lines):\n",
      "  usage: setup.py [global_opts] cmd1 [cmd1_opts] [cmd2 [cmd2_opts] ...]\n",
      "     or: setup.py --help [cmd1 cmd2 ...]\n",
      "     or: setup.py --help-commands\n",
      "     or: setup.py cmd --help\n",
      "  \n",
      "  error: invalid command 'bdist_wheel'\n",
      "  ----------------------------------------\u001b[0m\n",
      "\u001b[31m  ERROR: Failed building wheel for cornac\u001b[0m\n",
      "\u001b[?25h  Running setup.py clean for cornac\n",
      "\u001b[31m  ERROR: Command errored out with exit status 1:\n",
      "   command: /home/roa/universidad/recsys/anime-recommendation/t1recsys/bin/python -u -c 'import sys, setuptools, tokenize; sys.argv[0] = '\"'\"'/tmp/pip-install-q2ht1smr/cornac/setup.py'\"'\"'; __file__='\"'\"'/tmp/pip-install-q2ht1smr/cornac/setup.py'\"'\"';f=getattr(tokenize, '\"'\"'open'\"'\"', open)(__file__);code=f.read().replace('\"'\"'\\r\\n'\"'\"', '\"'\"'\\n'\"'\"');f.close();exec(compile(code, __file__, '\"'\"'exec'\"'\"'))' clean --all\n",
      "       cwd: /tmp/pip-install-q2ht1smr/cornac\n",
      "  Complete output (6 lines):\n",
      "  usage: setup.py [global_opts] cmd1 [cmd1_opts] [cmd2 [cmd2_opts] ...]\n",
      "     or: setup.py --help [cmd1 cmd2 ...]\n",
      "     or: setup.py --help-commands\n",
      "     or: setup.py cmd --help\n",
      "  \n",
      "  error: option --all not recognized\n",
      "  ----------------------------------------\u001b[0m\n",
      "\u001b[31m  ERROR: Failed cleaning build dir for cornac\u001b[0m\n",
      "  Building wheel for roundrobin (setup.py) ... \u001b[?25lerror\n",
      "\u001b[31m  ERROR: Command errored out with exit status 1:\n",
      "   command: /home/roa/universidad/recsys/anime-recommendation/t1recsys/bin/python -u -c 'import sys, setuptools, tokenize; sys.argv[0] = '\"'\"'/tmp/pip-install-q2ht1smr/roundrobin/setup.py'\"'\"'; __file__='\"'\"'/tmp/pip-install-q2ht1smr/roundrobin/setup.py'\"'\"';f=getattr(tokenize, '\"'\"'open'\"'\"', open)(__file__);code=f.read().replace('\"'\"'\\r\\n'\"'\"', '\"'\"'\\n'\"'\"');f.close();exec(compile(code, __file__, '\"'\"'exec'\"'\"'))' bdist_wheel -d /tmp/pip-wheel-99wfr75d\n",
      "       cwd: /tmp/pip-install-q2ht1smr/roundrobin/\n",
      "  Complete output (6 lines):\n",
      "  usage: setup.py [global_opts] cmd1 [cmd1_opts] [cmd2 [cmd2_opts] ...]\n",
      "     or: setup.py --help [cmd1 cmd2 ...]\n",
      "     or: setup.py --help-commands\n",
      "     or: setup.py cmd --help\n",
      "  \n",
      "  error: invalid command 'bdist_wheel'\n",
      "  ----------------------------------------\u001b[0m\n",
      "\u001b[31m  ERROR: Failed building wheel for roundrobin\u001b[0m\n",
      "\u001b[?25h  Running setup.py clean for roundrobin\n",
      "Successfully built lightgbm\n",
      "Failed to build cornac roundrobin\n",
      "Installing collected packages: retrying, memory-profiler, cloudpickle, networkx, py4j, future, hyperopt, lightgbm, annotated-types, pydantic-core, pydantic, mypy-extensions, typing-inspect, multimethod, typeguard, wrapt, sortedcontainers, hypothesis, pandera, patsy, statsmodels, category-encoders, roundrobin, ConfigArgParse, Werkzeug, blinker, itsdangerous, click, flask, Flask-Login, msgpack, Flask-Cors, greenlet, zope.event, zope.interface, gevent, brotli, geventhttpclient, locust, regex, nltk, cornac, filelock, fsspec, huggingface-hub, safetensors, tokenizers, transformers, llvmlite, numba, recommenders\n",
      "    Running setup.py install for roundrobin ... \u001b[?25ldone\n",
      "\u001b[?25h    Running setup.py install for cornac ... \u001b[?25ldone\n",
      "\u001b[?25hSuccessfully installed ConfigArgParse-1.7 Flask-Cors-5.0.0 Flask-Login-0.6.3 Werkzeug-3.0.6 annotated-types-0.7.0 blinker-1.8.2 brotli-1.1.0 category-encoders-2.6.4 click-8.1.8 cloudpickle-3.1.1 cornac-2.3.0 filelock-3.16.1 flask-3.0.3 fsspec-2025.3.0 future-1.0.0 gevent-24.2.1 geventhttpclient-2.0.12 greenlet-3.1.1 huggingface-hub-0.30.2 hyperopt-0.2.7 hypothesis-6.113.0 itsdangerous-2.2.0 lightgbm-4.6.0 llvmlite-0.41.1 locust-2.25.0 memory-profiler-0.61.0 msgpack-1.1.0 multimethod-1.10 mypy-extensions-1.0.0 networkx-3.1 nltk-3.9.1 numba-0.58.1 pandera-0.17.2 patsy-1.0.1 py4j-0.10.9.9 pydantic-2.10.6 pydantic-core-2.27.2 recommenders-1.2.1 regex-2024.11.6 retrying-1.3.4 roundrobin-0.0.4 safetensors-0.5.3 sortedcontainers-2.4.0 statsmodels-0.14.1 tokenizers-0.20.3 transformers-4.46.3 typeguard-4.4.0 typing-inspect-0.9.0 wrapt-1.17.2 zope.event-5.0 zope.interface-7.2\n",
      "Note: you may need to restart the kernel to use updated packages.\n"
     ]
    }
   ],
   "source": [
    "%pip install recommenders"
   ]
  },
  {
   "cell_type": "code",
   "execution_count": 1,
   "id": "e96df6aa",
   "metadata": {},
   "outputs": [
    {
     "name": "stdout",
     "output_type": "stream",
     "text": [
      "System version: 3.8.10 (default, Jul 29 2024, 17:02:10) \n",
      "[GCC 9.4.0]\n",
      "LightFM version: 1.17\n"
     ]
    }
   ],
   "source": [
    "import os\n",
    "import sys\n",
    "import itertools\n",
    "import pandas as pd\n",
    "import numpy as np\n",
    "import matplotlib.pyplot as plt\n",
    "import seaborn as sns\n",
    "\n",
    "import lightfm\n",
    "from lightfm import LightFM\n",
    "from lightfm.data import Dataset\n",
    "from lightfm import cross_validation\n",
    "from lightfm.evaluation import precision_at_k as lightfm_prec_at_k\n",
    "from lightfm.evaluation import recall_at_k as lightfm_recall_at_k\n",
    "\n",
    "from recommenders.evaluation.python_evaluation import precision_at_k, recall_at_k\n",
    "from recommenders.utils.timer import Timer\n",
    "from recommenders.datasets import movielens\n",
    "from recommenders.models.lightfm.lightfm_utils import (\n",
    "    track_model_metrics,\n",
    "    prepare_test_df,\n",
    "    prepare_all_predictions,\n",
    "    compare_metric,\n",
    "    similar_users,\n",
    "    similar_items,\n",
    ")\n",
    "from recommenders.utils.notebook_utils import store_metadata\n",
    "\n",
    "print(\"System version: {}\".format(sys.version))\n",
    "print(\"LightFM version: {}\".format(lightfm.__version__))\n"
   ]
  },
  {
   "cell_type": "code",
   "execution_count": 3,
   "id": "3a6062a3",
   "metadata": {},
   "outputs": [
    {
     "data": {
      "text/html": [
       "<div>\n",
       "<style scoped>\n",
       "    .dataframe tbody tr th:only-of-type {\n",
       "        vertical-align: middle;\n",
       "    }\n",
       "\n",
       "    .dataframe tbody tr th {\n",
       "        vertical-align: top;\n",
       "    }\n",
       "\n",
       "    .dataframe thead th {\n",
       "        text-align: right;\n",
       "    }\n",
       "</style>\n",
       "<table border=\"1\" class=\"dataframe\">\n",
       "  <thead>\n",
       "    <tr style=\"text-align: right;\">\n",
       "      <th></th>\n",
       "      <th>userID</th>\n",
       "      <th>itemID</th>\n",
       "      <th>rating</th>\n",
       "    </tr>\n",
       "  </thead>\n",
       "  <tbody>\n",
       "    <tr>\n",
       "      <th>0</th>\n",
       "      <td>31006</td>\n",
       "      <td>8795</td>\n",
       "      <td>7</td>\n",
       "    </tr>\n",
       "    <tr>\n",
       "      <th>1</th>\n",
       "      <td>68084</td>\n",
       "      <td>14837</td>\n",
       "      <td>8</td>\n",
       "    </tr>\n",
       "    <tr>\n",
       "      <th>2</th>\n",
       "      <td>20881</td>\n",
       "      <td>1536</td>\n",
       "      <td>9</td>\n",
       "    </tr>\n",
       "    <tr>\n",
       "      <th>3</th>\n",
       "      <td>25996</td>\n",
       "      <td>1241</td>\n",
       "      <td>8</td>\n",
       "    </tr>\n",
       "    <tr>\n",
       "      <th>4</th>\n",
       "      <td>25409</td>\n",
       "      <td>8668</td>\n",
       "      <td>7</td>\n",
       "    </tr>\n",
       "  </tbody>\n",
       "</table>\n",
       "</div>"
      ],
      "text/plain": [
       "   userID  itemID  rating\n",
       "0   31006    8795       7\n",
       "1   68084   14837       8\n",
       "2   20881    1536       9\n",
       "3   25996    1241       8\n",
       "4   25409    8668       7"
      ]
     },
     "execution_count": 3,
     "metadata": {},
     "output_type": "execute_result"
    }
   ],
   "source": [
    "# Aqui se toma la decision de unir el train.csv con el validation.csv para poder seguir el flujo de\n",
    "# de trabajo del práctico del curso\n",
    "\n",
    "# Se instancian los datasets\n",
    "train_file = pd.read_csv('dataset/train.csv', sep=',', header=0)\n",
    "test_file = pd.read_csv('dataset/validation.csv', sep=',', header=0)\n",
    "anime_file = pd.read_csv('dataset/anime.csv', sep=',', header=0)\n",
    "\n",
    "\n",
    "# Se quitan los registros con rating -1\n",
    "train_file = train_file[train_file['rating'] != -1]\n",
    "test_file = test_file[test_file['rating'] != -1]\n",
    "\n",
    "# Remove the first row from CSV\n",
    "train_file.to_csv(\"dataset/train.csv\", index=False, header=False)\n",
    "test_file.to_csv(\"dataset/validation.csv\", index=False, header=False)\n",
    "anime_file.to_csv(\"dataset/anime.csv\", index=False, header=False)\n",
    "\n",
    "train_file = pd.read_csv('dataset/train.csv', names = ['userID','itemID','rating'] ,sep=',', header=0)\n",
    "test_file = pd.read_csv('dataset/validation.csv', names = ['userID','itemID','rating'], sep=',', header=0)\n",
    "\n",
    "# Se concatenan\n",
    "data = pd.concat([train_file, test_file], ignore_index=True)\n",
    "\n",
    "anime_file = pd.read_csv('dataset/anime.csv', names = ['anime_id','name','genre','type','episodes','rating','members'], sep=',', header=0)\n",
    "\n",
    "data.head()\n",
    "\n"
   ]
  },
  {
   "cell_type": "code",
   "execution_count": 4,
   "id": "f838b198",
   "metadata": {},
   "outputs": [
    {
     "name": "stdout",
     "output_type": "stream",
     "text": [
      "<class 'pandas.core.frame.DataFrame'>\n",
      "RangeIndex: 24101 entries, 0 to 24100\n",
      "Data columns (total 3 columns):\n",
      " #   Column  Non-Null Count  Dtype\n",
      "---  ------  --------------  -----\n",
      " 0   userID  24101 non-null  int64\n",
      " 1   itemID  24101 non-null  int64\n",
      " 2   rating  24101 non-null  int64\n",
      "dtypes: int64(3)\n",
      "memory usage: 565.0 KB\n"
     ]
    }
   ],
   "source": [
    "data.info()"
   ]
  },
  {
   "cell_type": "code",
   "execution_count": 5,
   "id": "06e6d379",
   "metadata": {},
   "outputs": [],
   "source": [
    "DATA_SIZE = '30k'    # Tamaño del dataset (se puede cambiar para recomendar con más datos)\n",
    "\n",
    "K = 10                          # Tamaño de la recomendación\n",
    "TEST_PERCENTAGE = 0.25          # Porcentaje usado para set de test\n",
    "LEARNING_RATE = 0.25\n",
    "LOSS_FUNCTION = 'bpr'\n",
    "NO_COMPONENTS = 20              # Factores latentes\n",
    "NO_EPOCHS = 20                  # Épocas para el entrenamiento\n",
    "NO_THREADS = 32\n",
    "ITEM_ALPHA = 1e-6               # Regularizaciones\n",
    "USER_ALPHA = 1e-6\n",
    "\n",
    "SEED = 42                       # Semilla para los splits de los datos (se puede eliminar si se desea experimentar)"
   ]
  },
  {
   "cell_type": "code",
   "execution_count": 6,
   "id": "f0d82d6b",
   "metadata": {},
   "outputs": [
    {
     "name": "stdout",
     "output_type": "stream",
     "text": [
      "Num users: 16777, num_topics: 3677.\n"
     ]
    }
   ],
   "source": [
    "dataset = Dataset()\n",
    "\n",
    "dataset.fit(users=data['userID'],\n",
    "            items=data['itemID'])\n",
    "\n",
    "# quick check to determine the number of unique users and items in the data\n",
    "num_users, num_topics = dataset.interactions_shape()\n",
    "print(f'Num users: {num_users}, num_topics: {num_topics}.')"
   ]
  },
  {
   "cell_type": "code",
   "execution_count": 7,
   "id": "333738d0",
   "metadata": {},
   "outputs": [],
   "source": [
    "(interactions, weights) = dataset.build_interactions(data.iloc[:, 0:3].values)"
   ]
  },
  {
   "cell_type": "code",
   "execution_count": 8,
   "id": "abdc6aa4",
   "metadata": {},
   "outputs": [],
   "source": [
    "train_interactions, test_interactions = cross_validation.random_train_test_split(\n",
    "    interactions, test_percentage=TEST_PERCENTAGE,\n",
    "    random_state=np.random.RandomState(SEED))"
   ]
  },
  {
   "cell_type": "code",
   "execution_count": 9,
   "id": "2a347705",
   "metadata": {},
   "outputs": [
    {
     "name": "stdout",
     "output_type": "stream",
     "text": [
      "Shape of train interactions: (16777, 3677)\n",
      "Shape of test interactions: (16777, 3677)\n"
     ]
    }
   ],
   "source": [
    "print(f\"Shape of train interactions: {train_interactions.shape}\")\n",
    "print(f\"Shape of test interactions: {test_interactions.shape}\")"
   ]
  },
  {
   "cell_type": "code",
   "execution_count": 10,
   "id": "73f6cbd5",
   "metadata": {},
   "outputs": [],
   "source": [
    "model1 = LightFM(loss=LOSS_FUNCTION, no_components=NO_COMPONENTS,\n",
    "                 learning_rate=LEARNING_RATE,\n",
    "                 random_state=np.random.RandomState(SEED))"
   ]
  },
  {
   "cell_type": "code",
   "execution_count": 11,
   "id": "8e92734b",
   "metadata": {},
   "outputs": [
    {
     "data": {
      "text/plain": [
       "<lightfm.lightfm.LightFM at 0x7f5ad4170d90>"
      ]
     },
     "execution_count": 11,
     "metadata": {},
     "output_type": "execute_result"
    }
   ],
   "source": [
    "model1.fit(interactions=train_interactions,\n",
    "          epochs=NO_EPOCHS)"
   ]
  },
  {
   "cell_type": "code",
   "execution_count": 12,
   "id": "451bf931",
   "metadata": {},
   "outputs": [],
   "source": [
    "uids, iids, interaction_data = cross_validation._shuffle(\n",
    "    interactions.row, interactions.col, interactions.data,\n",
    "    random_state=np.random.RandomState(SEED))\n",
    "\n",
    "cutoff = int((1.0 - TEST_PERCENTAGE) * len(uids))\n",
    "test_idx = slice(cutoff, None)"
   ]
  },
  {
   "cell_type": "code",
   "execution_count": 13,
   "id": "5f278f75",
   "metadata": {},
   "outputs": [],
   "source": [
    "uid_map, ufeature_map, iid_map, ifeature_map = dataset.mapping()"
   ]
  },
  {
   "cell_type": "code",
   "execution_count": 14,
   "id": "802c0bcd",
   "metadata": {},
   "outputs": [
    {
     "name": "stdout",
     "output_type": "stream",
     "text": [
      "Took 1.0 seconds for prepare and predict test data.\n"
     ]
    }
   ],
   "source": [
    "with Timer() as test_time:\n",
    "    test_df = prepare_test_df(test_idx, uids, iids, uid_map, iid_map, weights)\n",
    "print(f\"Took {test_time.interval:.1f} seconds for prepare and predict test data.\")\n",
    "time_reco1 = test_time.interval"
   ]
  },
  {
   "cell_type": "code",
   "execution_count": 15,
   "id": "43edfecd",
   "metadata": {},
   "outputs": [
    {
     "data": {
      "text/html": [
       "<div>\n",
       "<style scoped>\n",
       "    .dataframe tbody tr th:only-of-type {\n",
       "        vertical-align: middle;\n",
       "    }\n",
       "\n",
       "    .dataframe tbody tr th {\n",
       "        vertical-align: top;\n",
       "    }\n",
       "\n",
       "    .dataframe thead th {\n",
       "        text-align: right;\n",
       "    }\n",
       "</style>\n",
       "<table border=\"1\" class=\"dataframe\">\n",
       "  <thead>\n",
       "    <tr style=\"text-align: right;\">\n",
       "      <th></th>\n",
       "      <th>userID</th>\n",
       "      <th>itemID</th>\n",
       "      <th>rating</th>\n",
       "    </tr>\n",
       "  </thead>\n",
       "  <tbody>\n",
       "    <tr>\n",
       "      <th>4366</th>\n",
       "      <td>16497</td>\n",
       "      <td>166</td>\n",
       "      <td>9.0</td>\n",
       "    </tr>\n",
       "    <tr>\n",
       "      <th>1129</th>\n",
       "      <td>53290</td>\n",
       "      <td>202</td>\n",
       "      <td>8.0</td>\n",
       "    </tr>\n",
       "    <tr>\n",
       "      <th>2602</th>\n",
       "      <td>12431</td>\n",
       "      <td>9741</td>\n",
       "      <td>1.0</td>\n",
       "    </tr>\n",
       "    <tr>\n",
       "      <th>1747</th>\n",
       "      <td>53724</td>\n",
       "      <td>2904</td>\n",
       "      <td>10.0</td>\n",
       "    </tr>\n",
       "    <tr>\n",
       "      <th>3286</th>\n",
       "      <td>44073</td>\n",
       "      <td>16742</td>\n",
       "      <td>10.0</td>\n",
       "    </tr>\n",
       "  </tbody>\n",
       "</table>\n",
       "</div>"
      ],
      "text/plain": [
       "      userID  itemID  rating\n",
       "4366   16497     166     9.0\n",
       "1129   53290     202     8.0\n",
       "2602   12431    9741     1.0\n",
       "1747   53724    2904    10.0\n",
       "3286   44073   16742    10.0"
      ]
     },
     "execution_count": 15,
     "metadata": {},
     "output_type": "execute_result"
    }
   ],
   "source": [
    "test_df.sample(5, random_state=SEED)"
   ]
  },
  {
   "cell_type": "code",
   "execution_count": 16,
   "id": "26fc124b",
   "metadata": {},
   "outputs": [
    {
     "name": "stdout",
     "output_type": "stream",
     "text": [
      "Index(['userID', 'itemID', 'rating'], dtype='object')\n"
     ]
    }
   ],
   "source": [
    "print(data.columns)\n"
   ]
  },
  {
   "cell_type": "code",
   "execution_count": 17,
   "id": "ce90699e",
   "metadata": {},
   "outputs": [],
   "source": [
    "data_subset = data.sample(5000)\n"
   ]
  },
  {
   "cell_type": "code",
   "execution_count": 18,
   "id": "4e2e7c77",
   "metadata": {},
   "outputs": [
    {
     "ename": "KeyboardInterrupt",
     "evalue": "",
     "output_type": "error",
     "traceback": [
      "\u001b[0;31m---------------------------------------------------------------------------\u001b[0m",
      "\u001b[0;31mKeyboardInterrupt\u001b[0m                         Traceback (most recent call last)",
      "Cell \u001b[0;32mIn[18], line 2\u001b[0m\n\u001b[1;32m      1\u001b[0m \u001b[38;5;28;01mwith\u001b[39;00m Timer() \u001b[38;5;28;01mas\u001b[39;00m test_time:\n\u001b[0;32m----> 2\u001b[0m     all_predictions \u001b[38;5;241m=\u001b[39m \u001b[43mprepare_all_predictions\u001b[49m\u001b[43m(\u001b[49m\u001b[43mdata_subset\u001b[49m\u001b[43m,\u001b[49m\u001b[43m \u001b[49m\u001b[43muid_map\u001b[49m\u001b[43m,\u001b[49m\u001b[43m \u001b[49m\u001b[43miid_map\u001b[49m\u001b[43m,\u001b[49m\n\u001b[1;32m      3\u001b[0m \u001b[43m                                              \u001b[49m\u001b[43minteractions\u001b[49m\u001b[38;5;241;43m=\u001b[39;49m\u001b[43mtrain_interactions\u001b[49m\u001b[43m,\u001b[49m\n\u001b[1;32m      4\u001b[0m \u001b[43m                                              \u001b[49m\u001b[43mmodel\u001b[49m\u001b[38;5;241;43m=\u001b[39;49m\u001b[43mmodel1\u001b[49m\u001b[43m,\u001b[49m\n\u001b[1;32m      5\u001b[0m \u001b[43m                                              \u001b[49m\u001b[43mnum_threads\u001b[49m\u001b[38;5;241;43m=\u001b[39;49m\u001b[43mNO_THREADS\u001b[49m\u001b[43m)\u001b[49m\n\u001b[1;32m      6\u001b[0m \u001b[38;5;28mprint\u001b[39m(\u001b[38;5;124mf\u001b[39m\u001b[38;5;124m\"\u001b[39m\u001b[38;5;124mTook \u001b[39m\u001b[38;5;132;01m{\u001b[39;00mtest_time\u001b[38;5;241m.\u001b[39minterval\u001b[38;5;132;01m:\u001b[39;00m\u001b[38;5;124m.1f\u001b[39m\u001b[38;5;132;01m}\u001b[39;00m\u001b[38;5;124m seconds for prepare and predict all data.\u001b[39m\u001b[38;5;124m\"\u001b[39m)\n\u001b[1;32m      7\u001b[0m time_reco2 \u001b[38;5;241m=\u001b[39m test_time\u001b[38;5;241m.\u001b[39minterval\n",
      "File \u001b[0;32m~/universidad/recsys/anime-recommendation/t1recsys/lib/python3.8/site-packages/recommenders/models/lightfm/lightfm_utils.py:254\u001b[0m, in \u001b[0;36mprepare_all_predictions\u001b[0;34m(data, uid_map, iid_map, interactions, model, num_threads, user_features, item_features)\u001b[0m\n\u001b[1;32m    251\u001b[0m all_predictions \u001b[38;5;241m=\u001b[39m all_predictions[all_predictions\u001b[38;5;241m.\u001b[39mrating \u001b[38;5;241m<\u001b[39m \u001b[38;5;241m1\u001b[39m]\u001b[38;5;241m.\u001b[39mreset_index(drop\u001b[38;5;241m=\u001b[39m\u001b[38;5;28;01mTrue\u001b[39;00m)\n\u001b[1;32m    252\u001b[0m all_predictions \u001b[38;5;241m=\u001b[39m all_predictions\u001b[38;5;241m.\u001b[39mdrop(\u001b[38;5;124m\"\u001b[39m\u001b[38;5;124mrating\u001b[39m\u001b[38;5;124m\"\u001b[39m, axis\u001b[38;5;241m=\u001b[39m\u001b[38;5;241m1\u001b[39m)\n\u001b[0;32m--> 254\u001b[0m all_predictions[\u001b[38;5;124m\"\u001b[39m\u001b[38;5;124mprediction\u001b[39m\u001b[38;5;124m\"\u001b[39m] \u001b[38;5;241m=\u001b[39m \u001b[43mall_predictions\u001b[49m\u001b[38;5;241;43m.\u001b[39;49m\u001b[43mapply\u001b[49m\u001b[43m(\u001b[49m\n\u001b[1;32m    255\u001b[0m \u001b[43m    \u001b[49m\u001b[38;5;28;43;01mlambda\u001b[39;49;00m\u001b[43m \u001b[49m\u001b[43mx\u001b[49m\u001b[43m:\u001b[49m\u001b[43m \u001b[49m\u001b[43mmodel\u001b[49m\u001b[38;5;241;43m.\u001b[39;49m\u001b[43mpredict\u001b[49m\u001b[43m(\u001b[49m\n\u001b[1;32m    256\u001b[0m \u001b[43m        \u001b[49m\u001b[43muser_ids\u001b[49m\u001b[38;5;241;43m=\u001b[39;49m\u001b[43mnp\u001b[49m\u001b[38;5;241;43m.\u001b[39;49m\u001b[43marray\u001b[49m\u001b[43m(\u001b[49m\u001b[43m[\u001b[49m\u001b[43mx\u001b[49m\u001b[43m[\u001b[49m\u001b[38;5;124;43m\"\u001b[39;49m\u001b[38;5;124;43muid\u001b[39;49m\u001b[38;5;124;43m\"\u001b[39;49m\u001b[43m]\u001b[49m\u001b[43m]\u001b[49m\u001b[43m,\u001b[49m\u001b[43m \u001b[49m\u001b[43mdtype\u001b[49m\u001b[38;5;241;43m=\u001b[39;49m\u001b[43mnp\u001b[49m\u001b[38;5;241;43m.\u001b[39;49m\u001b[43mint32\u001b[49m\u001b[43m)\u001b[49m\u001b[43m,\u001b[49m\n\u001b[1;32m    257\u001b[0m \u001b[43m        \u001b[49m\u001b[43mitem_ids\u001b[49m\u001b[38;5;241;43m=\u001b[39;49m\u001b[43mnp\u001b[49m\u001b[38;5;241;43m.\u001b[39;49m\u001b[43marray\u001b[49m\u001b[43m(\u001b[49m\u001b[43m[\u001b[49m\u001b[43mx\u001b[49m\u001b[43m[\u001b[49m\u001b[38;5;124;43m\"\u001b[39;49m\u001b[38;5;124;43miid\u001b[39;49m\u001b[38;5;124;43m\"\u001b[39;49m\u001b[43m]\u001b[49m\u001b[43m]\u001b[49m\u001b[43m,\u001b[49m\u001b[43m \u001b[49m\u001b[43mdtype\u001b[49m\u001b[38;5;241;43m=\u001b[39;49m\u001b[43mnp\u001b[49m\u001b[38;5;241;43m.\u001b[39;49m\u001b[43mint32\u001b[49m\u001b[43m)\u001b[49m\u001b[43m,\u001b[49m\n\u001b[1;32m    258\u001b[0m \u001b[43m        \u001b[49m\u001b[43muser_features\u001b[49m\u001b[38;5;241;43m=\u001b[39;49m\u001b[43muser_features\u001b[49m\u001b[43m,\u001b[49m\n\u001b[1;32m    259\u001b[0m \u001b[43m        \u001b[49m\u001b[43mitem_features\u001b[49m\u001b[38;5;241;43m=\u001b[39;49m\u001b[43mitem_features\u001b[49m\u001b[43m,\u001b[49m\n\u001b[1;32m    260\u001b[0m \u001b[43m        \u001b[49m\u001b[43mnum_threads\u001b[49m\u001b[38;5;241;43m=\u001b[39;49m\u001b[43mnum_threads\u001b[49m\u001b[43m,\u001b[49m\n\u001b[1;32m    261\u001b[0m \u001b[43m    \u001b[49m\u001b[43m)\u001b[49m\u001b[43m[\u001b[49m\u001b[38;5;241;43m0\u001b[39;49m\u001b[43m]\u001b[49m\u001b[43m,\u001b[49m\n\u001b[1;32m    262\u001b[0m \u001b[43m    \u001b[49m\u001b[43maxis\u001b[49m\u001b[38;5;241;43m=\u001b[39;49m\u001b[38;5;241;43m1\u001b[39;49m\u001b[43m,\u001b[49m\n\u001b[1;32m    263\u001b[0m \u001b[43m\u001b[49m\u001b[43m)\u001b[49m\n\u001b[1;32m    265\u001b[0m \u001b[38;5;28;01mreturn\u001b[39;00m all_predictions[[\u001b[38;5;124m\"\u001b[39m\u001b[38;5;124muserID\u001b[39m\u001b[38;5;124m\"\u001b[39m, \u001b[38;5;124m\"\u001b[39m\u001b[38;5;124mitemID\u001b[39m\u001b[38;5;124m\"\u001b[39m, \u001b[38;5;124m\"\u001b[39m\u001b[38;5;124mprediction\u001b[39m\u001b[38;5;124m\"\u001b[39m]]\n",
      "File \u001b[0;32m~/universidad/recsys/anime-recommendation/t1recsys/lib/python3.8/site-packages/pandas/core/frame.py:9423\u001b[0m, in \u001b[0;36mDataFrame.apply\u001b[0;34m(self, func, axis, raw, result_type, args, **kwargs)\u001b[0m\n\u001b[1;32m   9412\u001b[0m \u001b[38;5;28;01mfrom\u001b[39;00m\u001b[38;5;250m \u001b[39m\u001b[38;5;21;01mpandas\u001b[39;00m\u001b[38;5;21;01m.\u001b[39;00m\u001b[38;5;21;01mcore\u001b[39;00m\u001b[38;5;21;01m.\u001b[39;00m\u001b[38;5;21;01mapply\u001b[39;00m\u001b[38;5;250m \u001b[39m\u001b[38;5;28;01mimport\u001b[39;00m frame_apply\n\u001b[1;32m   9414\u001b[0m op \u001b[38;5;241m=\u001b[39m frame_apply(\n\u001b[1;32m   9415\u001b[0m     \u001b[38;5;28mself\u001b[39m,\n\u001b[1;32m   9416\u001b[0m     func\u001b[38;5;241m=\u001b[39mfunc,\n\u001b[0;32m   (...)\u001b[0m\n\u001b[1;32m   9421\u001b[0m     kwargs\u001b[38;5;241m=\u001b[39mkwargs,\n\u001b[1;32m   9422\u001b[0m )\n\u001b[0;32m-> 9423\u001b[0m \u001b[38;5;28;01mreturn\u001b[39;00m \u001b[43mop\u001b[49m\u001b[38;5;241;43m.\u001b[39;49m\u001b[43mapply\u001b[49m\u001b[43m(\u001b[49m\u001b[43m)\u001b[49m\u001b[38;5;241m.\u001b[39m__finalize__(\u001b[38;5;28mself\u001b[39m, method\u001b[38;5;241m=\u001b[39m\u001b[38;5;124m\"\u001b[39m\u001b[38;5;124mapply\u001b[39m\u001b[38;5;124m\"\u001b[39m)\n",
      "File \u001b[0;32m~/universidad/recsys/anime-recommendation/t1recsys/lib/python3.8/site-packages/pandas/core/apply.py:678\u001b[0m, in \u001b[0;36mFrameApply.apply\u001b[0;34m(self)\u001b[0m\n\u001b[1;32m    675\u001b[0m \u001b[38;5;28;01melif\u001b[39;00m \u001b[38;5;28mself\u001b[39m\u001b[38;5;241m.\u001b[39mraw:\n\u001b[1;32m    676\u001b[0m     \u001b[38;5;28;01mreturn\u001b[39;00m \u001b[38;5;28mself\u001b[39m\u001b[38;5;241m.\u001b[39mapply_raw()\n\u001b[0;32m--> 678\u001b[0m \u001b[38;5;28;01mreturn\u001b[39;00m \u001b[38;5;28;43mself\u001b[39;49m\u001b[38;5;241;43m.\u001b[39;49m\u001b[43mapply_standard\u001b[49m\u001b[43m(\u001b[49m\u001b[43m)\u001b[49m\n",
      "File \u001b[0;32m~/universidad/recsys/anime-recommendation/t1recsys/lib/python3.8/site-packages/pandas/core/apply.py:798\u001b[0m, in \u001b[0;36mFrameApply.apply_standard\u001b[0;34m(self)\u001b[0m\n\u001b[1;32m    797\u001b[0m \u001b[38;5;28;01mdef\u001b[39;00m\u001b[38;5;250m \u001b[39m\u001b[38;5;21mapply_standard\u001b[39m(\u001b[38;5;28mself\u001b[39m):\n\u001b[0;32m--> 798\u001b[0m     results, res_index \u001b[38;5;241m=\u001b[39m \u001b[38;5;28;43mself\u001b[39;49m\u001b[38;5;241;43m.\u001b[39;49m\u001b[43mapply_series_generator\u001b[49m\u001b[43m(\u001b[49m\u001b[43m)\u001b[49m\n\u001b[1;32m    800\u001b[0m     \u001b[38;5;66;03m# wrap results\u001b[39;00m\n\u001b[1;32m    801\u001b[0m     \u001b[38;5;28;01mreturn\u001b[39;00m \u001b[38;5;28mself\u001b[39m\u001b[38;5;241m.\u001b[39mwrap_results(results, res_index)\n",
      "File \u001b[0;32m~/universidad/recsys/anime-recommendation/t1recsys/lib/python3.8/site-packages/pandas/core/apply.py:812\u001b[0m, in \u001b[0;36mFrameApply.apply_series_generator\u001b[0;34m(self)\u001b[0m\n\u001b[1;32m    809\u001b[0m results \u001b[38;5;241m=\u001b[39m {}\n\u001b[1;32m    811\u001b[0m \u001b[38;5;28;01mwith\u001b[39;00m option_context(\u001b[38;5;124m\"\u001b[39m\u001b[38;5;124mmode.chained_assignment\u001b[39m\u001b[38;5;124m\"\u001b[39m, \u001b[38;5;28;01mNone\u001b[39;00m):\n\u001b[0;32m--> 812\u001b[0m     \u001b[38;5;28;01mfor\u001b[39;00m i, v \u001b[38;5;129;01min\u001b[39;00m \u001b[38;5;28menumerate\u001b[39m(series_gen):\n\u001b[1;32m    813\u001b[0m         \u001b[38;5;66;03m# ignore SettingWithCopy here in case the user mutates\u001b[39;00m\n\u001b[1;32m    814\u001b[0m         results[i] \u001b[38;5;241m=\u001b[39m \u001b[38;5;28mself\u001b[39m\u001b[38;5;241m.\u001b[39mf(v)\n\u001b[1;32m    815\u001b[0m         \u001b[38;5;28;01mif\u001b[39;00m \u001b[38;5;28misinstance\u001b[39m(results[i], ABCSeries):\n\u001b[1;32m    816\u001b[0m             \u001b[38;5;66;03m# If we have a view on v, we need to make a copy because\u001b[39;00m\n\u001b[1;32m    817\u001b[0m             \u001b[38;5;66;03m#  series_generator will swap out the underlying data\u001b[39;00m\n",
      "File \u001b[0;32m~/universidad/recsys/anime-recommendation/t1recsys/lib/python3.8/site-packages/pandas/core/apply.py:937\u001b[0m, in \u001b[0;36mFrameColumnApply.series_generator\u001b[0;34m(self)\u001b[0m\n\u001b[1;32m    934\u001b[0m         \u001b[38;5;28;01myield\u001b[39;00m obj\u001b[38;5;241m.\u001b[39m_ixs(i, axis\u001b[38;5;241m=\u001b[39m\u001b[38;5;241m0\u001b[39m)\n\u001b[1;32m    936\u001b[0m \u001b[38;5;28;01melse\u001b[39;00m:\n\u001b[0;32m--> 937\u001b[0m     \u001b[38;5;28;01mfor\u001b[39;00m arr, name \u001b[38;5;129;01min\u001b[39;00m \u001b[38;5;28mzip\u001b[39m(values, \u001b[38;5;28mself\u001b[39m\u001b[38;5;241m.\u001b[39mindex):\n\u001b[1;32m    938\u001b[0m         \u001b[38;5;66;03m# GH#35462 re-pin mgr in case setitem changed it\u001b[39;00m\n\u001b[1;32m    939\u001b[0m         ser\u001b[38;5;241m.\u001b[39m_mgr \u001b[38;5;241m=\u001b[39m mgr\n\u001b[1;32m    940\u001b[0m         mgr\u001b[38;5;241m.\u001b[39mset_values(arr)\n",
      "\u001b[0;31mKeyboardInterrupt\u001b[0m: "
     ]
    }
   ],
   "source": [
    "with Timer() as test_time:\n",
    "    all_predictions = prepare_all_predictions(data_subset, uid_map, iid_map,\n",
    "                                              interactions=train_interactions,\n",
    "                                              model=model1,\n",
    "                                              num_threads=NO_THREADS)\n",
    "print(f\"Took {test_time.interval:.1f} seconds for prepare and predict all data.\")\n",
    "time_reco2 = test_time.interval"
   ]
  },
  {
   "cell_type": "code",
   "execution_count": 18,
   "id": "2fc6d5dd",
   "metadata": {},
   "outputs": [
    {
     "ename": "",
     "evalue": "",
     "output_type": "error",
     "traceback": [
      "\u001b[1;31mEl kernel se bloqueó al ejecutar código en la celda actual o en una celda anterior. \n",
      "\u001b[1;31mRevise el código de las celdas para identificar una posible causa del error. \n",
      "\u001b[1;31mHaga clic <a href='https://aka.ms/vscodeJupyterKernelCrash'>aquí</a> para obtener más información. \n",
      "\u001b[1;31mVea Jupyter <a href='command:jupyter.viewOutput'>log</a> para obtener más detalles."
     ]
    }
   ],
   "source": [
    "with Timer() as test_time:\n",
    "    all_predictions = prepare_all_predictions(data, uid_map, iid_map,\n",
    "                                              interactions=train_interactions,\n",
    "                                              model=model1,\n",
    "                                              num_threads=NO_THREADS)\n",
    "print(f\"Took {test_time.interval:.1f} seconds for prepare and predict all data.\")\n",
    "time_reco2 = test_time.interval"
   ]
  }
 ],
 "metadata": {
  "kernelspec": {
   "display_name": "t1recsys",
   "language": "python",
   "name": "python3"
  },
  "language_info": {
   "codemirror_mode": {
    "name": "ipython",
    "version": 3
   },
   "file_extension": ".py",
   "mimetype": "text/x-python",
   "name": "python",
   "nbconvert_exporter": "python",
   "pygments_lexer": "ipython3",
   "version": "3.8.10"
  }
 },
 "nbformat": 4,
 "nbformat_minor": 5
}
