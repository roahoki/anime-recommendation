{
 "cells": [
  {
   "cell_type": "markdown",
   "id": "6cfd649d",
   "metadata": {},
   "source": [
    "# ALS"
   ]
  },
  {
   "cell_type": "code",
   "execution_count": 1,
   "id": "5e81191b",
   "metadata": {},
   "outputs": [],
   "source": [
    "import pandas as pd\n",
    "import numpy as np\n",
    "import implicit\n",
    "import scipy.sparse as sparse"
   ]
  },
  {
   "cell_type": "code",
   "execution_count": 2,
   "id": "51c4ab52",
   "metadata": {},
   "outputs": [],
   "source": [
    "# Training dataset\n",
    "df_train = pd.read_csv('dataset/train.csv',\n",
    "                         sep=',',\n",
    "                         names = ['user_id','item_id','rating'],\n",
    "                         header=0)\n",
    "\n",
    "# rating >= 5 , relevant (1) and rating below 5 isn't relevant (0), we handle -1 as not relevant\n",
    "df_train.rating = [1 if x >=5 else 0 for x in df_train.rating ]"
   ]
  },
  {
   "cell_type": "code",
   "execution_count": 3,
   "id": "dab79420",
   "metadata": {},
   "outputs": [
    {
     "data": {
      "text/html": [
       "<div>\n",
       "<style scoped>\n",
       "    .dataframe tbody tr th:only-of-type {\n",
       "        vertical-align: middle;\n",
       "    }\n",
       "\n",
       "    .dataframe tbody tr th {\n",
       "        vertical-align: top;\n",
       "    }\n",
       "\n",
       "    .dataframe thead th {\n",
       "        text-align: right;\n",
       "    }\n",
       "</style>\n",
       "<table border=\"1\" class=\"dataframe\">\n",
       "  <thead>\n",
       "    <tr style=\"text-align: right;\">\n",
       "      <th></th>\n",
       "      <th>user_id</th>\n",
       "      <th>item_id</th>\n",
       "      <th>rating</th>\n",
       "    </tr>\n",
       "  </thead>\n",
       "  <tbody>\n",
       "    <tr>\n",
       "      <th>0</th>\n",
       "      <td>40748</td>\n",
       "      <td>9926</td>\n",
       "      <td>0</td>\n",
       "    </tr>\n",
       "    <tr>\n",
       "      <th>1</th>\n",
       "      <td>35757</td>\n",
       "      <td>79</td>\n",
       "      <td>1</td>\n",
       "    </tr>\n",
       "    <tr>\n",
       "      <th>2</th>\n",
       "      <td>18266</td>\n",
       "      <td>51</td>\n",
       "      <td>0</td>\n",
       "    </tr>\n",
       "    <tr>\n",
       "      <th>3</th>\n",
       "      <td>31006</td>\n",
       "      <td>8795</td>\n",
       "      <td>1</td>\n",
       "    </tr>\n",
       "    <tr>\n",
       "      <th>4</th>\n",
       "      <td>68084</td>\n",
       "      <td>14837</td>\n",
       "      <td>1</td>\n",
       "    </tr>\n",
       "  </tbody>\n",
       "</table>\n",
       "</div>"
      ],
      "text/plain": [
       "   user_id  item_id  rating\n",
       "0    40748     9926       0\n",
       "1    35757       79       1\n",
       "2    18266       51       0\n",
       "3    31006     8795       1\n",
       "4    68084    14837       1"
      ]
     },
     "execution_count": 3,
     "metadata": {},
     "output_type": "execute_result"
    }
   ],
   "source": [
    "df_train.head()"
   ]
  },
  {
   "cell_type": "code",
   "execution_count": 4,
   "id": "feeaee2f",
   "metadata": {},
   "outputs": [],
   "source": [
    "# Cargamos el dataset con los items\n",
    "df_items = pd.read_csv('dataset/anime.csv',\n",
    "                        sep=',',\n",
    "                        names = ['anime_id','name','genre','type','episodes','rating','members'],\n",
    "                        header=None,\n",
    "                        encoding='latin-1')"
   ]
  },
  {
   "cell_type": "code",
   "execution_count": 5,
   "id": "8817e547",
   "metadata": {},
   "outputs": [
    {
     "data": {
      "text/html": [
       "<div>\n",
       "<style scoped>\n",
       "    .dataframe tbody tr th:only-of-type {\n",
       "        vertical-align: middle;\n",
       "    }\n",
       "\n",
       "    .dataframe tbody tr th {\n",
       "        vertical-align: top;\n",
       "    }\n",
       "\n",
       "    .dataframe thead th {\n",
       "        text-align: right;\n",
       "    }\n",
       "</style>\n",
       "<table border=\"1\" class=\"dataframe\">\n",
       "  <thead>\n",
       "    <tr style=\"text-align: right;\">\n",
       "      <th></th>\n",
       "      <th>anime_id</th>\n",
       "      <th>name</th>\n",
       "      <th>genre</th>\n",
       "      <th>type</th>\n",
       "      <th>episodes</th>\n",
       "      <th>rating</th>\n",
       "      <th>members</th>\n",
       "    </tr>\n",
       "  </thead>\n",
       "  <tbody>\n",
       "    <tr>\n",
       "      <th>0</th>\n",
       "      <td>anime_id</td>\n",
       "      <td>name</td>\n",
       "      <td>genre</td>\n",
       "      <td>type</td>\n",
       "      <td>episodes</td>\n",
       "      <td>rating</td>\n",
       "      <td>members</td>\n",
       "    </tr>\n",
       "    <tr>\n",
       "      <th>1</th>\n",
       "      <td>32281</td>\n",
       "      <td>Kimi no Na wa.</td>\n",
       "      <td>Drama, Romance, School, Supernatural</td>\n",
       "      <td>Movie</td>\n",
       "      <td>1</td>\n",
       "      <td>9.37</td>\n",
       "      <td>200630</td>\n",
       "    </tr>\n",
       "    <tr>\n",
       "      <th>2</th>\n",
       "      <td>5114</td>\n",
       "      <td>Fullmetal Alchemist: Brotherhood</td>\n",
       "      <td>Action, Adventure, Drama, Fantasy, Magic, Mili...</td>\n",
       "      <td>TV</td>\n",
       "      <td>64</td>\n",
       "      <td>9.26</td>\n",
       "      <td>793665</td>\n",
       "    </tr>\n",
       "    <tr>\n",
       "      <th>3</th>\n",
       "      <td>28977</td>\n",
       "      <td>GintamaÂ°</td>\n",
       "      <td>Action, Comedy, Historical, Parody, Samurai, S...</td>\n",
       "      <td>TV</td>\n",
       "      <td>51</td>\n",
       "      <td>9.25</td>\n",
       "      <td>114262</td>\n",
       "    </tr>\n",
       "    <tr>\n",
       "      <th>4</th>\n",
       "      <td>9253</td>\n",
       "      <td>Steins;Gate</td>\n",
       "      <td>Sci-Fi, Thriller</td>\n",
       "      <td>TV</td>\n",
       "      <td>24</td>\n",
       "      <td>9.17</td>\n",
       "      <td>673572</td>\n",
       "    </tr>\n",
       "  </tbody>\n",
       "</table>\n",
       "</div>"
      ],
      "text/plain": [
       "   anime_id                              name  \\\n",
       "0  anime_id                              name   \n",
       "1     32281                    Kimi no Na wa.   \n",
       "2      5114  Fullmetal Alchemist: Brotherhood   \n",
       "3     28977                         GintamaÂ°   \n",
       "4      9253                       Steins;Gate   \n",
       "\n",
       "                                               genre   type  episodes  rating  \\\n",
       "0                                              genre   type  episodes  rating   \n",
       "1               Drama, Romance, School, Supernatural  Movie         1    9.37   \n",
       "2  Action, Adventure, Drama, Fantasy, Magic, Mili...     TV        64    9.26   \n",
       "3  Action, Comedy, Historical, Parody, Samurai, S...     TV        51    9.25   \n",
       "4                                   Sci-Fi, Thriller     TV        24    9.17   \n",
       "\n",
       "   members  \n",
       "0  members  \n",
       "1   200630  \n",
       "2   793665  \n",
       "3   114262  \n",
       "4   673572  "
      ]
     },
     "execution_count": 5,
     "metadata": {},
     "output_type": "execute_result"
    }
   ],
   "source": [
    "df_items.head()"
   ]
  },
  {
   "cell_type": "code",
   "execution_count": 6,
   "id": "9f4d41ae",
   "metadata": {},
   "outputs": [],
   "source": [
    "# Cargamos el dataset de testing\n",
    "df_test = pd.read_csv('dataset/validation.csv',\n",
    "                      sep=',',\n",
    "                      names=['userid', 'itemid', 'rating'],\n",
    "                      header=0)\n",
    "\n",
    "\n",
    "# rating >= 5 es relevante (1) y rating menor a 5 es no relevante (0)\n",
    "df_test.rating = [1 if x >=5 else 0 for x in df_test.rating ]\n",
    "\n",
    "\n",
    "user_items_test = {}\n",
    "\n",
    "for row in df_test.itertuples():\n",
    "    if row[1] not in user_items_test:\n",
    "        user_items_test[row[1]] = []\n",
    "\n",
    "    user_items_test[row[1]].append(row[2])"
   ]
  },
  {
   "cell_type": "code",
   "execution_count": 7,
   "id": "07ed5e1d",
   "metadata": {},
   "outputs": [
    {
     "data": {
      "text/html": [
       "<div>\n",
       "<style scoped>\n",
       "    .dataframe tbody tr th:only-of-type {\n",
       "        vertical-align: middle;\n",
       "    }\n",
       "\n",
       "    .dataframe tbody tr th {\n",
       "        vertical-align: top;\n",
       "    }\n",
       "\n",
       "    .dataframe thead th {\n",
       "        text-align: right;\n",
       "    }\n",
       "</style>\n",
       "<table border=\"1\" class=\"dataframe\">\n",
       "  <thead>\n",
       "    <tr style=\"text-align: right;\">\n",
       "      <th></th>\n",
       "      <th>userid</th>\n",
       "      <th>itemid</th>\n",
       "      <th>rating</th>\n",
       "    </tr>\n",
       "  </thead>\n",
       "  <tbody>\n",
       "    <tr>\n",
       "      <th>0</th>\n",
       "      <td>25810</td>\n",
       "      <td>4789</td>\n",
       "      <td>1</td>\n",
       "    </tr>\n",
       "    <tr>\n",
       "      <th>1</th>\n",
       "      <td>39393</td>\n",
       "      <td>6275</td>\n",
       "      <td>1</td>\n",
       "    </tr>\n",
       "    <tr>\n",
       "      <th>2</th>\n",
       "      <td>2282</td>\n",
       "      <td>8675</td>\n",
       "      <td>1</td>\n",
       "    </tr>\n",
       "    <tr>\n",
       "      <th>3</th>\n",
       "      <td>18797</td>\n",
       "      <td>237</td>\n",
       "      <td>1</td>\n",
       "    </tr>\n",
       "    <tr>\n",
       "      <th>4</th>\n",
       "      <td>39248</td>\n",
       "      <td>2472</td>\n",
       "      <td>1</td>\n",
       "    </tr>\n",
       "  </tbody>\n",
       "</table>\n",
       "</div>"
      ],
      "text/plain": [
       "   userid  itemid  rating\n",
       "0   25810    4789       1\n",
       "1   39393    6275       1\n",
       "2    2282    8675       1\n",
       "3   18797     237       1\n",
       "4   39248    2472       1"
      ]
     },
     "execution_count": 7,
     "metadata": {},
     "output_type": "execute_result"
    }
   ],
   "source": [
    "df_test.head()"
   ]
  },
  {
   "cell_type": "code",
   "execution_count": 8,
   "id": "b3389848",
   "metadata": {},
   "outputs": [],
   "source": [
    "# Definicion de métricas (No editar)\n",
    "# Inspirado parcialmente en https://gist.github.com/bwhite/3726239\n",
    "\n",
    "def precision_at_k(r, k):\n",
    "    assert 1 <= k <= r.size\n",
    "    return (np.asarray(r)[:k] != 0).mean()\n",
    "\n",
    "def average_precision_at_k(r, k):\n",
    "    r = np.asarray(r)\n",
    "    score = 0.\n",
    "    for i in range(min(k, r.size)):\n",
    "        score += precision_at_k(r, i + 1)\n",
    "    return score / k\n",
    "\n",
    "def dcg_at_k(r, k):\n",
    "    r = np.asarray(r)[:k]\n",
    "    if r.size:\n",
    "        return np.sum(np.subtract(np.power(2, r), 1) / np.log2(np.arange(2, r.size + 2)))\n",
    "    return 0.\n",
    "\n",
    "\n",
    "def ndcg_at_k(r, k):\n",
    "    idcg = dcg_at_k(sorted(r, reverse=True), k)\n",
    "\n",
    "    if not idcg:\n",
    "        return 0.\n",
    "    return dcg_at_k(r, k) / idcg"
   ]
  },
  {
   "cell_type": "code",
   "execution_count": 9,
   "id": "cd011d11",
   "metadata": {},
   "outputs": [],
   "source": [
    "# Preprocesamiento de los datos a formato sparse\n",
    "# Change data to map index from 0 \n",
    "unique_user_ids = df_train['user_id'].unique()\n",
    "unique_item_ids = df_train['item_id'].unique()\n",
    "\n",
    "user_id_map = {uid: idx for idx, uid in enumerate(unique_user_ids)}\n",
    "item_id_map = {iid: idx for idx, iid in enumerate(unique_item_ids)}\n",
    "\n",
    "rows = []\n",
    "cols = []\n",
    "data = []\n",
    "\n",
    "for row in df_train.itertuples(index=False):\n",
    "    user_idx = user_id_map[row.user_id]\n",
    "    item_idx = item_id_map[row.item_id]\n",
    "\n",
    "    rows.append(user_idx)\n",
    "    cols.append(item_idx)\n",
    "    data.append(1) \n",
    "\n",
    "user_item_matrix = sparse.csr_matrix((data, (rows, cols)), shape=(len(user_id_map), len(item_id_map)))"
   ]
  },
  {
   "cell_type": "code",
   "execution_count": 10,
   "id": "a76f4e34",
   "metadata": {},
   "outputs": [],
   "source": [
    "def evaluate_model(model, n):\n",
    "    mean_ap = 0.\n",
    "    mean_ndcg = 0.\n",
    "    mean_recall = 0.\n",
    "\n",
    "    for u in user_items_test.keys():\n",
    "        if u not in user_id_map:\n",
    "            continue\n",
    "\n",
    "        u_idx = user_id_map[u]\n",
    "        rec = model.recommend(u_idx, user_item_matrix[u_idx], n)[0]\n",
    "        relevant = set(user_items_test[u])\n",
    "        hits = len(set(rec).intersection(relevant))\n",
    "\n",
    "        rel_vector = [1 if item in relevant else 0 for item in rec]\n",
    "\n",
    "        mean_ap += average_precision_at_k(rel_vector, n)\n",
    "        mean_ndcg += ndcg_at_k(rel_vector, n)\n",
    "        mean_recall += hits / len(relevant) if relevant else 0\n",
    "\n",
    "    total_users = len(user_items_test)\n",
    "    return mean_ap / total_users, mean_ndcg / total_users, mean_recall / total_users\n",
    "\n",
    "\n",
    "def show_recommendations(model, user, n):\n",
    "  recommendations = model.recommend(userid=user, user_items=user_item_matrix[user], N=n)[0]\n",
    "  return df_items.loc[recommendations]['name']\n",
    "\n",
    "def show_similar_movies(model, item, n=10):\n",
    "  sim_items = model.similar_items(item, n)[0]\n",
    "  return df_items.loc[sim_items]['name']"
   ]
  },
  {
   "cell_type": "code",
   "execution_count": 11,
   "id": "4f894a77",
   "metadata": {},
   "outputs": [],
   "source": [
    "# Cargar la matriz de géneros\n",
    "anime_genres = pd.read_csv(\"dataset/anime_genres.csv\", index_col=\"anime_id\")\n",
    "\n",
    "# Función de diversidad usando géneros binarios\n",
    "def diversity(recommendations):\n",
    "    scores = []\n",
    "    for recs in recommendations.values():\n",
    "        genres = set()\n",
    "        for anime_id in recs:\n",
    "            if anime_id in anime_genres.index:\n",
    "                anime_genre_flags = anime_genres.loc[anime_id]\n",
    "                genres.update(anime_genre_flags[anime_genre_flags == 1].index)\n",
    "        scores.append(len(genres))\n",
    "    return sum(scores) / len(scores)\n",
    "\n",
    "# Popularidad para novelty\n",
    "item_popularity = df_train['item_id'].value_counts().to_dict()\n",
    "\n",
    "def calculate_novelty(recommendations):\n",
    "    novelty = 0\n",
    "    for recs in recommendations.values():\n",
    "        novelty += np.sum([\n",
    "            np.log2(1 + len(df_train)) / item_popularity.get(anime_id, 1)\n",
    "            for anime_id in recs\n",
    "        ])\n",
    "    return novelty / len(recommendations)\n"
   ]
  },
  {
   "cell_type": "markdown",
   "id": "f8c294bb",
   "metadata": {},
   "source": [
    "# 4 CASES"
   ]
  },
  {
   "cell_type": "code",
   "execution_count": 12,
   "id": "ca017473",
   "metadata": {},
   "outputs": [
    {
     "name": "stderr",
     "output_type": "stream",
     "text": [
      "/home/roa/universidad/recsys/anime-recommendation/t1recsys/lib/python3.8/site-packages/implicit/cpu/als.py:95: RuntimeWarning: OpenBLAS is configured to use 16 threads. It is highly recommended to disable its internal threadpool by setting the environment variable 'OPENBLAS_NUM_THREADS=1' or by calling 'threadpoolctl.threadpool_limits(1, \"blas\")'. Having OpenBLAS use a threadpool can lead to severe performance issues here.\n",
      "  check_blas_config()\n"
     ]
    },
    {
     "data": {
      "application/vnd.jupyter.widget-view+json": {
       "model_id": "1ac2a46b658a48749742a4d58e921d16",
       "version_major": 2,
       "version_minor": 0
      },
      "text/plain": [
       "  0%|          | 0/10 [00:00<?, ?it/s]"
      ]
     },
     "metadata": {},
     "output_type": "display_data"
    }
   ],
   "source": [
    "# Definimos y entrenamos el modelo con optimización ALS\n",
    "model_als = implicit.als.AlternatingLeastSquares(factors=100, iterations=10, use_gpu=False)\n",
    "model_als.fit(user_item_matrix)"
   ]
  },
  {
   "cell_type": "code",
   "execution_count": 13,
   "id": "428d09ba",
   "metadata": {},
   "outputs": [
    {
     "data": {
      "text/plain": [
       "426                        Isekai no Seikishi Monogatari\n",
       "113                                      Hunter x Hunter\n",
       "123                                     Kuroko no Basket\n",
       "241                          Nodame Cantabile: Paris-hen\n",
       "327                                Kodomo no Omocha (TV)\n",
       "643                                 Akatsuki no Yona OVA\n",
       "821    Prince of Tennis: Another Story - Messages Fro...\n",
       "264                               Initial D Fourth Stage\n",
       "478                                      Death Billiards\n",
       "524                                          City Hunter\n",
       "Name: name, dtype: object"
      ]
     },
     "execution_count": 13,
     "metadata": {},
     "output_type": "execute_result"
    }
   ],
   "source": [
    "show_recommendations(model_als, user=99, n=10)"
   ]
  },
  {
   "cell_type": "code",
   "execution_count": 14,
   "id": "bed55f1c",
   "metadata": {},
   "outputs": [
    {
     "data": {
      "text/plain": [
       "1                                        Kimi no Na wa.\n",
       "618                                     Yuru Yuriâªâª\n",
       "3608                       Chou Denji Robo Combattler V\n",
       "2015                                          Rain Town\n",
       "1584                Baka to Test to Shoukanjuu Specials\n",
       "1218                    Suzumiya Haruhi-chan no Yuuutsu\n",
       "2341                                      Kikoushi Enma\n",
       "769     Mondaiji-tachi ga Isekai kara Kuru Sou Desu yo?\n",
       "1040                                 Mirai Nikki Redial\n",
       "1273                                YuâGiâOh! Arc-V\n",
       "Name: name, dtype: object"
      ]
     },
     "execution_count": 14,
     "metadata": {},
     "output_type": "execute_result"
    }
   ],
   "source": [
    "show_similar_movies(model_als, item=1, n=10)"
   ]
  },
  {
   "cell_type": "code",
   "execution_count": 15,
   "id": "d4292f5c",
   "metadata": {},
   "outputs": [
    {
     "name": "stdout",
     "output_type": "stream",
     "text": [
      "CASE 1\n",
      "MAP@10: 0.0001\n",
      "NDCG@10: 0.0007\n",
      "Recall@10: 0.0020\n",
      "Diversity: 20.25\n",
      "Novelty: 4.4463\n"
     ]
    }
   ],
   "source": [
    "recommendations_case1 = {}\n",
    "for u in user_items_test.keys():\n",
    "    if u in user_id_map:\n",
    "        u_idx = user_id_map[u]\n",
    "        recs = model_als.recommend(u_idx, user_item_matrix[u_idx], N=10)[0]\n",
    "        recommendations_case1[u] = [unique_item_ids[i] for i in recs]\n",
    "\n",
    "maprec1, ndcg1, recall1 = evaluate_model(model_als, n=10)\n",
    "div1 = diversity(recommendations_case1)\n",
    "nov1 = calculate_novelty(recommendations_case1)\n",
    "\n",
    "print(\"CASE 1\")\n",
    "print(f\"MAP@10: {maprec1:.4f}\")\n",
    "print(f\"NDCG@10: {ndcg1:.4f}\")\n",
    "print(f\"Recall@10: {recall1:.4f}\")\n",
    "print(f\"Diversity: {div1:.2f}\")\n",
    "print(f\"Novelty: {nov1:.4f}\")\n"
   ]
  },
  {
   "cell_type": "markdown",
   "id": "b1e9af3c",
   "metadata": {},
   "source": [
    "# Case 2"
   ]
  },
  {
   "cell_type": "code",
   "execution_count": 16,
   "id": "7f5f8acd",
   "metadata": {},
   "outputs": [
    {
     "data": {
      "application/vnd.jupyter.widget-view+json": {
       "model_id": "592879e5b80541439770daf865b0a6af",
       "version_major": 2,
       "version_minor": 0
      },
      "text/plain": [
       "  0%|          | 0/15 [00:00<?, ?it/s]"
      ]
     },
     "metadata": {},
     "output_type": "display_data"
    }
   ],
   "source": [
    "model_als_2 = implicit.als.AlternatingLeastSquares(factors=50, iterations=15, regularization=0.01, use_gpu=False)\n",
    "model_als_2.fit(user_item_matrix)"
   ]
  },
  {
   "cell_type": "code",
   "execution_count": 17,
   "id": "270910aa",
   "metadata": {},
   "outputs": [
    {
     "name": "stdout",
     "output_type": "stream",
     "text": [
      "CASE 2\n",
      "MAP@10: 0.0001\n",
      "NDCG@10: 0.0006\n",
      "Recall@10: 0.0017\n",
      "Diversity: 20.94\n",
      "Novelty: 3.0572\n"
     ]
    }
   ],
   "source": [
    "recommendations_case2 = {}\n",
    "for u in user_items_test.keys():\n",
    "    if u in user_id_map:\n",
    "        u_idx = user_id_map[u]\n",
    "        recs = model_als_2.recommend(u_idx, user_item_matrix[u_idx], N=10)[0]\n",
    "        recommendations_case2[u] = [unique_item_ids[i] for i in recs]\n",
    "\n",
    "maprec2, ndcg2, recall2 = evaluate_model(model_als_2, n=10)\n",
    "div2 = diversity(recommendations_case2)\n",
    "nov2 = calculate_novelty(recommendations_case2)\n",
    "\n",
    "print(\"CASE 2\")\n",
    "print(f\"MAP@10: {maprec2:.4f}\")\n",
    "print(f\"NDCG@10: {ndcg2:.4f}\")\n",
    "print(f\"Recall@10: {recall2:.4f}\")\n",
    "print(f\"Diversity: {div2:.2f}\")\n",
    "print(f\"Novelty: {nov2:.4f}\")\n"
   ]
  },
  {
   "cell_type": "markdown",
   "id": "c2742a8c",
   "metadata": {},
   "source": [
    "# Case 3"
   ]
  },
  {
   "cell_type": "code",
   "execution_count": 18,
   "id": "b7b548ad",
   "metadata": {},
   "outputs": [
    {
     "data": {
      "application/vnd.jupyter.widget-view+json": {
       "model_id": "0b6df83161474572869d0ab81f85e1c2",
       "version_major": 2,
       "version_minor": 0
      },
      "text/plain": [
       "  0%|          | 0/20 [00:00<?, ?it/s]"
      ]
     },
     "metadata": {},
     "output_type": "display_data"
    }
   ],
   "source": [
    "model_als_3 = implicit.als.AlternatingLeastSquares(factors=150, iterations=20, regularization=0.05, use_gpu=False)\n",
    "model_als_3.fit(user_item_matrix)"
   ]
  },
  {
   "cell_type": "code",
   "execution_count": 19,
   "id": "5c1f8928",
   "metadata": {},
   "outputs": [
    {
     "name": "stdout",
     "output_type": "stream",
     "text": [
      "CASE 3\n",
      "MAP@10: 0.0003\n",
      "NDCG@10: 0.0015\n",
      "Recall@10: 0.0032\n",
      "Diversity: 20.56\n",
      "Novelty: 6.0065\n"
     ]
    }
   ],
   "source": [
    "recommendations_case3 = {}\n",
    "for u in user_items_test.keys():\n",
    "    if u in user_id_map:\n",
    "        u_idx = user_id_map[u]\n",
    "        recs = model_als_3.recommend(u_idx, user_item_matrix[u_idx], N=10)[0]\n",
    "        recommendations_case3[u] = [unique_item_ids[i] for i in recs]\n",
    "\n",
    "maprec3, ndcg3, recall3 = evaluate_model(model_als_3, n=10)\n",
    "div3 = diversity(recommendations_case3)\n",
    "nov3 = calculate_novelty(recommendations_case3)\n",
    "\n",
    "print(\"CASE 3\")\n",
    "print(f\"MAP@10: {maprec3:.4f}\")\n",
    "print(f\"NDCG@10: {ndcg3:.4f}\")\n",
    "print(f\"Recall@10: {recall3:.4f}\")\n",
    "print(f\"Diversity: {div3:.2f}\")\n",
    "print(f\"Novelty: {nov3:.4f}\")"
   ]
  },
  {
   "cell_type": "markdown",
   "id": "71acf013",
   "metadata": {},
   "source": [
    "# Case 4"
   ]
  },
  {
   "cell_type": "code",
   "execution_count": 20,
   "id": "6ffc23c4",
   "metadata": {},
   "outputs": [
    {
     "data": {
      "application/vnd.jupyter.widget-view+json": {
       "model_id": "5edb5d3effb04624a671fd223e2e592d",
       "version_major": 2,
       "version_minor": 0
      },
      "text/plain": [
       "  0%|          | 0/25 [00:00<?, ?it/s]"
      ]
     },
     "metadata": {},
     "output_type": "display_data"
    }
   ],
   "source": [
    "model_als_4 = implicit.als.AlternatingLeastSquares(factors=200, iterations=25, regularization=0.1, use_gpu=False)\n",
    "model_als_4.fit(user_item_matrix)"
   ]
  },
  {
   "cell_type": "code",
   "execution_count": 21,
   "id": "5e8413f5",
   "metadata": {},
   "outputs": [
    {
     "name": "stdout",
     "output_type": "stream",
     "text": [
      "CASE 4\n",
      "MAP@10: 0.0003\n",
      "NDCG@10: 0.0012\n",
      "Recall@10: 0.0017\n",
      "Diversity: 20.24\n",
      "Novelty: 7.6047\n"
     ]
    }
   ],
   "source": [
    "recommendations_case4 = {}\n",
    "for u in user_items_test.keys():\n",
    "    if u in user_id_map:\n",
    "        u_idx = user_id_map[u]\n",
    "        recs = model_als_4.recommend(u_idx, user_item_matrix[u_idx], N=10)[0]\n",
    "        recommendations_case4[u] = [unique_item_ids[i] for i in recs]\n",
    "\n",
    "maprec4, ndcg4, recall4 = evaluate_model(model_als_4, n=10)\n",
    "div4 = diversity(recommendations_case4)\n",
    "nov4 = calculate_novelty(recommendations_case4)\n",
    "\n",
    "print(\"CASE 4\")\n",
    "print(f\"MAP@10: {maprec4:.4f}\")\n",
    "print(f\"NDCG@10: {ndcg4:.4f}\")\n",
    "print(f\"Recall@10: {recall4:.4f}\")\n",
    "print(f\"Diversity: {div4:.2f}\")\n",
    "print(f\"Novelty: {nov4:.4f}\")\n"
   ]
  },
  {
   "cell_type": "markdown",
   "id": "ea4c2f21",
   "metadata": {},
   "source": [
    "# Best Case: Case 3\n",
    "\n",
    "- factors=150\n",
    "- iterations=20 \n",
    "- regularization=0.05"
   ]
  },
  {
   "cell_type": "markdown",
   "id": "a257b355",
   "metadata": {},
   "source": [
    "# Graphs"
   ]
  },
  {
   "cell_type": "code",
   "execution_count": 22,
   "id": "f565dd3f",
   "metadata": {},
   "outputs": [
    {
     "data": {
      "image/png": "[encoded data removed]",
      "text/plain": [
       "<Figure size 640x480 with 1 Axes>"
      ]
     },
     "metadata": {},
     "output_type": "display_data"
    }
   ],
   "source": [
    "import matplotlib.pyplot as plt\n",
    "\n",
    "cases = ['Case 1', 'Case 2', 'Case 3', 'Case 4']\n",
    "map_vals = [0.0002, 0.0001, 0.0003, 0.0003]\n",
    "ndcg_vals = [0.0007, 0.0007, 0.0013, 0.0012]\n",
    "recall_vals = [0.0007, 0.0020, 0.0027, 0.0017]\n",
    "\n",
    "x = range(len(cases))\n",
    "width = 0.25\n",
    "\n",
    "plt.bar([p - width for p in x], map_vals, width=width, label='MAP@10')\n",
    "plt.bar(x, ndcg_vals, width=width, label='nDCG@10')\n",
    "plt.bar([p + width for p in x], recall_vals, width=width, label='Recall@10')\n",
    "\n",
    "plt.xticks(x, cases)\n",
    "plt.ylabel(\"Score\")\n",
    "plt.title(\"Métricas de rendimiento Top-10 por caso\")\n",
    "plt.legend()\n",
    "plt.grid(True, linestyle='--', alpha=0.5)\n",
    "plt.tight_layout()\n",
    "plt.show()\n"
   ]
  },
  {
   "cell_type": "code",
   "execution_count": 23,
   "id": "e7832790",
   "metadata": {},
   "outputs": [
    {
     "data": {
      "image/png": "[encoded data removed]",
      "text/plain": [
       "<Figure size 640x480 with 1 Axes>"
      ]
     },
     "metadata": {},
     "output_type": "display_data"
    }
   ],
   "source": [
    "novelty_vals = [4.33, 3.10, 5.99, 7.58]\n",
    "diversity_vals = [20.39, 21.20, 20.35, 20.28]\n",
    "\n",
    "plt.scatter(novelty_vals, diversity_vals, s=100)\n",
    "\n",
    "for i, txt in enumerate(cases):\n",
    "    plt.annotate(txt, (novelty_vals[i] + 0.05, diversity_vals[i]))\n",
    "\n",
    "plt.xlabel(\"Novelty\")\n",
    "plt.ylabel(\"Diversity\")\n",
    "plt.title(\"Comparación de Novelty vs Diversity\")\n",
    "plt.grid(True, linestyle='--', alpha=0.5)\n",
    "plt.tight_layout()\n",
    "plt.show()\n"
   ]
  }
 ],
 "metadata": {
  "kernelspec": {
   "display_name": "t1recsys",
   "language": "python",
   "name": "python3"
  },
  "language_info": {
   "codemirror_mode": {
    "name": "ipython",
    "version": 3
   },
   "file_extension": ".py",
   "mimetype": "text/x-python",
   "name": "python",
   "nbconvert_exporter": "python",
   "pygments_lexer": "ipython3",
   "version": "3.8.10"
  }
 },
 "nbformat": 4,
 "nbformat_minor": 5
}
