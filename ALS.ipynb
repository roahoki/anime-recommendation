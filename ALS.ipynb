{
 "cells": [
  {
   "cell_type": "code",
   "execution_count": 25,
   "id": "5e81191b",
   "metadata": {},
   "outputs": [],
   "source": [
    "import pandas as pd\n",
    "import numpy as np\n",
    "import implicit\n",
    "import scipy.sparse as sparse"
   ]
  },
  {
   "cell_type": "code",
   "execution_count": 29,
   "id": "51c4ab52",
   "metadata": {},
   "outputs": [],
   "source": [
    "# Primero creamos el dataframe con los datos\n",
    "df_train = pd.read_csv('dataset/train.csv',\n",
    "                         sep=',',\n",
    "                         names = ['user_id','item_id','rating'],\n",
    "                         header=None)\n",
    "\n",
    "# rating >= 5 , relevante (1) y rating menor a 5 es no relevante (0)\n",
    "df_train.rating = [1 if x >=5 else 0 for x in df_train.rating ]"
   ]
  },
  {
   "cell_type": "code",
   "execution_count": 30,
   "id": "dab79420",
   "metadata": {},
   "outputs": [
    {
     "data": {
      "text/html": [
       "<div>\n",
       "<style scoped>\n",
       "    .dataframe tbody tr th:only-of-type {\n",
       "        vertical-align: middle;\n",
       "    }\n",
       "\n",
       "    .dataframe tbody tr th {\n",
       "        vertical-align: top;\n",
       "    }\n",
       "\n",
       "    .dataframe thead th {\n",
       "        text-align: right;\n",
       "    }\n",
       "</style>\n",
       "<table border=\"1\" class=\"dataframe\">\n",
       "  <thead>\n",
       "    <tr style=\"text-align: right;\">\n",
       "      <th></th>\n",
       "      <th>user_id</th>\n",
       "      <th>item_id</th>\n",
       "      <th>rating</th>\n",
       "    </tr>\n",
       "  </thead>\n",
       "  <tbody>\n",
       "    <tr>\n",
       "      <th>0</th>\n",
       "      <td>35757</td>\n",
       "      <td>79</td>\n",
       "      <td>1</td>\n",
       "    </tr>\n",
       "    <tr>\n",
       "      <th>1</th>\n",
       "      <td>31006</td>\n",
       "      <td>8795</td>\n",
       "      <td>1</td>\n",
       "    </tr>\n",
       "    <tr>\n",
       "      <th>2</th>\n",
       "      <td>68084</td>\n",
       "      <td>14837</td>\n",
       "      <td>1</td>\n",
       "    </tr>\n",
       "    <tr>\n",
       "      <th>3</th>\n",
       "      <td>20881</td>\n",
       "      <td>1536</td>\n",
       "      <td>1</td>\n",
       "    </tr>\n",
       "    <tr>\n",
       "      <th>4</th>\n",
       "      <td>25996</td>\n",
       "      <td>1241</td>\n",
       "      <td>1</td>\n",
       "    </tr>\n",
       "  </tbody>\n",
       "</table>\n",
       "</div>"
      ],
      "text/plain": [
       "   user_id  item_id  rating\n",
       "0    35757       79       1\n",
       "1    31006     8795       1\n",
       "2    68084    14837       1\n",
       "3    20881     1536       1\n",
       "4    25996     1241       1"
      ]
     },
     "execution_count": 30,
     "metadata": {},
     "output_type": "execute_result"
    }
   ],
   "source": [
    "df_train.head()"
   ]
  },
  {
   "cell_type": "code",
   "execution_count": 31,
   "id": "feeaee2f",
   "metadata": {},
   "outputs": [],
   "source": [
    "# Cargamos el dataset con los items\n",
    "df_items = pd.read_csv('dataset/anime.csv',\n",
    "                        sep=',',\n",
    "                        names = ['anime_id','name','genre','type','episodes','rating','members'],\n",
    "                        header=None,\n",
    "                        encoding='latin-1')"
   ]
  },
  {
   "cell_type": "code",
   "execution_count": 32,
   "id": "8817e547",
   "metadata": {},
   "outputs": [
    {
     "data": {
      "text/html": [
       "<div>\n",
       "<style scoped>\n",
       "    .dataframe tbody tr th:only-of-type {\n",
       "        vertical-align: middle;\n",
       "    }\n",
       "\n",
       "    .dataframe tbody tr th {\n",
       "        vertical-align: top;\n",
       "    }\n",
       "\n",
       "    .dataframe thead th {\n",
       "        text-align: right;\n",
       "    }\n",
       "</style>\n",
       "<table border=\"1\" class=\"dataframe\">\n",
       "  <thead>\n",
       "    <tr style=\"text-align: right;\">\n",
       "      <th></th>\n",
       "      <th>anime_id</th>\n",
       "      <th>name</th>\n",
       "      <th>genre</th>\n",
       "      <th>type</th>\n",
       "      <th>episodes</th>\n",
       "      <th>rating</th>\n",
       "      <th>members</th>\n",
       "    </tr>\n",
       "  </thead>\n",
       "  <tbody>\n",
       "    <tr>\n",
       "      <th>0</th>\n",
       "      <td>32281</td>\n",
       "      <td>Kimi no Na wa.</td>\n",
       "      <td>Drama, Romance, School, Supernatural</td>\n",
       "      <td>Movie</td>\n",
       "      <td>1</td>\n",
       "      <td>9.37</td>\n",
       "      <td>200630</td>\n",
       "    </tr>\n",
       "    <tr>\n",
       "      <th>1</th>\n",
       "      <td>5114</td>\n",
       "      <td>Fullmetal Alchemist: Brotherhood</td>\n",
       "      <td>Action, Adventure, Drama, Fantasy, Magic, Mili...</td>\n",
       "      <td>TV</td>\n",
       "      <td>64</td>\n",
       "      <td>9.26</td>\n",
       "      <td>793665</td>\n",
       "    </tr>\n",
       "    <tr>\n",
       "      <th>2</th>\n",
       "      <td>28977</td>\n",
       "      <td>GintamaÂ°</td>\n",
       "      <td>Action, Comedy, Historical, Parody, Samurai, S...</td>\n",
       "      <td>TV</td>\n",
       "      <td>51</td>\n",
       "      <td>9.25</td>\n",
       "      <td>114262</td>\n",
       "    </tr>\n",
       "    <tr>\n",
       "      <th>3</th>\n",
       "      <td>9253</td>\n",
       "      <td>Steins;Gate</td>\n",
       "      <td>Sci-Fi, Thriller</td>\n",
       "      <td>TV</td>\n",
       "      <td>24</td>\n",
       "      <td>9.17</td>\n",
       "      <td>673572</td>\n",
       "    </tr>\n",
       "    <tr>\n",
       "      <th>4</th>\n",
       "      <td>9969</td>\n",
       "      <td>Gintama&amp;#039;</td>\n",
       "      <td>Action, Comedy, Historical, Parody, Samurai, S...</td>\n",
       "      <td>TV</td>\n",
       "      <td>51</td>\n",
       "      <td>9.16</td>\n",
       "      <td>151266</td>\n",
       "    </tr>\n",
       "  </tbody>\n",
       "</table>\n",
       "</div>"
      ],
      "text/plain": [
       "   anime_id                              name  \\\n",
       "0     32281                    Kimi no Na wa.   \n",
       "1      5114  Fullmetal Alchemist: Brotherhood   \n",
       "2     28977                         GintamaÂ°   \n",
       "3      9253                       Steins;Gate   \n",
       "4      9969                     Gintama&#039;   \n",
       "\n",
       "                                               genre   type episodes  rating  \\\n",
       "0               Drama, Romance, School, Supernatural  Movie        1    9.37   \n",
       "1  Action, Adventure, Drama, Fantasy, Magic, Mili...     TV       64    9.26   \n",
       "2  Action, Comedy, Historical, Parody, Samurai, S...     TV       51    9.25   \n",
       "3                                   Sci-Fi, Thriller     TV       24    9.17   \n",
       "4  Action, Comedy, Historical, Parody, Samurai, S...     TV       51    9.16   \n",
       "\n",
       "   members  \n",
       "0   200630  \n",
       "1   793665  \n",
       "2   114262  \n",
       "3   673572  \n",
       "4   151266  "
      ]
     },
     "execution_count": 32,
     "metadata": {},
     "output_type": "execute_result"
    }
   ],
   "source": [
    "df_items.head()"
   ]
  },
  {
   "cell_type": "code",
   "execution_count": 33,
   "id": "9f4d41ae",
   "metadata": {},
   "outputs": [],
   "source": [
    "# Cargamos el dataset de testing\n",
    "df_test = pd.read_csv('dataset/validation.csv',\n",
    "                      sep=',',\n",
    "                      names=['userid', 'itemid', 'rating'],\n",
    "                      header=None)\n",
    "\n",
    "\n",
    "# rating >= 5 es relevante (1) y rating menor a 5 es no relevante (0)\n",
    "df_test.rating = [1 if x >=5 else 0 for x in df_test.rating ]\n",
    "\n",
    "\n",
    "user_items_test = {}\n",
    "\n",
    "for row in df_test.itertuples():\n",
    "    if row[1] not in user_items_test:\n",
    "        user_items_test[row[1]] = []\n",
    "\n",
    "    user_items_test[row[1]].append(row[2])"
   ]
  },
  {
   "cell_type": "code",
   "execution_count": 34,
   "id": "07ed5e1d",
   "metadata": {},
   "outputs": [
    {
     "data": {
      "text/html": [
       "<div>\n",
       "<style scoped>\n",
       "    .dataframe tbody tr th:only-of-type {\n",
       "        vertical-align: middle;\n",
       "    }\n",
       "\n",
       "    .dataframe tbody tr th {\n",
       "        vertical-align: top;\n",
       "    }\n",
       "\n",
       "    .dataframe thead th {\n",
       "        text-align: right;\n",
       "    }\n",
       "</style>\n",
       "<table border=\"1\" class=\"dataframe\">\n",
       "  <thead>\n",
       "    <tr style=\"text-align: right;\">\n",
       "      <th></th>\n",
       "      <th>userid</th>\n",
       "      <th>itemid</th>\n",
       "      <th>rating</th>\n",
       "    </tr>\n",
       "  </thead>\n",
       "  <tbody>\n",
       "    <tr>\n",
       "      <th>0</th>\n",
       "      <td>25810</td>\n",
       "      <td>4789</td>\n",
       "      <td>1</td>\n",
       "    </tr>\n",
       "    <tr>\n",
       "      <th>1</th>\n",
       "      <td>39393</td>\n",
       "      <td>6275</td>\n",
       "      <td>1</td>\n",
       "    </tr>\n",
       "    <tr>\n",
       "      <th>2</th>\n",
       "      <td>2282</td>\n",
       "      <td>8675</td>\n",
       "      <td>1</td>\n",
       "    </tr>\n",
       "    <tr>\n",
       "      <th>3</th>\n",
       "      <td>18797</td>\n",
       "      <td>237</td>\n",
       "      <td>1</td>\n",
       "    </tr>\n",
       "    <tr>\n",
       "      <th>4</th>\n",
       "      <td>39248</td>\n",
       "      <td>2472</td>\n",
       "      <td>1</td>\n",
       "    </tr>\n",
       "  </tbody>\n",
       "</table>\n",
       "</div>"
      ],
      "text/plain": [
       "   userid  itemid  rating\n",
       "0   25810    4789       1\n",
       "1   39393    6275       1\n",
       "2    2282    8675       1\n",
       "3   18797     237       1\n",
       "4   39248    2472       1"
      ]
     },
     "execution_count": 34,
     "metadata": {},
     "output_type": "execute_result"
    }
   ],
   "source": [
    "df_test.head()"
   ]
  },
  {
   "cell_type": "code",
   "execution_count": 35,
   "id": "b3389848",
   "metadata": {},
   "outputs": [],
   "source": [
    "# Definicion de métricas (No editar)\n",
    "# Inspirado parcialmente en https://gist.github.com/bwhite/3726239\n",
    "\n",
    "def precision_at_k(r, k):\n",
    "    assert 1 <= k <= r.size\n",
    "    return (np.asarray(r)[:k] != 0).mean()\n",
    "\n",
    "def average_precision_at_k(r, k):\n",
    "    r = np.asarray(r)\n",
    "    score = 0.\n",
    "    for i in range(min(k, r.size)):\n",
    "        score += precision_at_k(r, i + 1)\n",
    "    return score / k\n",
    "\n",
    "def dcg_at_k(r, k):\n",
    "    r = np.asarray(r)[:k]\n",
    "    if r.size:\n",
    "        return np.sum(np.subtract(np.power(2, r), 1) / np.log2(np.arange(2, r.size + 2)))\n",
    "    return 0.\n",
    "\n",
    "\n",
    "def ndcg_at_k(r, k):\n",
    "    idcg = dcg_at_k(sorted(r, reverse=True), k)\n",
    "\n",
    "    if not idcg:\n",
    "        return 0.\n",
    "    return dcg_at_k(r, k) / idcg"
   ]
  },
  {
   "cell_type": "code",
   "execution_count": 36,
   "id": "cd011d11",
   "metadata": {},
   "outputs": [],
   "source": [
    "# Preprocesamiento de los datos a formato sparse\n",
    "# Change data to map index from 0 \n",
    "unique_user_ids = df_train['user_id'].unique()\n",
    "unique_item_ids = df_train['item_id'].unique()\n",
    "\n",
    "user_id_map = {uid: idx for idx, uid in enumerate(unique_user_ids)}\n",
    "item_id_map = {iid: idx for idx, iid in enumerate(unique_item_ids)}\n",
    "\n",
    "rows = []\n",
    "cols = []\n",
    "data = []\n",
    "\n",
    "for row in df_train.itertuples(index=False):\n",
    "    user_idx = user_id_map[row.user_id]\n",
    "    item_idx = item_id_map[row.item_id]\n",
    "\n",
    "    rows.append(user_idx)\n",
    "    cols.append(item_idx)\n",
    "    data.append(1) \n",
    "\n",
    "user_item_matrix = sparse.csr_matrix((data, (rows, cols)), shape=(len(user_id_map), len(item_id_map)))"
   ]
  },
  {
   "cell_type": "code",
   "execution_count": 37,
   "id": "a76f4e34",
   "metadata": {},
   "outputs": [],
   "source": [
    "def evaluate_model(model, n):\n",
    "  mean_ap = 0. # o MAP\n",
    "  mean_ndcg = 0.\n",
    "  for u in user_items_test.keys():\n",
    "      if u not in user_id_map:\n",
    "          continue  # Skip users not in the training set\n",
    "\n",
    "      u_idx = user_id_map[u]  # Convert raw user ID to matrix index\n",
    "\n",
    "      rec = model.recommend(u_idx, user_item_matrix[u_idx], n)[0]\n",
    "      rel_vector = [np.isin(user_items_test[u], rec, assume_unique=True).astype(int)]\n",
    "\n",
    "      mean_ap += average_precision_at_k(rel_vector, n)\n",
    "      mean_ndcg += ndcg_at_k(rel_vector, n)\n",
    "\n",
    "  mean_ap /= len(user_items_test)\n",
    "  mean_ndcg /= len(user_items_test)\n",
    "\n",
    "  return mean_ap, mean_ndcg\n",
    "\n",
    "def show_recommendations(model, user, n):\n",
    "  recommendations = model.recommend(userid=user, user_items=user_item_matrix[user], N=n)[0]\n",
    "  return df_items.loc[recommendations]['name']\n",
    "\n",
    "def show_similar_movies(model, item, n=10):\n",
    "  sim_items = model.similar_items(item, n)[0]\n",
    "  return df_items.loc[sim_items]['name']"
   ]
  },
  {
   "cell_type": "code",
   "execution_count": 38,
   "id": "ca017473",
   "metadata": {},
   "outputs": [
    {
     "data": {
      "application/vnd.jupyter.widget-view+json": {
       "model_id": "20884c8a2dab420485c6392b4d092fbb",
       "version_major": 2,
       "version_minor": 0
      },
      "text/plain": [
       "  0%|          | 0/10 [00:00<?, ?it/s]"
      ]
     },
     "metadata": {},
     "output_type": "display_data"
    }
   ],
   "source": [
    "# Definimos y entrenamos el modelo con optimización ALS\n",
    "model_als = implicit.als.AlternatingLeastSquares(factors=100, iterations=10, use_gpu=False)\n",
    "model_als.fit(user_item_matrix)"
   ]
  },
  {
   "cell_type": "code",
   "execution_count": 41,
   "id": "428d09ba",
   "metadata": {},
   "outputs": [
    {
     "data": {
      "text/plain": [
       "33                   Mushishi Zoku Shou: Suzu no Shizuku\n",
       "948              Detective Conan Movie 09: Promo Special\n",
       "319                                       Kimi ni Todoke\n",
       "21     Rurouni Kenshin: Meiji Kenkaku Romantan - Tsui...\n",
       "977                             Initial D Battle Stage 2\n",
       "981                                      Mousou Dairinin\n",
       "921                               Tenchi Muyou! Ryououki\n",
       "753    One Piece: Episode of Luffy - Hand Island no B...\n",
       "861                                Angel Beats! Specials\n",
       "55          Tengen Toppa Gurren Lagann Movie: Lagann-hen\n",
       "Name: name, dtype: object"
      ]
     },
     "execution_count": 41,
     "metadata": {},
     "output_type": "execute_result"
    }
   ],
   "source": [
    "show_recommendations(model_als, user=99, n=10)"
   ]
  },
  {
   "cell_type": "code",
   "execution_count": 45,
   "id": "bed55f1c",
   "metadata": {},
   "outputs": [
    {
     "data": {
      "text/plain": [
       "1                        Fullmetal Alchemist: Brotherhood\n",
       "810     Detective Conan: Conan vs. Kid - Shark &amp; J...\n",
       "1491                          Future GPX Cyber Formula 11\n",
       "1130                                         Aldnoah.Zero\n",
       "2866                          30th Gundam Perfect Mission\n",
       "840         Mobile Suit Gundam: Char&#039;s Counterattack\n",
       "1310                                 Hikaru no Go Special\n",
       "633                                         Paradise Kiss\n",
       "3190                              Zettai Muteki Raijin-Oh\n",
       "478                                   Durarara!! Specials\n",
       "Name: name, dtype: object"
      ]
     },
     "execution_count": 45,
     "metadata": {},
     "output_type": "execute_result"
    }
   ],
   "source": [
    "show_similar_movies(model_als, item=1, n=10)"
   ]
  },
  {
   "cell_type": "code",
   "execution_count": 47,
   "id": "d4292f5c",
   "metadata": {},
   "outputs": [
    {
     "name": "stdout",
     "output_type": "stream",
     "text": [
      "map: 0.00036101083032490973\n",
      "ndcg: 0.0036101083032490976\n"
     ]
    }
   ],
   "source": [
    "maprec, ndcg = evaluate_model(model_als, n=10)\n",
    "print('map: {}\\nndcg: {}'.format(maprec, ndcg))"
   ]
  }
 ],
 "metadata": {
  "kernelspec": {
   "display_name": "t1recsys",
   "language": "python",
   "name": "python3"
  },
  "language_info": {
   "codemirror_mode": {
    "name": "ipython",
    "version": 3
   },
   "file_extension": ".py",
   "mimetype": "text/x-python",
   "name": "python",
   "nbconvert_exporter": "python",
   "pygments_lexer": "ipython3",
   "version": "3.8.10"
  }
 },
 "nbformat": 4,
 "nbformat_minor": 5
}
