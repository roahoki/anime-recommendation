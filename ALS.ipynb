{
 "cells": [
  {
   "cell_type": "code",
   "execution_count": 1,
   "id": "5e81191b",
   "metadata": {},
   "outputs": [],
   "source": [
    "import pandas as pd\n",
    "import numpy as np\n",
    "import implicit\n",
    "import scipy.sparse as sparse"
   ]
  },
  {
   "cell_type": "code",
   "execution_count": null,
   "id": "51c4ab52",
   "metadata": {},
   "outputs": [],
   "source": [
    "# WARNING: ONLY RUN ONCE OR DATA WILL BE ERASED \n",
    "\n",
    "# Instance datasets\n",
    "train_file = pd.read_csv('dataset/train.csv', sep=',', header=0)\n",
    "test_file = pd.read_csv('dataset/validation.csv', sep=',', header=0)\n",
    "anime_file = pd.read_csv('dataset/anime.csv', sep=',', header=0)\n",
    "\n",
    "# # Remove the registers with rating -1\n",
    "# train_file = train_file[train_file['rating'] != -1]\n",
    "# test_file = test_file[test_file['rating'] != -1]\n",
    "\n",
    "# # Remove the first row from CSV\n",
    "# train_file.to_csv(\"dataset/train.csv\", index=False, header=False)\n",
    "# test_file.to_csv(\"dataset/validation.csv\", index=False, header=False)\n",
    "# anime_file.to_csv(\"dataset/anime.csv\", index=False, header=False)\n",
    "\n",
    "train_file = pd.read_csv('dataset/train.csv', names = ['user_id','item_id','rating'] ,sep=',', header=0)\n",
    "test_file = pd.read_csv('dataset/validation.csv', names = ['user_id','item_id','rating'], sep=',', header=0)\n",
    "anime_file = pd.read_csv('dataset/anime.csv', names = ['anime_id','name','genre','type','episodes','rating','members'], sep=',', header=0)\n",
    "\n",
    "train_file.head()"
   ]
  }
 ],
 "metadata": {
  "kernelspec": {
   "display_name": "t1recsys",
   "language": "python",
   "name": "python3"
  },
  "language_info": {
   "codemirror_mode": {
    "name": "ipython",
    "version": 3
   },
   "file_extension": ".py",
   "mimetype": "text/x-python",
   "name": "python",
   "nbconvert_exporter": "python",
   "pygments_lexer": "ipython3",
   "version": "3.8.10"
  }
 },
 "nbformat": 4,
 "nbformat_minor": 5
}
