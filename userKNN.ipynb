{
 "cells": [
  {
   "cell_type": "code",
   "execution_count": 1,
   "metadata": {},
   "outputs": [],
   "source": [
    "# TODO: directly install req here\n",
    "# pip install -r requirements.txt"
   ]
  },
  {
   "cell_type": "code",
   "execution_count": 2,
   "metadata": {},
   "outputs": [],
   "source": [
    "import numpy as np\n",
    "import pandas as pd\n",
    "\n",
    "from collections import defaultdict\n",
    "\n",
    "import surprise\n",
    "from surprise import accuracy\n",
    "from surprise.model_selection import PredefinedKFold"
   ]
  },
  {
   "cell_type": "code",
   "execution_count": 4,
   "metadata": {},
   "outputs": [
    {
     "data": {
      "text/html": [
       "<div>\n",
       "<style scoped>\n",
       "    .dataframe tbody tr th:only-of-type {\n",
       "        vertical-align: middle;\n",
       "    }\n",
       "\n",
       "    .dataframe tbody tr th {\n",
       "        vertical-align: top;\n",
       "    }\n",
       "\n",
       "    .dataframe thead th {\n",
       "        text-align: right;\n",
       "    }\n",
       "</style>\n",
       "<table border=\"1\" class=\"dataframe\">\n",
       "  <thead>\n",
       "    <tr style=\"text-align: right;\">\n",
       "      <th></th>\n",
       "      <th>user_id</th>\n",
       "      <th>item_id</th>\n",
       "      <th>rating</th>\n",
       "    </tr>\n",
       "  </thead>\n",
       "  <tbody>\n",
       "    <tr>\n",
       "      <th>0</th>\n",
       "      <td>25996</td>\n",
       "      <td>1241</td>\n",
       "      <td>8</td>\n",
       "    </tr>\n",
       "    <tr>\n",
       "      <th>1</th>\n",
       "      <td>25409</td>\n",
       "      <td>8668</td>\n",
       "      <td>7</td>\n",
       "    </tr>\n",
       "    <tr>\n",
       "      <th>2</th>\n",
       "      <td>29728</td>\n",
       "      <td>6325</td>\n",
       "      <td>5</td>\n",
       "    </tr>\n",
       "    <tr>\n",
       "      <th>3</th>\n",
       "      <td>71886</td>\n",
       "      <td>1887</td>\n",
       "      <td>9</td>\n",
       "    </tr>\n",
       "    <tr>\n",
       "      <th>4</th>\n",
       "      <td>58916</td>\n",
       "      <td>258</td>\n",
       "      <td>10</td>\n",
       "    </tr>\n",
       "  </tbody>\n",
       "</table>\n",
       "</div>"
      ],
      "text/plain": [
       "   user_id  item_id  rating\n",
       "0    25996     1241       8\n",
       "1    25409     8668       7\n",
       "2    29728     6325       5\n",
       "3    71886     1887       9\n",
       "4    58916      258      10"
      ]
     },
     "execution_count": 4,
     "metadata": {},
     "output_type": "execute_result"
    }
   ],
   "source": [
    "# WARNING: ONLY RUN ONCE OR DATA WILL BE ERASED \n",
    "\n",
    "# Instance datasets\n",
    "train_file = pd.read_csv('dataset/train.csv', sep=',', header=0)\n",
    "test_file = pd.read_csv('dataset/validation.csv', sep=',', header=0)\n",
    "anime_file = pd.read_csv('dataset/anime.csv', sep=',', header=0)\n",
    "\n",
    "train_file.to_csv(\"dataset/train.csv\", index=False, header=False)  # Remove 1st row from CSV\n",
    "test_file.to_csv(\"dataset/validation.csv\", index=False, header=False)\n",
    "anime_file.to_csv(\"dataset/anime.csv\", index=False, header=False)\n",
    "\n",
    "train_file = pd.read_csv('dataset/train.csv', names = ['user_id','item_id','rating'] ,sep=',', header=0)\n",
    "test_file = pd.read_csv('dataset/validation.csv', names = ['user_id','item_id','rating'], sep=',', header=0)\n",
    "anime_file = pd.read_csv('dataset/anime.csv', names = ['anime_id','name','genre','type','episodes','rating','members'], sep=',', header=0)\n",
    "\n",
    "train_file.head()"
   ]
  },
  {
   "cell_type": "code",
   "execution_count": 5,
   "metadata": {},
   "outputs": [
    {
     "name": "stdout",
     "output_type": "stream",
     "text": [
      "<class 'pandas.core.frame.DataFrame'>\n",
      "RangeIndex: 12290 entries, 0 to 12289\n",
      "Data columns (total 7 columns):\n",
      " #   Column    Non-Null Count  Dtype  \n",
      "---  ------    --------------  -----  \n",
      " 0   anime_id  12290 non-null  int64  \n",
      " 1   name      12290 non-null  object \n",
      " 2   genre     12228 non-null  object \n",
      " 3   type      12265 non-null  object \n",
      " 4   episodes  12290 non-null  object \n",
      " 5   rating    12060 non-null  float64\n",
      " 6   members   12290 non-null  int64  \n",
      "dtypes: float64(1), int64(2), object(4)\n",
      "memory usage: 672.2+ KB\n"
     ]
    }
   ],
   "source": [
    "anime_file.info()"
   ]
  },
  {
   "cell_type": "code",
   "execution_count": 6,
   "metadata": {},
   "outputs": [],
   "source": [
    "# Convert data \n",
    "reader = surprise.Reader(line_format='user item rating', sep=',', rating_scale=(1,10))\n",
    "data = surprise.Dataset.load_from_folds([(\"dataset/train.csv\", \"dataset/validation.csv\")], reader=reader)\n",
    "pkf = PredefinedKFold()\n",
    "trainset, testset = next(pkf.split(data))\n",
    "\n",
    "a_testset = trainset.build_anti_testset() "
   ]
  },
  {
   "cell_type": "code",
   "execution_count": 7,
   "metadata": {},
   "outputs": [
    {
     "name": "stdout",
     "output_type": "stream",
     "text": [
      "Total users used for training: 16709\n",
      "Total animes used for training: 3543\n",
      "Total ratings in the training set: 22234\n"
     ]
    }
   ],
   "source": [
    "print(\"Total users used for training:\", trainset.n_users)\n",
    "print(\"Total animes used for training:\", trainset.n_items)\n",
    "print(\"Total ratings in the training set:\", trainset.n_ratings)\n"
   ]
  },
  {
   "cell_type": "markdown",
   "metadata": {},
   "source": [
    "Lets start first using 5 neighbours w/ pearson."
   ]
  },
  {
   "cell_type": "code",
   "execution_count": 8,
   "metadata": {},
   "outputs": [
    {
     "name": "stdout",
     "output_type": "stream",
     "text": [
      "Computing the pearson similarity matrix...\n",
      "Done computing similarity matrix.\n"
     ]
    },
    {
     "data": {
      "text/plain": [
       "<surprise.prediction_algorithms.knns.KNNBasic at 0x11da93730>"
      ]
     },
     "execution_count": 8,
     "metadata": {},
     "output_type": "execute_result"
    }
   ],
   "source": [
    "myUserKnn = surprise.KNNBasic(k=5, sim_options={'name': 'pearson', 'user_based': True}) \n",
    "myUserKnn.fit(trainset)"
   ]
  },
  {
   "cell_type": "markdown",
   "metadata": {},
   "source": [
    "We can now predict what rating user X will give item Y"
   ]
  },
  {
   "cell_type": "code",
   "execution_count": 9,
   "metadata": {},
   "outputs": [
    {
     "data": {
      "text/plain": [
       "Prediction(uid='68084', iid='6325', r_ui=None, est=7.829315462804714, details={'was_impossible': True, 'reason': 'Not enough neighbors.'})"
      ]
     },
     "execution_count": 9,
     "metadata": {},
     "output_type": "execute_result"
    }
   ],
   "source": [
    "myUserKnn.predict(\"68084\", \"6325\")"
   ]
  },
  {
   "cell_type": "markdown",
   "metadata": {},
   "source": [
    "This raises the question: What happened?\n",
    "\n",
    "Basically, the recomSys can't predict what the user will rate that item. This is because not much data is available to compare them with other users.\n",
    "To corroborate our answer, we can check how many users rated the item and how many items the user rated:"
   ]
  },
  {
   "cell_type": "code",
   "execution_count": 10,
   "metadata": {},
   "outputs": [
    {
     "name": "stdout",
     "output_type": "stream",
     "text": [
      "13\n"
     ]
    }
   ],
   "source": [
    "# How many users rated the item 6325\n",
    "item_inner_id = trainset.to_inner_iid('6325')\n",
    "neighbors = trainset.ir[item_inner_id]  # list of (user_id, rating) who rated this item\n",
    "print(len(neighbors))  # how many users rated it"
   ]
  },
  {
   "cell_type": "code",
   "execution_count": 11,
   "metadata": {},
   "outputs": [
    {
     "name": "stdout",
     "output_type": "stream",
     "text": [
      "2\n"
     ]
    }
   ],
   "source": [
    "# How many items user 68084 has rated\n",
    "user_inner_id = trainset.to_inner_uid('68084')\n",
    "user_ratings = trainset.ur[user_inner_id]\n",
    "print(len(user_ratings))  # how many ratings this user has made"
   ]
  },
  {
   "cell_type": "markdown",
   "metadata": {},
   "source": [
    "This confirms that we know too few about the users taste. This will translate in userKNN not finding enough neighbours to make a prediction.\n",
    "We can use the anti test set results to see the valid predictions and see which one could be made."
   ]
  },
  {
   "cell_type": "code",
   "execution_count": 12,
   "metadata": {},
   "outputs": [],
   "source": [
    "predictions = myUserKnn.test(a_testset)"
   ]
  },
  {
   "cell_type": "code",
   "execution_count": 13,
   "metadata": {},
   "outputs": [
    {
     "name": "stdout",
     "output_type": "stream",
     "text": [
      "[Prediction(uid='44929', iid='6', r_ui=7.829315462804714, est=7.0, details={'actual_k': 1, 'was_impossible': False}), Prediction(uid='44929', iid='8314', r_ui=7.829315462804714, est=6.0, details={'actual_k': 1, 'was_impossible': False}), Prediction(uid='44929', iid='18179', r_ui=7.829315462804714, est=8.0, details={'actual_k': 1, 'was_impossible': False}), Prediction(uid='52016', iid='8675', r_ui=7.829315462804714, est=8.0, details={'actual_k': 1, 'was_impossible': False}), Prediction(uid='39921', iid='11319', r_ui=7.829315462804714, est=1, details={'actual_k': 1, 'was_impossible': False})]\n"
     ]
    }
   ],
   "source": [
    "valid_predictions = [pred for pred in predictions if not pred.details['was_impossible']]\n",
    "print(valid_predictions[0:5])"
   ]
  },
  {
   "cell_type": "markdown",
   "metadata": {},
   "source": [
    "We now see everyone that every prediction is being made with one neighbour. Checking the RMSE we can see its pretty low:"
   ]
  },
  {
   "cell_type": "code",
   "execution_count": 14,
   "metadata": {},
   "outputs": [
    {
     "name": "stdout",
     "output_type": "stream",
     "text": [
      "RMSE: 0.0012\n",
      "0.001170078553044881\n"
     ]
    }
   ],
   "source": [
    "RMSE_VALUE = accuracy.rmse(predictions)\n",
    "print(RMSE_VALUE)"
   ]
  },
  {
   "cell_type": "markdown",
   "metadata": {},
   "source": [
    "However, this is misleading since surprise only calculates the possible predictions (was_impossible=False). Since most were impossible to make, this becomes a misleading stat. We can further see this by dividing all predictions made and get another sigh of the evaluation:"
   ]
  },
  {
   "cell_type": "code",
   "execution_count": 15,
   "metadata": {},
   "outputs": [
    {
     "name": "stdout",
     "output_type": "stream",
     "text": [
      "Valid predictions: 19\n",
      "All predictions: 59177753\n",
      "rate: 3.2106660082210287e-07\n"
     ]
    }
   ],
   "source": [
    "\n",
    "print(f\"Valid predictions: {len(valid_predictions)}\")\n",
    "print(f\"All predictions: {len(predictions)}\")\n",
    "print(f\"rate: {len(valid_predictions) / len(predictions)}\")"
   ]
  },
  {
   "cell_type": "markdown",
   "metadata": {},
   "source": [
    "We can try changing the number of neighbours but we see not too different results:"
   ]
  },
  {
   "cell_type": "code",
   "execution_count": 16,
   "metadata": {},
   "outputs": [
    {
     "name": "stdout",
     "output_type": "stream",
     "text": [
      "Computing the pearson similarity matrix...\n",
      "Done computing similarity matrix.\n"
     ]
    },
    {
     "data": {
      "text/plain": [
       "<surprise.prediction_algorithms.knns.KNNBasic at 0x11db5eb60>"
      ]
     },
     "execution_count": 16,
     "metadata": {},
     "output_type": "execute_result"
    }
   ],
   "source": [
    "myUserKnn5 = surprise.KNNBasic(k=50, sim_options={'name': 'pearson', 'user_based': True}) \n",
    "myUserKnn5.fit(trainset)"
   ]
  },
  {
   "cell_type": "code",
   "execution_count": 17,
   "metadata": {},
   "outputs": [],
   "source": [
    "predictions = myUserKnn5.test(a_testset)"
   ]
  },
  {
   "cell_type": "code",
   "execution_count": 18,
   "metadata": {},
   "outputs": [
    {
     "name": "stdout",
     "output_type": "stream",
     "text": [
      "[Prediction(uid='44929', iid='6', r_ui=7.829315462804714, est=7.0, details={'actual_k': 1, 'was_impossible': False}), Prediction(uid='44929', iid='8314', r_ui=7.829315462804714, est=6.0, details={'actual_k': 1, 'was_impossible': False}), Prediction(uid='44929', iid='18179', r_ui=7.829315462804714, est=8.0, details={'actual_k': 1, 'was_impossible': False}), Prediction(uid='52016', iid='8675', r_ui=7.829315462804714, est=8.0, details={'actual_k': 1, 'was_impossible': False}), Prediction(uid='39921', iid='11319', r_ui=7.829315462804714, est=1, details={'actual_k': 1, 'was_impossible': False})]\n"
     ]
    }
   ],
   "source": [
    "valid_predictions = [pred for pred in predictions if not pred.details['was_impossible']]\n",
    "print(valid_predictions[0:5])\n"
   ]
  },
  {
   "cell_type": "markdown",
   "metadata": {},
   "source": [
    "Lets check now with 20 neighbours w/ cosine to see if we can get predictions with more than one neighbour, or more valid predictions."
   ]
  },
  {
   "cell_type": "code",
   "execution_count": 19,
   "metadata": {},
   "outputs": [
    {
     "name": "stdout",
     "output_type": "stream",
     "text": [
      "Computing the cosine similarity matrix...\n",
      "Done computing similarity matrix.\n"
     ]
    }
   ],
   "source": [
    "myUserKnn = surprise.KNNBasic(k=20, sim_options={'name': 'cosine', 'user_based': True}) \n",
    "myUserKnn.fit(trainset)\n",
    "predictions = myUserKnn.test(a_testset)"
   ]
  },
  {
   "cell_type": "code",
   "execution_count": 20,
   "metadata": {},
   "outputs": [
    {
     "name": "stdout",
     "output_type": "stream",
     "text": [
      "[Prediction(uid='20881', iid='6956', r_ui=7.829315462804714, est=8.0, details={'actual_k': 1, 'was_impossible': False}), Prediction(uid='20881', iid='437', r_ui=7.829315462804714, est=10, details={'actual_k': 1, 'was_impossible': False}), Prediction(uid='20881', iid='7322', r_ui=7.829315462804714, est=5.0, details={'actual_k': 1, 'was_impossible': False}), Prediction(uid='20881', iid='834', r_ui=7.829315462804714, est=6.0, details={'actual_k': 1, 'was_impossible': False}), Prediction(uid='20881', iid='189', r_ui=7.829315462804714, est=7.0, details={'actual_k': 1, 'was_impossible': False})]\n"
     ]
    }
   ],
   "source": [
    "valid_predictions = [pred for pred in predictions if not pred.details['was_impossible']]\n",
    "print(valid_predictions[0:5])"
   ]
  },
  {
   "cell_type": "code",
   "execution_count": 21,
   "metadata": {},
   "outputs": [
    {
     "name": "stdout",
     "output_type": "stream",
     "text": [
      "Valid predictions: 260546\n",
      "All predictions: 59177753\n",
      "rate: 0.004402769398831348\n"
     ]
    }
   ],
   "source": [
    "\n",
    "print(f\"Valid predictions: {len(valid_predictions)}\")\n",
    "print(f\"All predictions: {len(predictions)}\")\n",
    "print(f\"rate: {len(valid_predictions) / len(predictions)}\")"
   ]
  },
  {
   "cell_type": "markdown",
   "metadata": {},
   "source": [
    "Information was used from these sources\n",
    "https://github.com/NicolasHug/Surprise/blob/master/surprise/prediction_algorithms/knns.py\n",
    "https://surprise.readthedocs.io/en/stable/model_selection.html \n",
    "https://surprise.readthedocs.io/en/stable/knn_inspired.html"
   ]
  }
 ],
 "metadata": {
  "kernelspec": {
   "display_name": "venv",
   "language": "python",
   "name": "python3"
  },
  "language_info": {
   "codemirror_mode": {
    "name": "ipython",
    "version": 3
   },
   "file_extension": ".py",
   "mimetype": "text/x-python",
   "name": "python",
   "nbconvert_exporter": "python",
   "pygments_lexer": "ipython3",
   "version": "3.10.0"
  }
 },
 "nbformat": 4,
 "nbformat_minor": 2
}
