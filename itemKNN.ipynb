{
 "cells": [
  {
   "cell_type": "code",
   "execution_count": null,
   "metadata": {},
   "outputs": [],
   "source": [
    "# TODO: directly install req here?\n",
    "# pip install -r requirements.txt"
   ]
  },
  {
   "cell_type": "code",
   "execution_count": 2,
   "metadata": {},
   "outputs": [],
   "source": [
    "import numpy as np\n",
    "import pandas as pd\n",
    "\n",
    "from collections import defaultdict\n",
    "\n",
    "import surprise\n",
    "from surprise import accuracy\n",
    "from surprise.model_selection import PredefinedKFold"
   ]
  },
  {
   "cell_type": "code",
   "execution_count": null,
   "metadata": {},
   "outputs": [],
   "source": [
    "# TODO: Get dataset from external url"
   ]
  },
  {
   "cell_type": "code",
   "execution_count": 3,
   "metadata": {},
   "outputs": [
    {
     "data": {
      "text/html": [
       "<div>\n",
       "<style scoped>\n",
       "    .dataframe tbody tr th:only-of-type {\n",
       "        vertical-align: middle;\n",
       "    }\n",
       "\n",
       "    .dataframe tbody tr th {\n",
       "        vertical-align: top;\n",
       "    }\n",
       "\n",
       "    .dataframe thead th {\n",
       "        text-align: right;\n",
       "    }\n",
       "</style>\n",
       "<table border=\"1\" class=\"dataframe\">\n",
       "  <thead>\n",
       "    <tr style=\"text-align: right;\">\n",
       "      <th></th>\n",
       "      <th>user_id</th>\n",
       "      <th>item_id</th>\n",
       "      <th>rating</th>\n",
       "    </tr>\n",
       "  </thead>\n",
       "  <tbody>\n",
       "    <tr>\n",
       "      <th>0</th>\n",
       "      <td>20881</td>\n",
       "      <td>1536</td>\n",
       "      <td>9</td>\n",
       "    </tr>\n",
       "    <tr>\n",
       "      <th>1</th>\n",
       "      <td>25996</td>\n",
       "      <td>1241</td>\n",
       "      <td>8</td>\n",
       "    </tr>\n",
       "    <tr>\n",
       "      <th>2</th>\n",
       "      <td>25409</td>\n",
       "      <td>8668</td>\n",
       "      <td>7</td>\n",
       "    </tr>\n",
       "    <tr>\n",
       "      <th>3</th>\n",
       "      <td>29728</td>\n",
       "      <td>6325</td>\n",
       "      <td>5</td>\n",
       "    </tr>\n",
       "    <tr>\n",
       "      <th>4</th>\n",
       "      <td>71886</td>\n",
       "      <td>1887</td>\n",
       "      <td>9</td>\n",
       "    </tr>\n",
       "  </tbody>\n",
       "</table>\n",
       "</div>"
      ],
      "text/plain": [
       "   user_id  item_id  rating\n",
       "0    20881     1536       9\n",
       "1    25996     1241       8\n",
       "2    25409     8668       7\n",
       "3    29728     6325       5\n",
       "4    71886     1887       9"
      ]
     },
     "execution_count": 3,
     "metadata": {},
     "output_type": "execute_result"
    }
   ],
   "source": [
    "# WARNING: ONLY RUN ONCE OR DATA WILL BE ERASED \n",
    "\n",
    "# Instance datasets\n",
    "train_file = pd.read_csv('dataset/train.csv', sep=',', header=0)\n",
    "test_file = pd.read_csv('dataset/validation.csv', sep=',', header=0)\n",
    "anime_file = pd.read_csv('dataset/anime.csv', sep=',', header=0)\n",
    "\n",
    "train_file.to_csv(\"dataset/train.csv\", index=False, header=False)  # Remove 1st row from CSV\n",
    "test_file.to_csv(\"dataset/validation.csv\", index=False, header=False)\n",
    "anime_file.to_csv(\"dataset/anime.csv\", index=False, header=False)\n",
    "\n",
    "train_file = pd.read_csv('dataset/train.csv', names = ['user_id','item_id','rating'] ,sep=',', header=0)\n",
    "test_file = pd.read_csv('dataset/validation.csv', names = ['user_id','item_id','rating'], sep=',', header=0)\n",
    "anime_file = pd.read_csv('dataset/anime.csv', names = ['anime_id','name','genre','type','episodes','rating','members'], sep=',', header=0)\n",
    "\n",
    "train_file.head()"
   ]
  },
  {
   "cell_type": "code",
   "execution_count": 4,
   "metadata": {},
   "outputs": [],
   "source": [
    "# Convert data \n",
    "reader = surprise.Reader(line_format='user item rating', sep=',', rating_scale=(1,10))\n",
    "data = surprise.Dataset.load_from_folds([(\"dataset/train.csv\", \"dataset/validation.csv\")], reader=reader)\n",
    "pkf = PredefinedKFold()\n",
    "trainset, testset = next(pkf.split(data))\n",
    "a_testset = trainset.build_anti_testset()"
   ]
  },
  {
   "cell_type": "code",
   "execution_count": 5,
   "metadata": {},
   "outputs": [
    {
     "name": "stdout",
     "output_type": "stream",
     "text": [
      "Computing the pearson similarity matrix...\n",
      "Done computing similarity matrix.\n"
     ]
    },
    {
     "data": {
      "text/plain": [
       "<surprise.prediction_algorithms.knns.KNNBasic at 0x10540c760>"
      ]
     },
     "execution_count": 5,
     "metadata": {},
     "output_type": "execute_result"
    }
   ],
   "source": [
    "myItemKnn = surprise.KNNBasic(k=7, sim_options={'name': 'pearson', 'user_based': False})\n",
    "myItemKnn.fit(trainset)"
   ]
  },
  {
   "cell_type": "code",
   "execution_count": 6,
   "metadata": {},
   "outputs": [],
   "source": [
    "predictions = myItemKnn.test(a_testset)"
   ]
  },
  {
   "cell_type": "code",
   "execution_count": 7,
   "metadata": {},
   "outputs": [
    {
     "name": "stdout",
     "output_type": "stream",
     "text": [
      "[('14837', 7.829323139194963), ('1536', 7.829323139194963), ('1241', 7.829323139194963), ('8668', 7.829323139194963), ('6325', 7.829323139194963), ('1887', 7.829323139194963), ('258', 7.829323139194963), ('27989', 7.829323139194963), ('1654', 7.829323139194963), ('12049', 7.829323139194963)]\n"
     ]
    }
   ],
   "source": [
    "def get_top_n(predictions, n=10):\n",
    "    \"\"\"Devuelve las N-mejores recomendaciones para cada usuario de un set de predicción.\n",
    "\n",
    "    Args:\n",
    "        predictions(lista de objetos Prediction): La lista de predicción obtenida del método test.\n",
    "        n(int): El número de recomendaciónes por usuario\n",
    "\n",
    "    Returns:\n",
    "    Un diccionario donde las llaves son ids de usuario y los valores son listas de tuplas:\n",
    "        [(item id, rating estimation), ...] de tamaño n.\n",
    "    \"\"\"\n",
    "\n",
    "    # First map the predictions to each user.\n",
    "    top_n = defaultdict(list)\n",
    "    for uid, iid, true_r, est, _ in predictions:\n",
    "        top_n[uid].append((iid, est))\n",
    "\n",
    "    # Then sort the predictions for each user and retrieve the k highest ones.\n",
    "    for uid, user_ratings in top_n.items():\n",
    "        user_ratings.sort(key=lambda x: x[1], reverse=True)\n",
    "        top_n[uid] = user_ratings[:n]\n",
    "\n",
    "    return top_n\n",
    "\n",
    "# Predict top 10 ratings of user 31006\n",
    "top_n = get_top_n(predictions, n=10)\n",
    "print(top_n[\"31006\"])"
   ]
  },
  {
   "cell_type": "code",
   "execution_count": 8,
   "metadata": {},
   "outputs": [
    {
     "name": "stdout",
     "output_type": "stream",
     "text": [
      "RMSE: 0.0064\n",
      "0.006411760937818795\n"
     ]
    }
   ],
   "source": [
    "RMSE_VALUE = accuracy.rmse(predictions)\n",
    "print(RMSE_VALUE)"
   ]
  },
  {
   "cell_type": "markdown",
   "metadata": {},
   "source": [
    "Lets check in depth these results"
   ]
  },
  {
   "cell_type": "code",
   "execution_count": 9,
   "metadata": {},
   "outputs": [
    {
     "name": "stdout",
     "output_type": "stream",
     "text": [
      "[Prediction(uid='68084', iid='1536', r_ui=7.829323139194963, est=7.829323139194963, details={'was_impossible': True, 'reason': 'Not enough neighbors.'}), Prediction(uid='68084', iid='1241', r_ui=7.829323139194963, est=7.829323139194963, details={'was_impossible': True, 'reason': 'Not enough neighbors.'}), Prediction(uid='68084', iid='8668', r_ui=7.829323139194963, est=7.829323139194963, details={'was_impossible': True, 'reason': 'Not enough neighbors.'}), Prediction(uid='68084', iid='6325', r_ui=7.829323139194963, est=7.829323139194963, details={'was_impossible': True, 'reason': 'Not enough neighbors.'}), Prediction(uid='68084', iid='1887', r_ui=7.829323139194963, est=7.829323139194963, details={'was_impossible': True, 'reason': 'Not enough neighbors.'})]\n"
     ]
    }
   ],
   "source": [
    "print(predictions[0:5])"
   ]
  },
  {
   "cell_type": "code",
   "execution_count": 10,
   "metadata": {},
   "outputs": [
    {
     "name": "stdout",
     "output_type": "stream",
     "text": [
      "[Prediction(uid='46414', iid='20159', r_ui=7.829323139194963, est=5.0, details={'actual_k': 1, 'was_impossible': False}), Prediction(uid='67409', iid='8675', r_ui=7.829323139194963, est=7.0, details={'actual_k': 1, 'was_impossible': False}), Prediction(uid='32545', iid='31737', r_ui=7.829323139194963, est=7.0, details={'actual_k': 1, 'was_impossible': False}), Prediction(uid='70120', iid='27899', r_ui=7.829323139194963, est=7.0, details={'actual_k': 1, 'was_impossible': False}), Prediction(uid='31874', iid='21561', r_ui=7.829323139194963, est=10, details={'actual_k': 1, 'was_impossible': False})]\n"
     ]
    }
   ],
   "source": [
    "valid_predictions = [pred for pred in predictions if not pred.details['was_impossible']]\n",
    "print(valid_predictions[0:5])"
   ]
  },
  {
   "cell_type": "code",
   "execution_count": null,
   "metadata": {},
   "outputs": [
    {
     "name": "stdout",
     "output_type": "stream",
     "text": [
      "Valid predictions: 1097\n",
      "All predictions: 59177752\n",
      "rate: 1.8537371950188306e-05\n"
     ]
    }
   ],
   "source": [
    "print(f\"Valid predictions: {len(valid_predictions)}\")\n",
    "print(f\"All predictions: {len(predictions)}\")\n",
    "print(f\"rate: {len(valid_predictions) / len(predictions)}\")"
   ]
  },
  {
   "cell_type": "markdown",
   "metadata": {},
   "source": [
    "We see that the situation with UserKNN happened again. Lets try to modify the parameters to have more valid predictions."
   ]
  },
  {
   "cell_type": "code",
   "execution_count": 14,
   "metadata": {},
   "outputs": [
    {
     "name": "stdout",
     "output_type": "stream",
     "text": [
      "Computing the cosine similarity matrix...\n",
      "Done computing similarity matrix.\n"
     ]
    }
   ],
   "source": [
    "myItemKnn = surprise.KNNBasic(k=5, sim_options={'name': 'cosine', 'user_based': False})\n",
    "myItemKnn.fit(trainset)\n",
    "predictions = myItemKnn.test(a_testset)"
   ]
  },
  {
   "cell_type": "code",
   "execution_count": 15,
   "metadata": {},
   "outputs": [
    {
     "name": "stdout",
     "output_type": "stream",
     "text": [
      "[Prediction(uid='68084', iid='1536', r_ui=7.829323139194963, est=7.829323139194963, details={'was_impossible': True, 'reason': 'Not enough neighbors.'}), Prediction(uid='68084', iid='1241', r_ui=7.829323139194963, est=7.829323139194963, details={'was_impossible': True, 'reason': 'Not enough neighbors.'}), Prediction(uid='68084', iid='8668', r_ui=7.829323139194963, est=7.829323139194963, details={'was_impossible': True, 'reason': 'Not enough neighbors.'}), Prediction(uid='68084', iid='6325', r_ui=7.829323139194963, est=7.829323139194963, details={'was_impossible': True, 'reason': 'Not enough neighbors.'}), Prediction(uid='68084', iid='1887', r_ui=7.829323139194963, est=7.829323139194963, details={'was_impossible': True, 'reason': 'Not enough neighbors.'})]\n"
     ]
    }
   ],
   "source": [
    "print(predictions[0:5])"
   ]
  },
  {
   "cell_type": "code",
   "execution_count": 16,
   "metadata": {},
   "outputs": [
    {
     "name": "stdout",
     "output_type": "stream",
     "text": [
      "[Prediction(uid='68084', iid='21881', r_ui=7.829323139194963, est=8.0, details={'actual_k': 1, 'was_impossible': False}), Prediction(uid='68084', iid='9731', r_ui=7.829323139194963, est=8.0, details={'actual_k': 1, 'was_impossible': False}), Prediction(uid='68084', iid='14713', r_ui=7.829323139194963, est=8.0, details={'actual_k': 1, 'was_impossible': False}), Prediction(uid='68084', iid='30503', r_ui=7.829323139194963, est=8.0, details={'actual_k': 1, 'was_impossible': False}), Prediction(uid='68084', iid='2889', r_ui=7.829323139194963, est=8.0, details={'actual_k': 1, 'was_impossible': False})]\n"
     ]
    }
   ],
   "source": [
    "valid_predictions = [pred for pred in predictions if not pred.details['was_impossible']]\n",
    "print(valid_predictions[0:5])"
   ]
  },
  {
   "cell_type": "code",
   "execution_count": 17,
   "metadata": {},
   "outputs": [
    {
     "name": "stdout",
     "output_type": "stream",
     "text": [
      "Valid predictions: 260592\n",
      "All predictions: 59177752\n",
      "rate: 0.0044035467923823806\n"
     ]
    }
   ],
   "source": [
    "print(f\"Valid predictions: {len(valid_predictions)}\")\n",
    "print(f\"All predictions: {len(predictions)}\")\n",
    "print(f\"rate: {len(valid_predictions) / len(predictions)}\")"
   ]
  }
 ],
 "metadata": {
  "kernelspec": {
   "display_name": "venv",
   "language": "python",
   "name": "python3"
  },
  "language_info": {
   "codemirror_mode": {
    "name": "ipython",
    "version": 3
   },
   "file_extension": ".py",
   "mimetype": "text/x-python",
   "name": "python",
   "nbconvert_exporter": "python",
   "pygments_lexer": "ipython3",
   "version": "3.10.0"
  }
 },
 "nbformat": 4,
 "nbformat_minor": 2
}
