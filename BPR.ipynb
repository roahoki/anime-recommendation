{
 "cells": [
  {
   "cell_type": "code",
   "execution_count": 54,
   "metadata": {},
   "outputs": [],
   "source": [
    "import pandas as pd\n",
    "import numpy as np\n",
    "import implicit\n",
    "import scipy.sparse as sparse\n",
    "from collections import Counter\n",
    "import math"
   ]
  },
  {
   "cell_type": "code",
   "execution_count": 55,
   "metadata": {},
   "outputs": [],
   "source": [
    "# Primero creamos el dataframe con los datos\n",
    "df_train = pd.read_csv('dataset/train.csv',\n",
    "                         sep=',',\n",
    "                         names = ['user_id','item_id','rating'],\n",
    "                         header=0)\n",
    "\n",
    "# rating >= 5 , relevante (1) y rating menor a 5 es no relevante (0)\n",
    "df_train.rating = [1 if x >=5 else 0 for x in df_train.rating ]"
   ]
  },
  {
   "cell_type": "code",
   "execution_count": 56,
   "metadata": {},
   "outputs": [
    {
     "data": {
      "text/html": [
       "<div>\n",
       "<style scoped>\n",
       "    .dataframe tbody tr th:only-of-type {\n",
       "        vertical-align: middle;\n",
       "    }\n",
       "\n",
       "    .dataframe tbody tr th {\n",
       "        vertical-align: top;\n",
       "    }\n",
       "\n",
       "    .dataframe thead th {\n",
       "        text-align: right;\n",
       "    }\n",
       "</style>\n",
       "<table border=\"1\" class=\"dataframe\">\n",
       "  <thead>\n",
       "    <tr style=\"text-align: right;\">\n",
       "      <th></th>\n",
       "      <th>user_id</th>\n",
       "      <th>item_id</th>\n",
       "      <th>rating</th>\n",
       "    </tr>\n",
       "  </thead>\n",
       "  <tbody>\n",
       "    <tr>\n",
       "      <th>0</th>\n",
       "      <td>40748</td>\n",
       "      <td>9926</td>\n",
       "      <td>0</td>\n",
       "    </tr>\n",
       "    <tr>\n",
       "      <th>1</th>\n",
       "      <td>35757</td>\n",
       "      <td>79</td>\n",
       "      <td>1</td>\n",
       "    </tr>\n",
       "    <tr>\n",
       "      <th>2</th>\n",
       "      <td>18266</td>\n",
       "      <td>51</td>\n",
       "      <td>0</td>\n",
       "    </tr>\n",
       "    <tr>\n",
       "      <th>3</th>\n",
       "      <td>31006</td>\n",
       "      <td>8795</td>\n",
       "      <td>1</td>\n",
       "    </tr>\n",
       "    <tr>\n",
       "      <th>4</th>\n",
       "      <td>68084</td>\n",
       "      <td>14837</td>\n",
       "      <td>1</td>\n",
       "    </tr>\n",
       "  </tbody>\n",
       "</table>\n",
       "</div>"
      ],
      "text/plain": [
       "   user_id  item_id  rating\n",
       "0    40748     9926       0\n",
       "1    35757       79       1\n",
       "2    18266       51       0\n",
       "3    31006     8795       1\n",
       "4    68084    14837       1"
      ]
     },
     "execution_count": 56,
     "metadata": {},
     "output_type": "execute_result"
    }
   ],
   "source": [
    "df_train.head()"
   ]
  },
  {
   "cell_type": "code",
   "execution_count": 57,
   "metadata": {},
   "outputs": [],
   "source": [
    "# Cargamos el dataset con los items\n",
    "df_items = pd.read_csv('dataset/anime.csv',\n",
    "                        sep=',',\n",
    "                        names = ['anime_id','name','genre','type','episodes','rating','members'],\n",
    "                        header=0)"
   ]
  },
  {
   "cell_type": "code",
   "execution_count": 58,
   "metadata": {},
   "outputs": [
    {
     "data": {
      "text/html": [
       "<div>\n",
       "<style scoped>\n",
       "    .dataframe tbody tr th:only-of-type {\n",
       "        vertical-align: middle;\n",
       "    }\n",
       "\n",
       "    .dataframe tbody tr th {\n",
       "        vertical-align: top;\n",
       "    }\n",
       "\n",
       "    .dataframe thead th {\n",
       "        text-align: right;\n",
       "    }\n",
       "</style>\n",
       "<table border=\"1\" class=\"dataframe\">\n",
       "  <thead>\n",
       "    <tr style=\"text-align: right;\">\n",
       "      <th></th>\n",
       "      <th>anime_id</th>\n",
       "      <th>name</th>\n",
       "      <th>genre</th>\n",
       "      <th>type</th>\n",
       "      <th>episodes</th>\n",
       "      <th>rating</th>\n",
       "      <th>members</th>\n",
       "    </tr>\n",
       "  </thead>\n",
       "  <tbody>\n",
       "    <tr>\n",
       "      <th>0</th>\n",
       "      <td>32281</td>\n",
       "      <td>Kimi no Na wa.</td>\n",
       "      <td>Drama, Romance, School, Supernatural</td>\n",
       "      <td>Movie</td>\n",
       "      <td>1</td>\n",
       "      <td>9.37</td>\n",
       "      <td>200630</td>\n",
       "    </tr>\n",
       "    <tr>\n",
       "      <th>1</th>\n",
       "      <td>5114</td>\n",
       "      <td>Fullmetal Alchemist: Brotherhood</td>\n",
       "      <td>Action, Adventure, Drama, Fantasy, Magic, Mili...</td>\n",
       "      <td>TV</td>\n",
       "      <td>64</td>\n",
       "      <td>9.26</td>\n",
       "      <td>793665</td>\n",
       "    </tr>\n",
       "    <tr>\n",
       "      <th>2</th>\n",
       "      <td>28977</td>\n",
       "      <td>Gintama°</td>\n",
       "      <td>Action, Comedy, Historical, Parody, Samurai, S...</td>\n",
       "      <td>TV</td>\n",
       "      <td>51</td>\n",
       "      <td>9.25</td>\n",
       "      <td>114262</td>\n",
       "    </tr>\n",
       "    <tr>\n",
       "      <th>3</th>\n",
       "      <td>9253</td>\n",
       "      <td>Steins;Gate</td>\n",
       "      <td>Sci-Fi, Thriller</td>\n",
       "      <td>TV</td>\n",
       "      <td>24</td>\n",
       "      <td>9.17</td>\n",
       "      <td>673572</td>\n",
       "    </tr>\n",
       "    <tr>\n",
       "      <th>4</th>\n",
       "      <td>9969</td>\n",
       "      <td>Gintama&amp;#039;</td>\n",
       "      <td>Action, Comedy, Historical, Parody, Samurai, S...</td>\n",
       "      <td>TV</td>\n",
       "      <td>51</td>\n",
       "      <td>9.16</td>\n",
       "      <td>151266</td>\n",
       "    </tr>\n",
       "  </tbody>\n",
       "</table>\n",
       "</div>"
      ],
      "text/plain": [
       "   anime_id                              name  \\\n",
       "0     32281                    Kimi no Na wa.   \n",
       "1      5114  Fullmetal Alchemist: Brotherhood   \n",
       "2     28977                          Gintama°   \n",
       "3      9253                       Steins;Gate   \n",
       "4      9969                     Gintama&#039;   \n",
       "\n",
       "                                               genre   type episodes  rating  \\\n",
       "0               Drama, Romance, School, Supernatural  Movie        1    9.37   \n",
       "1  Action, Adventure, Drama, Fantasy, Magic, Mili...     TV       64    9.26   \n",
       "2  Action, Comedy, Historical, Parody, Samurai, S...     TV       51    9.25   \n",
       "3                                   Sci-Fi, Thriller     TV       24    9.17   \n",
       "4  Action, Comedy, Historical, Parody, Samurai, S...     TV       51    9.16   \n",
       "\n",
       "   members  \n",
       "0   200630  \n",
       "1   793665  \n",
       "2   114262  \n",
       "3   673572  \n",
       "4   151266  "
      ]
     },
     "execution_count": 58,
     "metadata": {},
     "output_type": "execute_result"
    }
   ],
   "source": [
    "df_items.head()"
   ]
  },
  {
   "cell_type": "code",
   "execution_count": 59,
   "metadata": {},
   "outputs": [],
   "source": [
    "# Cargamos el dataset de testing\n",
    "df_test = pd.read_csv('dataset/validation.csv',\n",
    "                      sep=',',\n",
    "                      names=['userid', 'itemid', 'rating'],\n",
    "                      header=0)\n",
    "\n",
    "\n",
    "# rating >= 5 es relevante (1) y rating menor a 5 es no relevante (0)\n",
    "df_test.rating = [1 if x >=5 else 0 for x in df_test.rating ]\n",
    "\n",
    "\n",
    "user_items_test = {}\n",
    "\n",
    "for row in df_test.itertuples():\n",
    "    if row[1] not in user_items_test:\n",
    "        user_items_test[row[1]] = []\n",
    "\n",
    "    user_items_test[row[1]].append(row[2])"
   ]
  },
  {
   "cell_type": "code",
   "execution_count": 60,
   "metadata": {},
   "outputs": [
    {
     "data": {
      "text/html": [
       "<div>\n",
       "<style scoped>\n",
       "    .dataframe tbody tr th:only-of-type {\n",
       "        vertical-align: middle;\n",
       "    }\n",
       "\n",
       "    .dataframe tbody tr th {\n",
       "        vertical-align: top;\n",
       "    }\n",
       "\n",
       "    .dataframe thead th {\n",
       "        text-align: right;\n",
       "    }\n",
       "</style>\n",
       "<table border=\"1\" class=\"dataframe\">\n",
       "  <thead>\n",
       "    <tr style=\"text-align: right;\">\n",
       "      <th></th>\n",
       "      <th>userid</th>\n",
       "      <th>itemid</th>\n",
       "      <th>rating</th>\n",
       "    </tr>\n",
       "  </thead>\n",
       "  <tbody>\n",
       "    <tr>\n",
       "      <th>0</th>\n",
       "      <td>25810</td>\n",
       "      <td>4789</td>\n",
       "      <td>1</td>\n",
       "    </tr>\n",
       "    <tr>\n",
       "      <th>1</th>\n",
       "      <td>39393</td>\n",
       "      <td>6275</td>\n",
       "      <td>1</td>\n",
       "    </tr>\n",
       "    <tr>\n",
       "      <th>2</th>\n",
       "      <td>2282</td>\n",
       "      <td>8675</td>\n",
       "      <td>1</td>\n",
       "    </tr>\n",
       "    <tr>\n",
       "      <th>3</th>\n",
       "      <td>18797</td>\n",
       "      <td>237</td>\n",
       "      <td>1</td>\n",
       "    </tr>\n",
       "    <tr>\n",
       "      <th>4</th>\n",
       "      <td>39248</td>\n",
       "      <td>2472</td>\n",
       "      <td>1</td>\n",
       "    </tr>\n",
       "  </tbody>\n",
       "</table>\n",
       "</div>"
      ],
      "text/plain": [
       "   userid  itemid  rating\n",
       "0   25810    4789       1\n",
       "1   39393    6275       1\n",
       "2    2282    8675       1\n",
       "3   18797     237       1\n",
       "4   39248    2472       1"
      ]
     },
     "execution_count": 60,
     "metadata": {},
     "output_type": "execute_result"
    }
   ],
   "source": [
    "df_test.head()"
   ]
  },
  {
   "cell_type": "code",
   "execution_count": 61,
   "metadata": {},
   "outputs": [],
   "source": [
    "# Definicion de métricas (No editar)\n",
    "# Inspirado parcialmente en https://gist.github.com/bwhite/3726239\n",
    "\n",
    "def precision_at_k(r, k):\n",
    "    assert 1 <= k <= r.size\n",
    "    return (np.asarray(r)[:k] != 0).mean()\n",
    "\n",
    "def average_precision_at_k(r, k):\n",
    "    r = np.asarray(r)\n",
    "    score = 0.\n",
    "    for i in range(min(k, r.size)):\n",
    "        score += precision_at_k(r, i + 1)\n",
    "    return score / k\n",
    "\n",
    "def dcg_at_k(r, k):\n",
    "    r = np.asarray(r)[:k]\n",
    "    if r.size:\n",
    "        return np.sum(np.subtract(np.power(2, r), 1) / np.log2(np.arange(2, r.size + 2)))\n",
    "    return 0.\n",
    "\n",
    "\n",
    "def ndcg_at_k(r, k):\n",
    "    idcg = dcg_at_k(sorted(r, reverse=True), k)\n",
    "\n",
    "    if not idcg:\n",
    "        return 0.\n",
    "    return dcg_at_k(r, k) / idcg\n",
    "\n",
    "def recall_at_k(r, k):\n",
    "    return np.sum(np.asarray(r)[:k] != 0) / min(k, len(r))\n",
    "\n",
    "def diversity(recommendations):\n",
    "    all_recs = [item for recs in recommendations.values() for item in recs]\n",
    "    unique_items = set(all_recs)\n",
    "    total_recs = len(all_recs)\n",
    "    return len(unique_items) / total_recs if total_recs > 0 else 0\n",
    "\n",
    "def calculate_novelty(recommendations, train_df=df_train):\n",
    "    \"\"\"Calcula la novelty como el promedio de -log(popularidad) de los ítems recomendados.\"\"\"\n",
    "    item_counts = Counter(train_df['item_id'])\n",
    "    total_interactions = sum(item_counts.values())\n",
    "\n",
    "    novelty_scores = []\n",
    "    for user, rec_items in recommendations.items():\n",
    "        for item in rec_items:\n",
    "            count = item_counts.get(item, 1)\n",
    "            prob = count / total_interactions\n",
    "            novelty = -math.log(prob)\n",
    "            novelty_scores.append(novelty)\n",
    "\n",
    "    return np.mean(novelty_scores) if novelty_scores else 0\n"
   ]
  },
  {
   "cell_type": "code",
   "execution_count": 62,
   "metadata": {},
   "outputs": [],
   "source": [
    "# Preprocesamiento de los datos a formato sparse\n",
    "# Change data to map index from 0 \n",
    "unique_user_ids = df_train['user_id'].unique()\n",
    "unique_item_ids = df_train['item_id'].unique()\n",
    "\n",
    "user_id_map = {uid: idx for idx, uid in enumerate(unique_user_ids)}\n",
    "item_id_map = {iid: idx for idx, iid in enumerate(unique_item_ids)}\n",
    "\n",
    "rows = []\n",
    "cols = []\n",
    "data = []\n",
    "\n",
    "for row in df_train.itertuples(index=False):\n",
    "    user_idx = user_id_map[row.user_id]\n",
    "    item_idx = item_id_map[row.item_id]\n",
    "\n",
    "    rows.append(user_idx)\n",
    "    cols.append(item_idx)\n",
    "    data.append(1) \n",
    "\n",
    "user_item_matrix = sparse.csr_matrix((data, (rows, cols)), shape=(len(user_id_map), len(item_id_map)))"
   ]
  },
  {
   "cell_type": "code",
   "execution_count": 63,
   "metadata": {},
   "outputs": [],
   "source": [
    "def evaluate_model(model, n):\n",
    "    mean_ap = 0.  \n",
    "    mean_ndcg = 0.\n",
    "    mean_recall = 0.\n",
    "    recommendations = {}  \n",
    "\n",
    "    for u in user_items_test.keys():\n",
    "        if u not in user_id_map:\n",
    "            continue  \n",
    "\n",
    "        u_idx = user_id_map[u] \n",
    "        rec = model.recommend(u_idx, user_item_matrix[u_idx], n)[0]\n",
    "        rec_items = [item for item in rec]  \n",
    "        recommendations[u] = rec_items\n",
    "        \n",
    "        rel_vector = [np.isin(user_items_test[u], rec_items, assume_unique=True).astype(int)]\n",
    "\n",
    "        mean_ap += average_precision_at_k(rel_vector, n)\n",
    "        mean_ndcg += ndcg_at_k(rel_vector, n)\n",
    "        mean_recall += recall_at_k(rel_vector, n)\n",
    "\n",
    "    mean_ap /= len(user_items_test)\n",
    "    mean_ndcg /= len(user_items_test)\n",
    "    mean_recall /= len(user_items_test)\n",
    "\n",
    "    diversity_score = diversity(recommendations)\n",
    "    novelty_score = calculate_novelty(recommendations)\n",
    "\n",
    "    return mean_ap, mean_ndcg, mean_recall, diversity_score, novelty_score\n",
    "\n",
    "def show_recommendations(model, user, n):\n",
    "  recommendations = model.recommend(userid=user, user_items=user_item_matrix[user], N=n)[0]\n",
    "  return df_items.loc[recommendations]['name']\n",
    "\n",
    "def show_similar_movies(model, item, n=10):\n",
    "  sim_items = model.similar_items(item, n)[0]\n",
    "  return df_items.loc[sim_items]['name']"
   ]
  },
  {
   "cell_type": "code",
   "execution_count": 79,
   "metadata": {},
   "outputs": [
    {
     "data": {
      "application/vnd.jupyter.widget-view+json": {
       "model_id": "2ad8c5fa7a014e678b08b145f86f4960",
       "version_major": 2,
       "version_minor": 0
      },
      "text/plain": [
       "  0%|          | 0/10 [00:00<?, ?it/s]"
      ]
     },
     "metadata": {},
     "output_type": "display_data"
    }
   ],
   "source": [
    "# Definimos y entrenamos el modelo de implicit feedback utilizando optimizacion BPR, probamos primero con una iteracion rapida\n",
    "model_bpr = implicit.bpr.BayesianPersonalizedRanking(factors=100, iterations=10, use_gpu=False)\n",
    "model_bpr.fit(user_item_matrix)"
   ]
  },
  {
   "cell_type": "code",
   "execution_count": 80,
   "metadata": {},
   "outputs": [
    {
     "data": {
      "text/plain": [
       "127     Fate/stay night: Unlimited Blade Works 2nd Season\n",
       "771                                        Romeo x Juliet\n",
       "610                        Hidamari Sketch x ☆☆☆ Specials\n",
       "103                                   Major: World Series\n",
       "663                                     Master Keaton OVA\n",
       "257          JoJo no Kimyou na Bouken: Stardust Crusaders\n",
       "484               xxxHOLiC Movie: Manatsu no Yoru no Yume\n",
       "275                                    Durarara!!x2 Ketsu\n",
       "2641                           Fantastic Children Special\n",
       "738                                   Soukou Kihei Votoms\n",
       "Name: name, dtype: object"
      ]
     },
     "execution_count": 80,
     "metadata": {},
     "output_type": "execute_result"
    }
   ],
   "source": [
    "show_recommendations(model_bpr, user=1, n=10)"
   ]
  },
  {
   "cell_type": "code",
   "execution_count": 81,
   "metadata": {},
   "outputs": [
    {
     "data": {
      "text/plain": [
       "171                            Gintama: Shiroyasha Koutan\n",
       "123                                      Nodame Cantabile\n",
       "127     Fate/stay night: Unlimited Blade Works 2nd Season\n",
       "2641                           Fantastic Children Special\n",
       "2232                                    Inazuma Eleven Go\n",
       "2084                                       Mai-Otome Zwei\n",
       "561                                      Lupin III (2015)\n",
       "1414                                      Gunslinger Girl\n",
       "257          JoJo no Kimyou na Bouken: Stardust Crusaders\n",
       "1440                     Chouyaku Hyakuninisshu: Uta Koi.\n",
       "Name: name, dtype: object"
      ]
     },
     "execution_count": 81,
     "metadata": {},
     "output_type": "execute_result"
    }
   ],
   "source": [
    "show_similar_movies(model_bpr, item=171, n=10)"
   ]
  },
  {
   "cell_type": "code",
   "execution_count": 82,
   "metadata": {},
   "outputs": [
    {
     "name": "stdout",
     "output_type": "stream",
     "text": [
      "MAP@10: 0.00009857\n",
      "NDCG@10: 0.0010\n",
      "Recall@10: 0.0010\n",
      "Diversity: 0.0005\n",
      "Novelty: 9.9001\n"
     ]
    }
   ],
   "source": [
    "map_bpr, ndcg_bpr, recall_bpr, div_bpr, nov_bpr = evaluate_model(model_bpr, n=10)\n",
    "\n",
    "print(f\"MAP@10: {map_bpr:.8f}\")\n",
    "print(f\"NDCG@10: {ndcg_bpr:.4f}\")\n",
    "print(f\"Recall@10: {recall_bpr:.4f}\")\n",
    "print(f\"Diversity: {div_bpr:.4f}\")\n",
    "print(f\"Novelty: {nov_bpr:.4f}\")"
   ]
  },
  {
   "cell_type": "code",
   "execution_count": 86,
   "metadata": {},
   "outputs": [
    {
     "data": {
      "application/vnd.jupyter.widget-view+json": {
       "model_id": "3f28d10f75c644649f2de6d36159872d",
       "version_major": 2,
       "version_minor": 0
      },
      "text/plain": [
       "  0%|          | 0/5 [00:00<?, ?it/s]"
      ]
     },
     "metadata": {},
     "output_type": "display_data"
    }
   ],
   "source": [
    "model_bpr = implicit.bpr.BayesianPersonalizedRanking(factors=500, iterations=5, use_gpu=False)\n",
    "model_bpr.fit(user_item_matrix)"
   ]
  },
  {
   "cell_type": "code",
   "execution_count": 87,
   "metadata": {},
   "outputs": [
    {
     "name": "stdout",
     "output_type": "stream",
     "text": [
      "MAP@10: 0.00014786\n",
      "NDCG@10: 0.00148\n",
      "Recall@10: 0.00148\n",
      "Diversity: 0.00059\n",
      "Novelty: 8.77784\n"
     ]
    }
   ],
   "source": [
    "map_bpr, ndcg_bpr, recall_bpr, div_bpr, nov_bpr = evaluate_model(model_bpr, n=10)\n",
    "\n",
    "print(f\"MAP@10: {map_bpr:.8f}\")\n",
    "print(f\"NDCG@10: {ndcg_bpr:.5f}\")\n",
    "print(f\"Recall@10: {recall_bpr:.5f}\")\n",
    "print(f\"Diversity: {div_bpr:.5f}\")\n",
    "print(f\"Novelty: {nov_bpr:.5f}\")"
   ]
  },
  {
   "cell_type": "code",
   "execution_count": 88,
   "metadata": {},
   "outputs": [
    {
     "data": {
      "application/vnd.jupyter.widget-view+json": {
       "model_id": "fbbe4a5786da4e4a80dba9298b445fc6",
       "version_major": 2,
       "version_minor": 0
      },
      "text/plain": [
       "  0%|          | 0/30 [00:00<?, ?it/s]"
      ]
     },
     "metadata": {},
     "output_type": "display_data"
    }
   ],
   "source": [
    "model_bpr = implicit.bpr.BayesianPersonalizedRanking(factors=250, iterations=30, use_gpu=False)\n",
    "model_bpr.fit(user_item_matrix)"
   ]
  },
  {
   "cell_type": "code",
   "execution_count": 89,
   "metadata": {},
   "outputs": [
    {
     "name": "stdout",
     "output_type": "stream",
     "text": [
      "MAP@10: 0.00004929\n",
      "NDCG@10: 0.00049\n",
      "Recall@10: 0.00049\n",
      "Diversity: 0.00054\n",
      "Novelty: 9.79116\n"
     ]
    }
   ],
   "source": [
    "map_bpr, ndcg_bpr, recall_bpr, div_bpr, nov_bpr = evaluate_model(model_bpr, n=10)\n",
    "\n",
    "print(f\"MAP@10: {map_bpr:.8f}\")\n",
    "print(f\"NDCG@10: {ndcg_bpr:.5f}\")\n",
    "print(f\"Recall@10: {recall_bpr:.5f}\")\n",
    "print(f\"Diversity: {div_bpr:.5f}\")\n",
    "print(f\"Novelty: {nov_bpr:.5f}\")"
   ]
  }
 ],
 "metadata": {
  "kernelspec": {
   "display_name": "venv",
   "language": "python",
   "name": "python3"
  },
  "language_info": {
   "codemirror_mode": {
    "name": "ipython",
    "version": 3
   },
   "file_extension": ".py",
   "mimetype": "text/x-python",
   "name": "python",
   "nbconvert_exporter": "python",
   "pygments_lexer": "ipython3",
   "version": "3.10.0"
  }
 },
 "nbformat": 4,
 "nbformat_minor": 2
}
